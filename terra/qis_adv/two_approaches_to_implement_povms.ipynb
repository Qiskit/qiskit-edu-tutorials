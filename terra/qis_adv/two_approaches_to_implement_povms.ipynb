{
 "cells": [
  {
   "cell_type": "markdown",
   "metadata": {},
   "source": [
    "# Implementing generalized measurements with mid-circuit measurements\n",
    "\n",
    "**Contributors:** Alireza Seif, Derek Wang, Gideon Uchehara, Peter Ivashkov\n",
    "\n",
    "## Introduction <a id='intro'></a>\n",
    "\n",
    "Implementing generalized measurements in the form of positive operator valued measurements (POVM) is non-trivial, and to this end, several methods have been proposed. To compare contrasting approaches, we focus on two methods: Naimark's extension and the binary tree search methods, which significantly differ in terms of their scaling with the size of the POVM set and the hardware resources necessary to implement them.\n",
    "\n",
    "In this tutorial, we first introduce the theory behind generalized measurements and show how they can be implemented in Qiskit using Naimark's extension. After that, we demonstrate the implementation of the binary search tree approach using the protocol described by [Andersson and Oi](https://arxiv.org/abs/0712.2665) for a tetrad POVM using a single auxiliary qubit, thus demonstrating a promising application of mid-circuit measurements and feed-forward capabilities of near-term quantum devices."
   ]
  },
  {
   "cell_type": "markdown",
   "metadata": {},
   "source": [
    "## Defining classes and functions <a id='beginning'></a>\n",
    "\n",
    "To be able to follow this notebook, please first go to the [implementation section](#implementation) and execute two cells containing Python implementations of binary search and Naimark's algorithms. These sections define necessary classes and functions that will be used later in the notebook. After that, you can return to this section and continue with the notebook."
   ]
  },
  {
   "cell_type": "markdown",
   "metadata": {},
   "source": [
    "## Understanding generalized measurements <a id='povm'></a>\n",
    "\n",
    "Generalized measurement or [POVM](https://en.wikipedia.org/wiki/POVM) is the most general kind of measurement in quantum mechanics. Formally, POVM is a set of measurement operators $\\{ M_a\\}$ which are Hermitian ($M_a^\\dagger = M_a$), positive ($\\bra{\\psi} M_a \\ket{\\psi} \\ge 0$), and complete ($\\sum_a M_a = I$). However, notice that POVM operators are, in general, not orthogonal projectors, i.e., $M_i M_j \\neq \\delta_{ij} M_i$,  in contrast to standard projective measurements. The probability of measuring outcome $a$ of the POVM is given by Born's rule as $p(a) = Tr(\\rho M_a)$. Finally, the post-measurement state upon getting an outcome $M_a$ is $\\rho_{post} = \\frac{m_a \\rho m_a^\\dagger}{Tr(\\rho M_a)}$, where $m_a$ are the coresponding Kraus operators, i.e., $m_a^\\dagger m_a = M_a$.\n",
    "\n",
    "POVMs are, in fact, a generalization of projective measurements. They can be implemented by performing a projective measurement on the joint state of the system of interest coupled to an auxiliary system by a suitable unitary operation. POVMs are extensively used in quantum information processing. For instance, with POVMs, one can perform unambiguous state discrimination. The focus of this tutorial is the efficient implementation of POVMs."
   ]
  },
  {
   "cell_type": "markdown",
   "metadata": {},
   "source": [
    "## Tetrad POVM: proof of concept <a id='tetrad-povm'></a>\n",
    "First, let's examine our POVM of interest - the tetrad POVM. This POVM is a symmetric informationally complete POVM (SIC-POVM) on a single qubit. Tetrad POVM has four elements $\\{ M_i = \\ket{\\psi_i}\\bra{\\psi_i} \\}_{i=0}^3$, where $\\ket{\\psi_i}$ are given as follows:\n",
    "\n",
    "$$\\ket{\\psi_0} = \\frac{1}{\\sqrt{2}}\\ket{0}$$\n",
    "\n",
    "$$\\ket{\\psi_1} = \\frac{1}{\\sqrt{6}}(\\ket{0} + \\sqrt{2}e^{2\\pi i/3}\\ket{1})$$\n",
    "\n",
    "$$\\ket{\\psi_2} = \\frac{1}{\\sqrt{6}}\\ket{0} + \\sqrt{2}e^{4\\pi i/3}\\ket{1})$$\n",
    "\n",
    "$$\\ket{\\psi_3} = \\frac{1}{\\sqrt{6}}(\\ket{0} + \\sqrt{2}\\ket{1})$$\n",
    "\n",
    "One can implement this POVM using Neumark's extension with a single auxiliary qubit and one projective measurement. Therefore, we wouldn't expect the binary tree approach to provide any improvement in terms of required ancilla qubits. We will nevertheless use this simple case POVM to demonstrate both algorithms.\n",
    "\n",
    "One can easily verify that this POVM satisfies the requirements for a [SIC-POVM](https://en.wikipedia.org/wiki/SIC-POVM). The state vectors can be represented on the Bloch sphere:\n",
    "\n",
    "![tetrad_povm](https://raw.githubusercontent.com/petr-ivashkov/qamp-generalized-measurements-img/master/Images/tetrad_povm.png)"
   ]
  },
  {
   "cell_type": "markdown",
   "metadata": {},
   "source": [
    "Let's define our POVM and the initial state of the system. Note that in our case, we have chosen the initial state to be $\\ket{0}$ for simplicity. The implementation, however, works for any other initial state. We refer to POVM as a list of its measurement operators."
   ]
  },
  {
   "cell_type": "code",
   "execution_count": 6,
   "metadata": {},
   "outputs": [],
   "source": [
    "import numpy as np\n",
    "from cmath import pi, sqrt, exp\n",
    "\n",
    "# Define the set of vectors on the Bloch sphere\n",
    "psi_0 = np.array([[1/sqrt(2)],[0]])\n",
    "psi_1 = np.array([[1],[sqrt(2)*exp(2j*pi/3)]])/sqrt(6)\n",
    "psi_2 = np.array([[1],[sqrt(2)*exp(4j*pi/3)]])/sqrt(6)\n",
    "psi_3 = np.array([[1],[sqrt(2)]])/sqrt(6)\n",
    "\n",
    "# POVM elements are given as M_i = |psi_i><psi_i|\n",
    "M0 = psi_0@psi_0.conj().T\n",
    "M1 = psi_1@psi_1.conj().T\n",
    "M2 = psi_2@psi_2.conj().T\n",
    "M3 = psi_3@psi_3.conj().T\n",
    "\n",
    "# POVM is a list of its elements\n",
    "povm = [M0, M1, M2, M3]\n",
    "\n",
    "# Initial (pure) state of the system is |0>\n",
    "state = np.array([[1, 0]])\n",
    "state = state/np.linalg.norm(state)"
   ]
  },
  {
   "cell_type": "markdown",
   "metadata": {},
   "source": [
    "## Naimark's extension <a id='naimark'></a>\n",
    "\n",
    "Naimark's extension theory provides the path to implement  generalized POVM measurement using projective von Neumann measurements by enlarging the Hilbert space of the measured system with an auxiliary quantum system, as shown in the figure below: \n",
    "\n",
    "![naimark_extension](https://raw.githubusercontent.com/petr-ivashkov/qamp-generalized-measurements-img/master/Images/naimarks_povm.PNG)\n",
    "\n",
    "In the above figure, an auxiliary system $\\ket{0}_B$ (also known as ancilla) is introduced to the system of interest $\\rho_A$. This is similar to bringing Bob to help Allice in measuring the POVM elements.\n",
    "\n",
    "More formally, for every POVM $\\{M_a\\}_{a \\in \\mathcal{A}}$, there exists an isometry U such that \n",
    "\n",
    "$$\n",
    "\\begin{split}\n",
    "    M_a &= U^\\dagger \\left( \\mathcal{I} \\otimes \\ket{a}\\bra{a} \\right) U \\; \\forall \\; a \\in \\mathcal{A}.\n",
    "    %\\label{eq1}\n",
    "\\end{split}\n",
    "$$\n",
    "\n",
    "By implication, the isometry, $U$ can be defined as\n",
    "\n",
    "$$U = \\sum_{a \\in \\mathcal{A}} M_a \\otimes \\ket{a}$$"
   ]
  },
  {
   "cell_type": "markdown",
   "metadata": {},
   "source": [
    "The following section will show how to construct Naimark's extension circuit and measure the tetrad POVM using a single auxiliary qubit and one projective measurement."
   ]
  },
  {
   "cell_type": "markdown",
   "metadata": {},
   "source": [
    "### Constructing Naimark's extension circuit"
   ]
  },
  {
   "cell_type": "markdown",
   "metadata": {},
   "source": [
    "Given the POVM and the initial state of the system of interest, we can construct the circuit for Naimark's extension using the function `construct_quantum_circuit()`. Considering that the isometry (unitary), $U$ is at the heart of Naimark's extension implementation, we created two functions, `compute_rank_one_unitary()` and `compute_full_rank_unitary()`, to construct the unitary for a rank-1 and non-rank-1 POVMs respectively. The function, `construct_quantum_circuit()` checks for the rank of the given POVM and creates the Naimark's extension circuit using the functions `rank_one_circuit()` and `full_rank_circuit()` for rank-1 and non-rank-1 POVMs respectively. \n",
    "\n",
    "To implement this in Qiskit, let's import the relevant libraries."
   ]
  },
  {
   "cell_type": "code",
   "execution_count": 7,
   "metadata": {},
   "outputs": [],
   "source": [
    "# Naimark's quantum circuit for the tetrad POVM and state |0>\n",
    "qc = construct_quantum_circuit(povm, state)"
   ]
  },
  {
   "cell_type": "markdown",
   "metadata": {},
   "source": [
    "Let's visualize this circuit:"
   ]
  },
  {
   "cell_type": "code",
   "execution_count": 8,
   "metadata": {},
   "outputs": [
    {
     "data": {
      "image/png": "[encoded data removed]",
      "text/plain": [
       "<Figure size 605.829x284.278 with 1 Axes>"
      ]
     },
     "execution_count": 8,
     "metadata": {},
     "output_type": "execute_result"
    }
   ],
   "source": [
    "qc.draw(\"mpl\")"
   ]
  },
  {
   "cell_type": "markdown",
   "metadata": {},
   "source": [
    "Our next step would be to run the Naimark's circuit. We will defer the theoretical and simulated results for this circuit to when we have obtained the hardware result."
   ]
  },
  {
   "cell_type": "markdown",
   "metadata": {},
   "source": [
    "Let's get the backends assoicated with our account"
   ]
  },
  {
   "cell_type": "code",
   "execution_count": 9,
   "metadata": {},
   "outputs": [],
   "source": [
    "from qiskit import IBMQ\n",
    "\n",
    "# Load account and get backends\n",
    "IBMQ.load_account()\n",
    "provider = IBMQ.get_provider(hub='ibm-q', group='open', project='main')"
   ]
  },
  {
   "cell_type": "markdown",
   "metadata": {},
   "source": [
    "### Selecting an optimal layout using mapomatic\n",
    "\n",
    "Since we have access to multiple quantum backends, we want to select an optimal backend and an optimal layout to execute our transpiled circuit. In the following, we will use `mapomatic`, which will be discussed in more detail in the [appendix](#appendix). "
   ]
  },
  {
   "cell_type": "code",
   "execution_count": 10,
   "metadata": {},
   "outputs": [
    {
     "name": "stdout",
     "output_type": "stream",
     "text": [
      "Backends with the corresponding optimal layouts in ascending order. First backend is optimal.\n",
      "([1, 2], 'ibm_oslo', 0.048246822245851195)\n",
      "([1, 0], 'ibmq_lima', 0.06473001465010009)\n",
      "([4, 5], 'ibm_nairobi', 0.0734194177317139)\n"
     ]
    }
   ],
   "source": [
    "import mapomatic as mm\n",
    "from qiskit import transpile\n",
    "\n",
    "backend = provider.get_backend('ibmq_lima')\n",
    "transpiled_qc = transpile(qc, backend=backend, optimization_level=3)\n",
    "small_qc = mm.deflate_circuit(transpiled_qc)\n",
    "\n",
    "# Note: evaluating all available backends might block your environment for a long period\n",
    "backends = [provider.get_backend('ibmq_lima'), provider.get_backend('ibm_nairobi'), provider.get_backend('ibm_oslo')]\n",
    "\n",
    "scores = mm.best_overall_layout(small_qc, backends, successors=True)\n",
    "print(\"Backends with the corresponding optimal layouts in ascending order. First backend is optimal.\")\n",
    "for score in scores: print(score)\n",
    "\n",
    "initial_layout = scores[0][0]"
   ]
  },
  {
   "cell_type": "code",
   "execution_count": 11,
   "metadata": {},
   "outputs": [],
   "source": [
    "from qiskit import transpile\n",
    "trans_qc = transpile(qc, backend=backend, initial_layout=initial_layout, optimization_level=3)"
   ]
  },
  {
   "cell_type": "markdown",
   "metadata": {},
   "source": [
    "Let's visualize our Naimark's circuit transpiled for the best backend and initial layout found with `mapomatic`."
   ]
  },
  {
   "cell_type": "code",
   "execution_count": 12,
   "metadata": {},
   "outputs": [
    {
     "data": {
      "image/png": "[encoded data removed]",
      "text/plain": [
       "<Figure size 1846.89x284.278 with 1 Axes>"
      ]
     },
     "execution_count": 12,
     "metadata": {},
     "output_type": "execute_result"
    }
   ],
   "source": [
    "trans_qc.draw('mpl',idle_wires=False)"
   ]
  },
  {
   "cell_type": "markdown",
   "metadata": {},
   "source": [
    "### Simulating Naimark's circuit with the noise model of real backend\n",
    "\n",
    "Before running the Naimark's circuit on actual quantum hardware, we simulated it using the noise model of the best backend as follows:"
   ]
  },
  {
   "cell_type": "code",
   "execution_count": 13,
   "metadata": {},
   "outputs": [],
   "source": [
    "from qiskit_aer.noise import NoiseModel\n",
    "noise_model = NoiseModel.from_backend(backend)"
   ]
  },
  {
   "cell_type": "markdown",
   "metadata": {},
   "source": [
    "For this simulation, we will use the `ibmq_qasm_simulator` and feed it with the noise model for our best backend."
   ]
  },
  {
   "cell_type": "code",
   "execution_count": 14,
   "metadata": {},
   "outputs": [
    {
     "name": "stdout",
     "output_type": "stream",
     "text": [
      "<IBMBackend('ibmq_qasm_simulator')>\n"
     ]
    }
   ],
   "source": [
    "from qiskit_ibm_runtime import QiskitRuntimeService\n",
    "service = QiskitRuntimeService(channel='ibm_quantum')\n",
    "# Simulator backend\n",
    "simulator = service.backends(simulator=True)[0]\n",
    "print(simulator)"
   ]
  },
  {
   "cell_type": "markdown",
   "metadata": {},
   "source": [
    "To account for error mitigation, we will use the Qiskit runtime, `Sampler`. For details on this, please see the <a class=\"reference external\" href=\"https://qiskit.org/documentation/partners/qiskit_ibm_runtime/stubs/qiskit_ibm_runtime.Sampler.html\">Sampler documentation</a>."
   ]
  },
  {
   "cell_type": "code",
   "execution_count": 15,
   "metadata": {},
   "outputs": [
    {
     "name": "stdout",
     "output_type": "stream",
     "text": [
      "Noisy Job ID: cev9hvkdo0fpfg2jpe20\n",
      "Error mitigated Job ID: cev9i1p3v4f6ud9rn2ug\n"
     ]
    }
   ],
   "source": [
    "from qiskit_ibm_runtime import Sampler, Estimator, Session, Options\n",
    "\n",
    "# Set options to include noise_model only (noisy simulation)\n",
    "options = Options(simulator={\n",
    "    \"noise_model\": noise_model,\n",
    "    \"seed_simulator\": 42,\n",
    "}, resilience_level=0)\n",
    "\n",
    "# Set options to include noise_model and resilience_level (for error mitigation)\n",
    "options_with_em = Options(\n",
    "    simulator={\n",
    "        \"noise_model\": noise_model,\n",
    "        \"seed_simulator\": 42,\n",
    "    },  \n",
    "    resilience_level=1\n",
    ")\n",
    "\n",
    "with Session(service=service, backend=simulator):\n",
    "    sampler = Sampler(options=options)\n",
    "    noisy_job = sampler.run(circuits=[trans_qc])\n",
    "    print(f\"Noisy Job ID: {noisy_job.job_id()}\")\n",
    "    noisy_results = noisy_job.result()\n",
    "    \n",
    "    sampler = Sampler(options=options_with_em)\n",
    "    em_job = sampler.run(circuits=[trans_qc])\n",
    "    em_job = sampler.run(circuits=[trans_qc])\n",
    "    print(f\"Error mitigated Job ID: {em_job.job_id()}\")\n",
    "    em_results = em_job.result()"
   ]
  },
  {
   "cell_type": "markdown",
   "metadata": {},
   "source": [
    "Now that we have our results, let's visualize them."
   ]
  },
  {
   "cell_type": "code",
   "execution_count": 16,
   "metadata": {},
   "outputs": [
    {
     "data": {
      "image/png": "[encoded data removed]",
      "text/plain": [
       "<Figure size 700x500 with 1 Axes>"
      ]
     },
     "execution_count": 16,
     "metadata": {},
     "output_type": "execute_result"
    }
   ],
   "source": [
    "noisy_prob = noisy_results.quasi_dists[0]\n",
    "l = len(noisy_prob)\n",
    "n = int(np.ceil(np.log2(l)))\n",
    "\n",
    "noisy_prob = {np.binary_repr(key, n): value for key, value in noisy_prob.items()}\n",
    "\n",
    "em_prob = em_results.quasi_dists[0]\n",
    "em_prob = {np.binary_repr(key, n): value for key, value in em_prob.items()}\n",
    "\n",
    "names = [\"Noise model simulation\", \"Error-mitigated simulation\"]\n",
    "counts = [noisy_prob, em_prob]\n",
    "naimark_plot(povm, state, counts, names, save=False)"
   ]
  },
  {
   "cell_type": "markdown",
   "metadata": {},
   "source": [
    "The above plot shows that the noise model and error mitigated simulations are close to the theoretical values."
   ]
  },
  {
   "cell_type": "markdown",
   "metadata": {},
   "source": [
    "### Running transpiled circuit on the real backend\n",
    "\n",
    "We are basically going to repeat the same thing we did for the simulations above, except that, in this case, we will replace the backends with the actual quantum hardware."
   ]
  },
  {
   "cell_type": "code",
   "execution_count": 17,
   "metadata": {},
   "outputs": [
    {
     "name": "stdout",
     "output_type": "stream",
     "text": [
      "<IBMBackend('ibm_oslo')>\n"
     ]
    }
   ],
   "source": [
    "# Define the best backend to use\n",
    "backend = service.get_backend(scores[0][1])\n",
    "print(backend)"
   ]
  },
  {
   "cell_type": "markdown",
   "metadata": {},
   "source": [
    "Uncomment the following lines of code to run this on real quantum hardware -- the best hardware we determined using `mapomatic`. In our case, we have decided to use the result obtained from our previous run. Note that this was done using `shots=1024`. Using the default number of shots may give a better result."
   ]
  },
  {
   "cell_type": "code",
   "execution_count": 18,
   "metadata": {},
   "outputs": [
    {
     "data": {
      "text/plain": [
       "'\\n# Set options for noisy hardware run (without resilience to noise)\\noptions = Options(resilience_level=0)\\n\\n# Set options to include noisy hardware and resilience_level for noise mitigation\\noptions_with_em = Options(resilience_level=1)\\n\\n\\nwith Session(service=service, backend=backend):\\n    sampler = Sampler(options=options)\\n    noisy_hardware_job = sampler.run(circuits=[best_trans_qc], shots=1024)\\n    print(f\"Noisy Job ID: {noisy_hardware_job.job_id()}\")\\n    noisy_hardware_results = noisy_hardware_job.result()\\n    \\n    sampler = Sampler(options=options_with_em)\\n    em_hardware_job = sampler.run(circuits=[best_trans_qc], shots=1024)\\n    print(f\"Error mitigated Job ID: {em_hardware_job.job_id()}\")\\n    em_hardware_results = em_hardware_job.result()\\n\\n'"
      ]
     },
     "execution_count": 18,
     "metadata": {},
     "output_type": "execute_result"
    }
   ],
   "source": [
    "  \n",
    "\"\"\"\n",
    "# Set options for noisy hardware run (without resilience to noise)\n",
    "options = Options(resilience_level=0)\n",
    "\n",
    "# Set options to include noisy hardware and resilience_level for noise mitigation\n",
    "options_with_em = Options(resilience_level=1)\n",
    "\n",
    "\n",
    "with Session(service=service, backend=backend):\n",
    "    sampler = Sampler(options=options)\n",
    "    noisy_hardware_job = sampler.run(circuits=[best_trans_qc], shots=1024)\n",
    "    print(f\"Noisy Job ID: {noisy_hardware_job.job_id()}\")\n",
    "    noisy_hardware_results = noisy_hardware_job.result()\n",
    "    \n",
    "    sampler = Sampler(options=options_with_em)\n",
    "    em_hardware_job = sampler.run(circuits=[best_trans_qc], shots=1024)\n",
    "    print(f\"Error mitigated Job ID: {em_hardware_job.job_id()}\")\n",
    "    em_hardware_results = em_hardware_job.result()\n",
    "\n",
    "\"\"\""
   ]
  },
  {
   "cell_type": "markdown",
   "metadata": {},
   "source": [
    "You can visualize the result after the job has completed by uncommenting and running the code below"
   ]
  },
  {
   "cell_type": "code",
   "execution_count": 19,
   "metadata": {},
   "outputs": [
    {
     "data": {
      "text/plain": [
       "'\\nnoisy_hardware_prob = noisy_hardware_results.quasi_dists[0]\\nl = len(noisy_hardware_prob)\\nn = int(np.ceil(np.log2(l)))\\n\\nnoisy_hardware_prob = {np.binary_repr(key, n): value for key, value in noisy_hardware_prob.items()}\\n\\nem_hardware_prob = em_hardware_results.quasi_dists[0]\\nem_hardware_prob = {np.binary_repr(key, n): value for key, value in em_hardware_prob.items()}\\n\\nnames = [\"Hardware\", \"Error-mitigated\"]\\ncounts = [noisy_hardware_prob, em_hardware_prob]\\nnaimark_plot(povm, state, counts, names, save=True, file_name=\"hardware_output.pdf\")\\n'"
      ]
     },
     "execution_count": 19,
     "metadata": {},
     "output_type": "execute_result"
    }
   ],
   "source": [
    "\"\"\"\n",
    "noisy_hardware_prob = noisy_hardware_results.quasi_dists[0]\n",
    "l = len(noisy_hardware_prob)\n",
    "n = int(np.ceil(np.log2(l)))\n",
    "\n",
    "noisy_hardware_prob = {np.binary_repr(key, n): value for key, value in noisy_hardware_prob.items()}\n",
    "\n",
    "em_hardware_prob = em_hardware_results.quasi_dists[0]\n",
    "em_hardware_prob = {np.binary_repr(key, n): value for key, value in em_hardware_prob.items()}\n",
    "\n",
    "names = [\"Hardware\", \"Error-mitigated\"]\n",
    "counts = [noisy_hardware_prob, em_hardware_prob]\n",
    "naimark_plot(povm, state, counts, names, save=True, file_name=\"hardware_output.pdf\")\n",
    "\"\"\""
   ]
  },
  {
   "cell_type": "markdown",
   "metadata": {},
   "source": [
    "You can obtain hardware results for Naimark's approach by following the steps above. The figure below shows one of the previous hardware experiments for Naimark's extension circuit.\n",
    "\n",
    "![naimark_hw_results](https://raw.githubusercontent.com/petr-ivashkov/qamp-generalized-measurements-img/master/Images/naimark_hw_results.png)"
   ]
  },
  {
   "cell_type": "markdown",
   "metadata": {},
   "source": [
    "The above plot compares the hardware result with the theoretical and error-mitigated results. Although there are some deviations from the theoretical values, the difference is not so much. \n",
    "\n",
    "`Hellinger()` stands for the [Hellinger fidelity](https://en.wikipedia.org/wiki/Hellinger_distance) between different results."
   ]
  },
  {
   "cell_type": "markdown",
   "metadata": {},
   "source": [
    "In the next section we demonstrate the implementation of the tetrad POVM using the binary tree approach."
   ]
  },
  {
   "cell_type": "markdown",
   "metadata": {},
   "source": [
    "## Binary tree approach <a id='binary-tree'></a>"
   ]
  },
  {
   "cell_type": "markdown",
   "metadata": {},
   "source": [
    "### Constructing binary tree circuit\n",
    "\n",
    "POVMs can be implemented through a binary search approach with a depth logarithmic in the number of possible outcomes. The algorithm was introduced and formalized by [Andersson and Oi](https://arxiv.org/abs/0712.2665). The following explains and illustrates a Python implementation of the binary tree approach to measure the tetrad POVM."
   ]
  },
  {
   "cell_type": "markdown",
   "metadata": {},
   "source": [
    "The approach performs a binary search by iteratively applying coupling unitaries conditioned on the results of mid-circuit measurements and measuring the ancilla in the computational basis. At each node, the number of possible outcomes is halved. The fine-grain level of the binary tree corresponds to the final POVM outcomes. The procedure for constructing suitable coupling unitaries is briefly explained in the [appendix](#appendix), while the exact algorithm is outlined in the [original paper](https://arxiv.org/abs/0712.2665).\n",
    "\n",
    "![sequential_povm](https://raw.githubusercontent.com/petr-ivashkov/qamp-generalized-measurements-img/master/Images/sequential_povm.png)\n",
    "\n",
    "The implementation in the form of a Python module consists of the central class `BinaryTreePOVM` and several helper functions. It creates a simple way to construct a measurement circuit for an arbitrary POVM. We will use it to build the corresponding measurement circuit for the tetrad POVM on a single qubit system."
   ]
  },
  {
   "cell_type": "markdown",
   "metadata": {},
   "source": [
    "We initialize a `BinaryTreePOVM` object **btp**, which holds information about the POVM, the coupling unitaries, and the `QuantumCircuit` itself."
   ]
  },
  {
   "cell_type": "code",
   "execution_count": 20,
   "metadata": {},
   "outputs": [
    {
     "data": {
      "image/png": "[encoded data removed]",
      "text/plain": [
       "<Figure size 856.662x367.889 with 1 Axes>"
      ]
     },
     "execution_count": 20,
     "metadata": {},
     "output_type": "execute_result"
    }
   ],
   "source": [
    "btp = BinaryTreePOVM(povm)\n",
    "\n",
    "btp.qc.draw('mpl')"
   ]
  },
  {
   "cell_type": "markdown",
   "metadata": {},
   "source": [
    "Note how a conditional X gate is applied instead of a reset after the mid-circuit readout. This trick reduces the error rate because the reset operation is significantly longer and noisier than an X gate. This idea was described and implemented in [Marz](https://github.com/Qiskit-Partners/marz)."
   ]
  },
  {
   "cell_type": "markdown",
   "metadata": {},
   "source": [
    "### Simulating binary tree circuit with readout errors\n",
    "\n",
    "Instead of running the circuit on a backend noise model, we create a custom noise model with only readout errors by applying a `pauli_error` *X*  on `measure` instructions. This way, one can assess the effect of readout errors in our dynamic circuit. In contrast to the standard readout at the end of the circuit, errors from mid-circuit measurements propagate through the circuit if subsequent gates are conditioned on preceding classical measurement outcomes. In other words, an incorrectly measured bit will trigger the wrong conditional unitary. In this case, the evolution of the quantum state is affected by imperfect mid-circuit measurements."
   ]
  },
  {
   "cell_type": "code",
   "execution_count": 21,
   "metadata": {},
   "outputs": [],
   "source": [
    "from qiskit_ibm_provider import IBMProvider\n",
    "\n",
    "provider = IBMProvider()\n",
    "backend = provider.get_backend('ibm_nairobi', instance='ibm-q/open/main')"
   ]
  },
  {
   "cell_type": "markdown",
   "metadata": {},
   "source": [
    "Let's create a noise model where an *X* error occurs with probability `e = 0.03` during the measurement. The chosen value for `e` is close to real hardware readout errors."
   ]
  },
  {
   "cell_type": "code",
   "execution_count": 22,
   "metadata": {},
   "outputs": [],
   "source": [
    "from qiskit_aer import AerSimulator\n",
    "from qiskit_aer.noise import NoiseModel, pauli_error\n",
    "e = 0.03\n",
    "noise_model_classical = NoiseModel()\n",
    "error_meas = pauli_error([('X',e), ('I', 1-e)])\n",
    "\n",
    "noise_model_classical.add_quantum_error(error_meas, \"measure\", [1])\n",
    "\n",
    "simulator_noisy = AerSimulator(noise_model=noise_model_classical)"
   ]
  },
  {
   "cell_type": "markdown",
   "metadata": {},
   "source": [
    "Let's transpile and visualize our binary tree circuit."
   ]
  },
  {
   "cell_type": "code",
   "execution_count": 23,
   "metadata": {},
   "outputs": [
    {
     "data": {
      "image/png": "[encoded data removed]",
      "text/plain": [
       "<Figure size 1763.08x367.889 with 1 Axes>"
      ]
     },
     "execution_count": 23,
     "metadata": {},
     "output_type": "execute_result"
    }
   ],
   "source": [
    "# we use optimization_level=1 because at the time of writing higher\n",
    "# transpiler optimizations were not yet available for dynamic circuits\n",
    "transpiled_qc = transpile(btp.qc, backend, optimization_level=1)\n",
    "transpiled_qc.draw('mpl', idle_wires=False)"
   ]
  },
  {
   "cell_type": "code",
   "execution_count": 24,
   "metadata": {},
   "outputs": [],
   "source": [
    "noisy_counts = simulator_noisy.run(transpiled_qc).result().get_counts()"
   ]
  },
  {
   "cell_type": "markdown",
   "metadata": {},
   "source": [
    "A measurement outcome $M_j$ occurs with probability $p_j = Tr[M_j\\rho]$ where $\\rho$ is the initial state of the system. We can therefore precalculate the expected probability distribution by computing the expectation value for each $M_j$. This functionality is implemented in the `theoretical_probs()` function and returns a dictionary of outcomes and their probabilities."
   ]
  },
  {
   "cell_type": "code",
   "execution_count": 25,
   "metadata": {},
   "outputs": [],
   "source": [
    "theo_probs = theoretical_probs(povm, state, binary_tree=True)"
   ]
  },
  {
   "cell_type": "code",
   "execution_count": 26,
   "metadata": {},
   "outputs": [],
   "source": [
    "legend = ['Theory', 'Simulation with readout errors']\n",
    "data = [theo_probs, noisy_counts]"
   ]
  },
  {
   "cell_type": "markdown",
   "metadata": {},
   "source": [
    "The histogram below shows the effect of readout errors in the binary tree circuit."
   ]
  },
  {
   "cell_type": "code",
   "execution_count": 27,
   "metadata": {},
   "outputs": [
    {
     "data": {
      "image/png": "[encoded data removed]",
      "text/plain": [
       "<Figure size 700x500 with 1 Axes>"
      ]
     },
     "metadata": {},
     "output_type": "display_data"
    }
   ],
   "source": [
    "from qiskit.visualization import plot_histogram\n",
    "import matplotlib.pyplot as plt\n",
    "\n",
    "fig = plot_histogram(data, legend=legend, bar_labels=True)\n",
    "ax = fig.axes[0]\n",
    "title = f'Tetrad POVM with the binary tree approach'\n",
    "ax.set_title(title, fontsize=14)\n",
    "ax.set_ylabel('Quasi-probability', fontsize=12)\n",
    "ax.set_xlabel('POVM elements', fontsize=12)\n",
    "x = ['M0','M1','M2','M3']\n",
    "ax.set_xticklabels(x)\n",
    "ax.legend(fontsize=12)\n",
    "\n",
    "fig.tight_layout()\n",
    "plt.sca(ax)\n",
    "plt.show()"
   ]
  },
  {
   "cell_type": "markdown",
   "metadata": {},
   "source": [
    "### Running binary circuit on real hardware\n",
    "\n",
    "You can obtain hardware results for the binary tree approach by following the steps in [this section](#mid-circuit) of the appendix. The figure below shows one of the previous hardware experiments.\n",
    "\n",
    "![binary_tree_hw_results](https://raw.githubusercontent.com/petr-ivashkov/qamp-generalized-measurements-img/master/Images/binary_tree_hw_results.png)"
   ]
  },
  {
   "cell_type": "markdown",
   "metadata": {},
   "source": [
    "## Appendix <a id='appendix'></a>"
   ]
  },
  {
   "cell_type": "markdown",
   "metadata": {},
   "source": [
    "### Constructing measurement operators for the binary tree\n",
    "\n",
    "Consider a set of measurement operators $M_j$, which constitute a POVM. To perform the first step of the binary search, we partition this set into two cumulated operators:\n",
    "\n",
    "$$B_1 = \\sum_{j=0}^{N/2-1}M_j = M_0 + M_1$$ \n",
    "\n",
    "$$B_2 = \\sum_{j=N/2}^{N-1}M_j = M_2 + M_3$$\n",
    "\n",
    "The two cumulated operators constitute a two-outcome POVM which must be measured through a non-destructive measurement by coupling the system to a single ancilla qubit. The measurement outcome can be seen as the first step in a measurement trajectory, which ends at the fine-grain level. We halve the number of possible POVM outcomes at each subsequent measurement, thus going down the binary tree.\n",
    "\n",
    "![binary_tree](https://raw.githubusercontent.com/petr-ivashkov/qamp-generalized-measurements-img/master/Images/binary_tree.png)"
   ]
  },
  {
   "cell_type": "markdown",
   "metadata": {},
   "source": [
    "Following the same logic, we partition the set $M_{0..N/2-1}$ into two and measure a binary POVM again. This time, however, we need to account for the evolved post-measurement state $^1$ of the system: \n",
    "\n",
    "$$\\rho_j' = \\frac{m_j\\rho m_j^{\\dagger}}{Tr[m_j\\rho m_j^{\\dagger}]}$$\n",
    "\n",
    "where a possible $m_j$ can be obtained from $m_j^{\\dagger}m_j = M_j$ as $m_j = \\sqrt{M_j}$\n",
    "\n",
    "For instance, we cannot perform the fine-grain measurement $M_{0..N/2-1}$ on the evolved state $\\rho_j'$. To adjust the state for further measurement, we modify the sequential measurement in a way that the probability distribution for the modified measurement on the evolved state is the same as from performing the original measurement on the initial state: \n",
    "\n",
    "$$Tr[\\rho M_j] = Tr[\\rho' M_j']$$ \n",
    "\n",
    "The [original paper](https://arxiv.org/abs/0712.2665) proves that one can write the required Kraus operators as:\n",
    "\n",
    "$$b_{0..N/4-1} = m_{{0..N/4-1}}\\bar m_{{0..N/2-1}}^{-1} + g_{{0..N/2-1}}$$\n",
    "\n",
    "where $\\bar m_{{0..N/2-1}}^{-1}$ is the Moore-Penrose pseudo-inverse of $m_{{0..N/2-1}}$ and $g_{{0..N/2-1}}$ guarantees the completeness of $M_j'$. Similarly, we construct the Kraus operators for every binary-outcome POVM. \n",
    "\n",
    "$$b_{ij} = m_{{ij}}\\bar m_{{i}}^{-1} + g_{{i}}$$\n",
    "\n",
    "Please refer to the original paper by [Andersson and Oi](https://arxiv.org/abs/0712.2665) for detailed proof. \n",
    "\n",
    "$^1$ Note that this state is not uniquely defined because of the unitary freedom $m_j \\rightarrow Um_j$."
   ]
  },
  {
   "cell_type": "markdown",
   "metadata": {},
   "source": [
    "### Mid-circuit measurements <a id='mid-circuit'></a>\n",
    "\n",
    "Recently, IBM [announced](https://research.ibm.com/blog/quantum-dynamic-circuits) the support for dynamic circuits on IBM quantum devices. Dynamic circuits, as opposed to static circuits, allow to apply operations conditioned on classical outcomes, which are produced at runtime and therefore utilize mid-circuit measurements. This feature can significantly increase the variety of circuits by allowing for adaptive control and feed-forward operations.\n",
    "\n",
    "Dynamic circuits require the backend to support QASM3. At the time of writing, only selected backends had this support, but more will be added in the future. The list of backends that support QASM3 and are available with your provider can be obtained by setting `dynamic=True` to communicate to the backend that we want to run a dynamic circuit."
   ]
  },
  {
   "cell_type": "markdown",
   "metadata": {},
   "source": [
    "Dependent on your provider, you can have access to different quantum backends. In the following, we will retrieve publicly available devices which support dynamic circuits."
   ]
  },
  {
   "cell_type": "code",
   "execution_count": 28,
   "metadata": {},
   "outputs": [
    {
     "name": "stdout",
     "output_type": "stream",
     "text": [
      "Publicly available devices which support dynamic circuits are:\n",
      "ibmq_jakarta\n",
      "ibmq_manila\n",
      "ibm_lagos\n",
      "ibm_nairobi\n",
      "ibm_perth\n",
      "ibm_oslo\n"
     ]
    }
   ],
   "source": [
    "# backends supporting dynamic circuits\n",
    "backends = [backend for backend in IBMProvider().backends(dynamic_circuits=True)]\n",
    "print(\"Publicly available devices which support dynamic circuits are:\")\n",
    "for backend in backends: print(backend.name)"
   ]
  },
  {
   "cell_type": "markdown",
   "metadata": {},
   "source": [
    "To submit dynamic circuits to a quantum backend, we set `dynamic=True` when calling the `run()` function. This method invokes the `qasm3-runner`, which is a Qiskit Runtime program."
   ]
  },
  {
   "cell_type": "code",
   "execution_count": 29,
   "metadata": {},
   "outputs": [
    {
     "data": {
      "text/plain": [
       "'\\nbackend = provider.get_backend(\\'ibm_nairobi\\')\\n\\njob = backend.run(transpiled_qc, dynamic=True)\\nprint(f\"Job ID: {job.job_id}\")\\nprint(f\"Job status: {job.status()}\")\\n'"
      ]
     },
     "execution_count": 29,
     "metadata": {},
     "output_type": "execute_result"
    }
   ],
   "source": [
    "# The following code submits binary measurement circuit to ibm_nairobi\n",
    "# Uncomment it if you want to obtain hardware resultsa\n",
    "'''\n",
    "backend = provider.get_backend('ibm_nairobi')\n",
    "\n",
    "job = backend.run(transpiled_qc, dynamic=True)\n",
    "print(f\"Job ID: {job.job_id}\")\n",
    "print(f\"Job status: {job.status()}\")\n",
    "'''"
   ]
  },
  {
   "cell_type": "markdown",
   "metadata": {},
   "source": [
    "Alternatively, one can directly submit circuits to `qasm3-runner`, which converts them to OpenQASM3, compiles, and executes them. This program can also take and execute one or more OpenQASM3 strings."
   ]
  },
  {
   "cell_type": "markdown",
   "metadata": {},
   "source": [
    "Independent of the selected method, one can retrieve the results after the job has been processed as follows:"
   ]
  },
  {
   "cell_type": "code",
   "execution_count": 30,
   "metadata": {},
   "outputs": [
    {
     "data": {
      "text/plain": [
       "'\\ncounts = job.result().get_counts()\\n'"
      ]
     },
     "execution_count": 30,
     "metadata": {},
     "output_type": "execute_result"
    }
   ],
   "source": [
    "# notice that the following call is blocking and will\n",
    "# block your environment if the job is not ready\n",
    "'''\n",
    "counts = job.result().get_counts()\n",
    "'''"
   ]
  },
  {
   "cell_type": "markdown",
   "metadata": {},
   "source": [
    "### Selecting an optimal layout using mapomatic\n",
    "\n",
    "Given the access to different quantum backends, we want to choose the best hardware to run our circuit such that the effect of noise is minimized. In general, qubits with the longest coherence times should be preferred for the mapping. However, qubit connectivity is also essential to minimize the number of SWAP gates. However, a mapping that is optimal in terms of the number of SWAP gates may not have the best qubits. Therefore, selecting an optimal layout for your circuit is a nontrivial task. We use an open-source Qiskit extension, `mapomatic`, to find a good qubit layout. \n",
    "\n",
    "`mapomatic` is *\"... a post-compilation routine that finds the best low noise sub-graph on which to run a circuit given one or more quantum systems as target devices.\"* It uses a heuristic to grade different qubit layouts based on calibration data of qubits. For more on this, please refer to the [source code](https://github.com/Qiskit-Partners/mapomatic) or the [original paper](https://arxiv.org/abs/2209.15512).\n",
    "\n",
    "The function `best_overall_layout()` evaluates layouts based on the total error rate from gate and readout errors to find a good candidate out of multiple systems and layouts:"
   ]
  },
  {
   "cell_type": "code",
   "execution_count": 31,
   "metadata": {},
   "outputs": [
    {
     "data": {
      "text/plain": [
       "'\\nmapomatic.best_overall_layout(transpiled_qc, provider.backends(), successors=True)\\n'"
      ]
     },
     "execution_count": 31,
     "metadata": {},
     "output_type": "execute_result"
    }
   ],
   "source": [
    "import mapomatic\n",
    "# Note: evaluating all available backends might block the environment for a long period\n",
    "'''\n",
    "mapomatic.best_overall_layout(transpiled_qc, provider.backends(), successors=True)\n",
    "'''"
   ]
  },
  {
   "cell_type": "markdown",
   "metadata": {},
   "source": [
    "## Implementation <a id='implementation'></a>\n",
    "\n",
    "The following sections contain the Python implementation of the binary tree and Naimark's algorithms. Once you execute these sections, return to the [beginning](#beginning) of the notebook."
   ]
  },
  {
   "cell_type": "markdown",
   "metadata": {},
   "source": [
    "### Implementing binary search tree circuit"
   ]
  },
  {
   "cell_type": "code",
   "execution_count": 32,
   "metadata": {},
   "outputs": [],
   "source": [
    "import numpy as np\n",
    "import scipy\n",
    "\n",
    "from qiskit import QuantumCircuit, ClassicalRegister, QuantumRegister\n",
    "from qiskit.extensions import UnitaryGate\n",
    "\n",
    "# Helper functions section:\n",
    "def get_measurement_op(povm, start, end):\n",
    "    \"\"\"\n",
    "    Returns a cumulative measurement operator by grouping together\n",
    "    POVM elements from povm[start] to povm[end-1]\n",
    "    \"\"\"\n",
    "    return np.sum(povm[start:end],axis=0).round(5)\n",
    "\n",
    "def get_diagonalization(povm, start, end):\n",
    "    \"\"\"\n",
    "    Returns: \n",
    "        Kraus operator <M>, diagonal <D> and the modal matrix <V> for a given \n",
    "        measurement operator by diagonalizing the measurement operator in the form:\n",
    "\n",
    "        M = V@D@Vh such that M@M = E\n",
    "    \"\"\"\n",
    "    E = get_measurement_op(povm, start, end)\n",
    "    d2,V = np.linalg.eig(E)\n",
    "    D = np.real(np.sqrt(np.diag(d2)))\n",
    "    M = V@D@np.linalg.inv(V)\n",
    "    return M,D,V\n",
    "\n",
    "def get_next_level_binary_kraus_ops(povm, start, end):\n",
    "    \"\"\"\n",
    "    Computes two next level binary Kraus operators \n",
    "    Args:\n",
    "        povm: numpy array of POVM elements\n",
    "        start/end: indices which define the cumulative POVM element\n",
    "    Returns: \n",
    "        Two binary Kraus operators b0 and b1 which take from a higher to lower branch\n",
    "\n",
    "    * <M> is the Kraus operator corresponding to the current level in binary tree\n",
    "    * <M0> (<M1>) is the Kraus operators corresponding to the left (right) branch\n",
    "    * <Q> asserts the completeness condition: b0@b0.T.conj() +  b1@b1.T.conj() = I\n",
    "    * <M_psinv> is the Moore-Penrose pseudo-inverse of <M>\n",
    "    \"\"\"\n",
    "    mid = int(start + (end-start)/2)\n",
    "    # computing <M>\n",
    "    M,D,V = get_diagonalization(povm, start, end)\n",
    "    # computing the null space of <M>\n",
    "    P = np.sign(D.round(5))\n",
    "    Pc = np.eye(len(M))-P\n",
    "    Q = V@Pc@V.T.conj()\n",
    "    # computing <M_psinv>\n",
    "    #D_inv = np.zeros_like(D)\n",
    "    #for i in range(len(M)):\n",
    "    #    if D[i,i].round(5) == 0: continue\n",
    "    #    else: D_inv[i,i] = np.real(1/D[i,i])\n",
    "    D_inv = np.linalg.pinv(D)\n",
    "    M_psinv = V@D_inv@V.T.conj()\n",
    "    # computing <M0> and <M1>\n",
    "    M0,_,_ = get_diagonalization(povm, start, mid)\n",
    "    M1,_,_ = get_diagonalization(povm, mid, end)\n",
    "    # computing <b0> and <b1>\n",
    "    b0 = M0@M_psinv + Q/np.sqrt(2)\n",
    "    b1 = M1@M_psinv + Q/np.sqrt(2)\n",
    "    return b0, b1\n",
    "\n",
    "def closest_unitary(A):\n",
    "    \"\"\" Calculates the unitary matrix U that is closest with respect to the\n",
    "        operator norm distance to the general matrix A.\n",
    "    \"\"\"\n",
    "    V, _, Wh = scipy.linalg.svd(A)\n",
    "    U = np.matrix(V.dot(Wh))\n",
    "    return U\n",
    "\n",
    "def closest_unitary_schur(A):\n",
    "    T, Z = scipy.linalg.schur(A, output='complex')\n",
    "    return Z @ np.diag(np.diag(T)/abs(np.diag(T))) @ Z.T.conj()\n",
    "\n",
    "def extend_to_unitary(b0, b1):\n",
    "    \"\"\" Creates a coupling unitary between the system and ancilla.\n",
    "\n",
    "        The condition for unitary is: <0|U|0> = b0 and <1|U|0> = b1,\n",
    "        whereby the ancilla is projected onto states |0> and |1>.\n",
    "\n",
    "        A two-column matrix A, with its upper left block given by b0, \n",
    "        and bottom left block by b1, is extended to unitary U by appending  \n",
    "        a basis of the null space of A.\n",
    "    \"\"\" \n",
    "    A = np.concatenate((b0,b1))\n",
    "    u, _, _ = scipy.linalg.svd(A)\n",
    "    y = u[:, len(A[0]):]\n",
    "    U = np.hstack((A, y))\n",
    "    # verify U is close to unitary\n",
    "    assert np.allclose(U.T.conj()@U, np.eye(len(A)),atol=1e-03), \"Failed to construct U\"\n",
    "    return closest_unitary(U)\n",
    "\n",
    "def theoretical_probs(povm, state, binary_tree=False):\n",
    "    \"\"\" Precalculates the expected probabilities for a pure state\n",
    "        for the given POVM.\n",
    "    \"\"\"   \n",
    "    rho = state.T.conj()@state # density matrix of the state\n",
    "    probs = [np.trace(povm[i]@rho).round(2).real for i in range(len(povm))] \n",
    "    \n",
    "    l = len(probs)\n",
    "    n = int(np.ceil(np.log2(l)))\n",
    "    prob_counts = {}\n",
    "    for i in range(l):\n",
    "        if binary_tree: key = np.binary_repr(i, n)[::-1]\n",
    "        else: key = np.binary_repr(i, n)\n",
    "        value = probs[i]\n",
    "        prob_counts[key] = value\n",
    "    \n",
    "    return prob_counts\n",
    "\n",
    "# Class definitions\n",
    "class POVM:\n",
    "    \"\"\"Base class that holds an arbitrary POVM <povm> as a list of <N> POVM elements.\n",
    "    \"\"\"\n",
    "    def __init__(self, povm):\n",
    "        \"\"\"\n",
    "        Constructor asserts that the given POVM is valid.\n",
    "        \"\"\"\n",
    "        self.povm = povm\n",
    "        self.N = len(povm)\n",
    "        self.depth = int(np.ceil(np.log2(self.N))) # required depth of the binary tree\n",
    "        self.povm_dim = len(povm[0]) # dimension of the POVM operators\n",
    "        self.n_qubits = int(np.log2(self.povm_dim)) # number of system qubits\n",
    "        assert self.is_valid()\n",
    "    def is_valid(self):\n",
    "        \"\"\"Verifies the hermiticity, positivity of the POVM and that\n",
    "        the POVM resolves the identity.\n",
    "        Returns:\n",
    "            True: if all conditions are satisfied\n",
    "        Raises:\n",
    "            Assertion Error: if one of conditions is not satisfied\n",
    "        \"\"\"\n",
    "        for E in self.povm:\n",
    "            assert np.allclose(E.conj().T, E), \"Some POVM elements are not hermitian\"\n",
    "            assert np.all(np.linalg.eigvals(E).round(3) >= 0), \"Some POVM elements are not positive semi-definite\"\n",
    "        assert np.allclose(sum(self.povm), np.eye(self.povm_dim)), \"POVM does not resolve the identity\"\n",
    "        return True\n",
    "\n",
    "class BinaryTreePOVM(POVM):\n",
    "    \"\"\"Class which implements the binary tree approach as described in https://arxiv.org/abs/0712.2665 \n",
    "    to contruct a POVM measurement tree. \n",
    "    \"\"\"\n",
    "    def __init__(self, povm, dual=False):\n",
    "        \"\"\"Creates a binary stree structure with BinaryMeasurementNode objects\n",
    "        stored in <nodes> dictionary. The keys in the dictionary are the bitstrings \n",
    "        corresponding to the states of the classical register at the point when the\n",
    "        corresponding node has been \"reached\".\n",
    "\n",
    "        Args:\n",
    "            povm: list of POVM elements\n",
    "        \"\"\"\n",
    "        super().__init__(povm)\n",
    "        # pad with zero operators if necessary\n",
    "        while np.log2(self.N)-self.depth != 0:\n",
    "            self.povm.append(np.zeros_like(self.povm[0]))\n",
    "            self.N += 1\n",
    "             \n",
    "        self.nodes = {}\n",
    "        self.dual = dual\n",
    "\n",
    "        self.create_binary_tree(key=\"0\", start=0, end=self.N)\n",
    "        self.qc = self.construct_measurement_circuit()\n",
    "    def create_binary_tree(self, key, start, end):\n",
    "        \"\"\"Recursive method to build the measurement tree.\n",
    "        Terminates when the fine-grain level corresponding to the single POVM\n",
    "        elements is reached.\n",
    "\n",
    "        <start> and <end> are the first and (last-1) indices of POVM elements\n",
    "        which were grouped together to obtain a cumulative coarse-grain operator. \n",
    "        The range [start, end) corresponds to the possible outcomes which \"sit\" in \n",
    "        the branches below.\n",
    "        \"\"\"\n",
    "        if start >= (end-1):\n",
    "            return\n",
    "        new_node = BinaryMeasurementNode(self.povm, key=key, start=start, end=end)\n",
    "        self.nodes[key] = new_node\n",
    "        mid = int(start + (end-start)/2)\n",
    "        self.create_binary_tree(new_node.left, start=start, end=mid)\n",
    "        self.create_binary_tree(new_node.right, start=mid, end=end)        \n",
    "    def construct_measurement_circuit(self):\n",
    "        \"\"\"Contructs a quantum circuit <qc> for a given POVM by sequentially appending\n",
    "        coupling unitaries <U> and measurements conditioned on the state of the\n",
    "        classical register <cr>. The method uses BFS traversal of the precomputed \n",
    "        binary measurement tree, i.e. the measurement nodes are visited in level-order.\n",
    "        \n",
    "        * Traversal terminates when the fine-grain level was reached.\n",
    "        * Ancilla qubit is reset before each level.\n",
    "        * The root node has the key \"0\".\n",
    "\n",
    "        * The <if_test> instruction is applied to the entire classical register <cr>,\n",
    "          whereby the value is the key of the corresponding node - padded with zeros \n",
    "          from right to the length of the <cr> register - and interpreted as an integer.\n",
    "          \n",
    "          Example:\n",
    "            At the first level the two nodes have keys:\n",
    "                left = \"00\" and right = \"01\"\n",
    "            If the <cr> is 3 bits long, then the left/right unitary is applied if \n",
    "            the state of <cr> is int(\"000\",2) = 0 / int(\"010\",2) = 2\n",
    "        \"\"\"\n",
    "        system = QuantumRegister(self.n_qubits, name='system')\n",
    "        anc = QuantumRegister(1,name='ancilla')\n",
    "        cr = ClassicalRegister(self.depth)\n",
    "        qc = QuantumCircuit(system, anc, cr, name=\"measurement-circuit\")\n",
    "\n",
    "        root = self.nodes[\"0\"]\n",
    "        U_gate = UnitaryGate(root.U, label=root.key)\n",
    "        qc.append(U_gate, system[:] + anc[:])\n",
    "        if self.dual: # works for depth = 2\n",
    "            qc.x(anc)\n",
    "        qc.measure(anc, cr[0])\n",
    "        if self.depth == 1: return qc\n",
    "        qc.x(anc).c_if(cr[0],1)\n",
    "    \n",
    "        current_level = [self.nodes[\"00\"],self.nodes[\"10\"]]\n",
    "\n",
    "        for i in range(1,self.depth):\n",
    "            next_level = []\n",
    "            for node in current_level:\n",
    "                U_gate = UnitaryGate(node.U, label=node.key)\n",
    "                cr_state = int(node.key[:-1],2)\n",
    "                with qc.if_test((cr, cr_state)):\n",
    "                    qc.append(U_gate, system[:]+anc[:])\n",
    "                if node.left in self.nodes: next_level.append(self.nodes[node.left])\n",
    "                if node.right in self.nodes: next_level.append(self.nodes[node.right])\n",
    "                current_level = next_level\n",
    "            # dual condition must be checked here for larger systems\n",
    "            qc.measure(anc, cr[i])\n",
    "            if i == self.depth-1: continue\n",
    "            qc.x(anc).c_if(cr[i],1) # instead of resetting apply conditional X gate\n",
    "            \n",
    "        return qc\n",
    "\n",
    "class BinaryMeasurementNode(POVM):\n",
    "    \"\"\"A BinaryMeasurementNode object is a node in the BinaryTreePOVM.\n",
    "    It contains:\n",
    "        1. Its <key> in the <nodes> dictionary.\n",
    "        2. <start> and <end>: the first and (last-1) indices of the accumulated \n",
    "        POVM elements, corresponding this node.\n",
    "        3. Coupling unitary <U>.\n",
    "        4. Keys <left> and <right> of the two children nodes.\n",
    "        5. Attributes of the POVM class: <M>, <N>, <M_dim>.\n",
    "        6. Its level <level> in the binary tree, where level of the root node is 0.\n",
    "    \"\"\"\n",
    "    def __init__(self, povm, key, start, end):\n",
    "        super().__init__(povm)\n",
    "        self.key = key\n",
    "        self.level = len(self.key)-1\n",
    "        self.start = start\n",
    "        self.end = end\n",
    "        self.left = \"0\" + self.key\n",
    "        self.right = \"1\" + self.key\n",
    "        b0, b1 = get_next_level_binary_kraus_ops(self.povm, self.start, self.end)\n",
    "        self.U = extend_to_unitary(b0, b1)\n",
    "    def __str__(self):\n",
    "        line1 = 'Node with the key {} at level {}\\n'.format(self.key, self.level)\n",
    "        line2 = 'Cumulative operator = [{},{})'.format(self.start, self.end)\n",
    "        line3 = 'left = {}, right = {}\\n'.format(self.left, self.right)\n",
    "        line4 = 'U = \\n{}\\n'.format(self.U)\n",
    "        return line1+line2+line3+line4"
   ]
  },
  {
   "cell_type": "markdown",
   "metadata": {},
   "source": [
    "### Implementing Naimark's extension circuit"
   ]
  },
  {
   "cell_type": "code",
   "execution_count": 33,
   "metadata": {},
   "outputs": [],
   "source": [
    "from numpy.linalg import svd\n",
    "from qiskit.visualization import plot_histogram\n",
    "\n",
    "def check_for_rank_one(povm):\n",
    "    \"\"\"\n",
    "    function to check if a povm is a rank-1 povm\n",
    "    \"\"\"\n",
    "    rank_one = True\n",
    "    for p in povm:\n",
    "        if np.linalg.matrix_rank(p)!=1:\n",
    "            rank_one = False\n",
    "            return rank_one\n",
    "        else:\n",
    "            continue\n",
    "    return rank_one\n",
    "            \n",
    "# %%\n",
    "def compute_rank_one_unitary(povm, atol=1e-13, rtol=0):\n",
    "    \"\"\"\n",
    "    This function computes the unitary that rotates the system to the Hilbert space of the ancilla\n",
    "    Input:  POVM ---> a list of the elements of POVM\n",
    "    Output: Unitary matrix\n",
    "    \"\"\"\n",
    "           \n",
    "    # check if povm is a rank-1 povm:\n",
    "    assert check_for_rank_one(povm), \"This is not a rank-1 povm\"\n",
    "    new_povm = []\n",
    "    for p in povm:\n",
    "        if np.log2(len(povm))%2==0: #still under investigation\n",
    "            w, v = np.linalg.eig(p)\n",
    "        else: \n",
    "            w, v = np.linalg.eigh(p) #note the that the eigenvenvector is computer for hermitian eigh\n",
    "        for eigenvalue, engenvector in zip(w,v):\n",
    "            if np.isclose(np.abs(eigenvalue), 0):\n",
    "                continue\n",
    "            else:\n",
    "                new_p = np.sqrt(eigenvalue)*engenvector\n",
    "                new_povm.append(new_p)\n",
    "    v = np.vstack(new_povm) # arrange the povm elements to form a matrix of dimension: Row X Col*len(povm)\n",
    "    v = np.atleast_2d(v.T) # convert to 2d matrix\n",
    "    \n",
    "    u, s, vh = svd(v)    # apply svd\n",
    "    tol = max(atol, rtol * s[0])\n",
    "    nnz = (s >= tol).sum()\n",
    "    ns = vh[nnz:]         # missing rows of v\n",
    "    \n",
    "    # add the missing rows of v to v\n",
    "    V = np.vstack((v, ns)) \n",
    "    \n",
    "    \n",
    "    # make the unitary a square matrix of dimension N=2^n where n = int(np.ceil(np.log(V.shape[0])))\n",
    "    n = int(np.ceil(np.log2(V.shape[0])))\n",
    "    N = 2**n      # dimension of system and ancilla Hilber space\n",
    "    r,c = V.shape  \n",
    "    \n",
    "    U = np.eye(N, dtype=complex) # initialize Unitary matrix to the identity. Ensure it is complex\n",
    "    U[:r,:c] = V[:r,:c] # assign all the elements of V to the corresponding elements of U\n",
    "    \n",
    "    U = U.conj().T  # Transpose the unitary so that the rows are the povm\n",
    "    \n",
    "    # check for unitarity of U\n",
    "    assert np.allclose(U.T.conj()@U, np.eye(N),atol=1e-13), \"Failed to construct U\"\n",
    "    \n",
    "    return U\n",
    "    \n",
    "# %%\n",
    "# Using the original unitary generator\n",
    "\n",
    "def compute_full_rank_unitary(povm, atol=1e-13, rtol=0):\n",
    "    \"\"\"\n",
    "    This function computes the unitary that rotates the system to the Hilbert space of the ancilla\n",
    "    Input:  POVM ---> a list of the elements of POVM\n",
    "    Output: Unitary matrix\n",
    "    \"\"\"\n",
    "    \n",
    "         \n",
    "    # Here square root of the POVM elements were used as a replacement for the vector that form the povm\n",
    "    povm = [sqrtm(M)for M in povm]\n",
    "    \n",
    "    v = np.hstack(povm) # arrange the povm elements to form a matrix of dimension: Row X Col*len(povm)\n",
    "    v = np.atleast_2d(v) # convert to 2d matrix\n",
    "    u, s, vh = svd(v)    # apply svd\n",
    "    tol = max(atol, rtol * s[0])\n",
    "    nnz = (s >= tol).sum()\n",
    "    ns = vh[nnz:]         # missing rows of v\n",
    "    \n",
    "    # add the missing rows of v to v\n",
    "    V = np.vstack((v, ns)) \n",
    "    \n",
    "    \n",
    "    # make the unitary a square matrix of dimension N=2^n where n = int(np.ceil(np.log(V.shape[0])))\n",
    "    n = int(np.ceil(np.log2(V.shape[0])))\n",
    "    N = 2**n      # dimension of system and ancilla Hilber space\n",
    "    r,c = V.shape  \n",
    "    \n",
    "    U = np.eye(N, dtype=complex) # initialize Unitary matrix to the identity. Ensure it is complex\n",
    "    U[:r,:c] = V[:r,:c] # assign all the elements of V to the corresponding elements of U\n",
    "    \n",
    "    U = U.conj().T  # Transpose the unitary so that the rows are the povm\n",
    "    \n",
    "    # check for unitarity of U\n",
    "    assert np.allclose(U.T.conj()@U, np.eye(N),atol=1e-07), \"Failed to construct U\"\n",
    "    \n",
    "    return U\n",
    "\n",
    "# %%\n",
    "def rank_one_circuit(povm, state, U):\n",
    "    \n",
    "    # Define the quantum and classical registers\n",
    "    dim_system = state.shape[1] # dimension of state\n",
    "    num_system_qubit = int(np.ceil(np.log2(dim_system))) # total number of qubits for system\n",
    "\n",
    "    system_reg = QuantumRegister(num_system_qubit, name='system') # system register\n",
    "\n",
    "    N = U.shape[0] # Dimension of the unitary to be applied to system and ancilla\n",
    "\n",
    "    num_ancilla_qubit = int(np.ceil(np.log2(N))) - num_system_qubit # total number of qubits for system\n",
    "\n",
    "    ancilla_reg = QuantumRegister(num_ancilla_qubit, name='ancilla') # ancilla register\n",
    "\n",
    "    U_gate = UnitaryGate(U, label='U') # unitary gate to be applied between system and ancilla\n",
    "    \n",
    "    \n",
    "    # create the quantum circuit for the system and ancilla\n",
    "    qc = QuantumCircuit(system_reg, ancilla_reg, name='circuit')\n",
    "    qc.initialize(state[0],system_reg)\n",
    "\n",
    "    # reset ancilla to zero\n",
    "    qc.reset(ancilla_reg)\n",
    "\n",
    "    # append the unitary gate\n",
    "    qc.append(U_gate, range(system_reg.size + ancilla_reg.size))\n",
    "\n",
    "    # measure only the ancilliary qubits\n",
    "    qc.measure_all()\n",
    "    \n",
    "    return qc\n",
    "\n",
    "# %%\n",
    "def full_rank_circuit(povm, state, U):\n",
    "    \n",
    "    # Define the quantum and classical registers\n",
    "    dim_system = state.shape[1] # dimension of state\n",
    "    num_system_qubit = int(np.ceil(np.log2(dim_system))) # total number of qubits for system\n",
    "\n",
    "    system_reg = QuantumRegister(num_system_qubit, name='system') # system register\n",
    "\n",
    "    N = U.shape[0] # Dimension of the unitary to be applied to system and ancilla\n",
    "\n",
    "    num_ancilla_qubit = int(np.ceil(np.log2(N))) - num_system_qubit # total number of qubits for system\n",
    "\n",
    "    ancilla_reg = QuantumRegister(num_ancilla_qubit, name='ancilla') # ancilla register\n",
    "\n",
    "    classical_reg = ClassicalRegister(num_ancilla_qubit, name='measure') # classical register\n",
    "\n",
    "    U_gate = UnitaryGate(U, label='U') # unitary gate to be applied between system and ancilla\n",
    "    \n",
    "    \n",
    "    # create the quantum circuit for the system and ancilla\n",
    "    qc = QuantumCircuit(system_reg, ancilla_reg, classical_reg, name='circuit')\n",
    "    qc.initialize(state[0],system_reg)\n",
    "\n",
    "    # reset ancilla to zero\n",
    "    qc.reset(ancilla_reg)\n",
    "\n",
    "    # append the unitary gate\n",
    "    qc.append(U_gate, range(system_reg.size + ancilla_reg.size))\n",
    "\n",
    "    # measure only the ancilliary qubits\n",
    "    qc.measure(ancilla_reg, classical_reg)\n",
    "    \n",
    "    return qc\n",
    "\n",
    "# %%\n",
    "def construct_quantum_circuit(povm, state):\n",
    "    \n",
    "    # compute unitary matrix\n",
    "    if check_for_rank_one(povm):\n",
    "        U = compute_rank_one_unitary(povm)\n",
    "        qc = rank_one_circuit(povm, state, U)\n",
    "    else:\n",
    "        U = compute_full_rank_unitary(povm)\n",
    "        qc = full_rank_circuit(povm, state, U)\n",
    "    \n",
    "    return qc\n",
    "\n",
    "# %%\n",
    "def draw_circuit(qc, idle_wires=True):\n",
    "    \"\"\"\n",
    "    This functions draws the naimark extension quantum circuit\n",
    "    \"\"\"\n",
    "    \n",
    "    return qc.draw(output='mpl', idle_wires=idle_wires)\n",
    "\n",
    "def naimark_plot(povm, state, counts, names, save=False, file_name=\"povm_output.pdf\"):  \n",
    "    theory_count = theoretical_probs(povm, state)\n",
    "    count_list = [theory_count]\n",
    "    #legend_list = [\"Theoretical result\"]\n",
    "    legend_list = ['Theory (t)']\n",
    "        \n",
    "    for count, name in zip(counts, names):\n",
    "        count_list.append(count)\n",
    "        legend_list.append(name)\n",
    "    \n",
    "    fig = plot_histogram(count_list, legend=legend_list, bar_labels=True)\n",
    "    ax = fig.axes[0]\n",
    "    title = f\"Tetrad POVM with Naimark's extension approach\"\n",
    "    ax.set_title(title, fontsize=12)\n",
    "    ax.set_ylabel('Probabilities', fontsize=12)\n",
    "    ax.set_xlabel('POVM elements', fontsize=12)\n",
    "    \n",
    "    x_lables = []\n",
    "    for i in range(len(povm)):\n",
    "        x_lables.append(\"M\"+str(i))\n",
    "    ax.set_xticks(range(len(povm)))\n",
    "    ax.set_xticklabels(x_lables)\n",
    "    \n",
    "    ax.legend(fontsize=12)\n",
    "    fig.tight_layout()\n",
    "    \n",
    "    if save:\n",
    "        fig.savefig(file_name)\n",
    "        \n",
    "        \n",
    "    return fig"
   ]
  },
  {
   "cell_type": "markdown",
   "metadata": {},
   "source": [
    "## Qiskit version and copyright <a id='version'></a>"
   ]
  },
  {
   "cell_type": "code",
   "execution_count": 34,
   "metadata": {},
   "outputs": [
    {
     "data": {
      "text/html": [
       "<h3>Version Information</h3><table><tr><th>Qiskit Software</th><th>Version</th></tr><tr><td><code>qiskit-terra</code></td><td>0.22.3</td></tr><tr><td><code>qiskit-aer</code></td><td>0.11.2</td></tr><tr><td><code>qiskit-ibmq-provider</code></td><td>0.19.2</td></tr><tr><td><code>qiskit</code></td><td>0.39.4</td></tr><tr><th>System information</th></tr><tr><td>Python version</td><td>3.8.8</td></tr><tr><td>Python compiler</td><td>MSC v.1916 64 bit (AMD64)</td></tr><tr><td>Python build</td><td>default, Apr 13 2021 15:08:03</td></tr><tr><td>OS</td><td>Windows</td></tr><tr><td>CPUs</td><td>4</td></tr><tr><td>Memory (Gb)</td><td>7.857898712158203</td></tr><tr><td colspan='2'>Wed Jan 11 12:10:31 2023 W. Europe Standard Time</td></tr></table>"
      ],
      "text/plain": [
       "<IPython.core.display.HTML object>"
      ]
     },
     "metadata": {},
     "output_type": "display_data"
    },
    {
     "data": {
      "text/html": [
       "<div style='width: 100%; background-color:#d5d9e0;padding-left: 10px; padding-bottom: 10px; padding-right: 10px; padding-top: 5px'><h3>This code is a part of Qiskit</h3><p>&copy; Copyright IBM 2017, 2023.</p><p>This code is licensed under the Apache License, Version 2.0. You may<br>obtain a copy of this license in the LICENSE.txt file in the root directory<br> of this source tree or at http://www.apache.org/licenses/LICENSE-2.0.<p>Any modifications or derivative works of this code must retain this<br>copyright notice, and modified files need to carry a notice indicating<br>that they have been altered from the originals.</p></div>"
      ],
      "text/plain": [
       "<IPython.core.display.HTML object>"
      ]
     },
     "metadata": {},
     "output_type": "display_data"
    }
   ],
   "source": [
    "import qiskit.tools.jupyter\n",
    "%qiskit_version_table\n",
    "%qiskit_copyright"
   ]
  }
 ],
 "metadata": {
  "kernelspec": {
   "display_name": "Python 3.8.8 ('qiskit_env': venv)",
   "language": "python",
   "name": "python3"
  },
  "language_info": {
   "codemirror_mode": {
    "name": "ipython",
    "version": 3
   },
   "file_extension": ".py",
   "mimetype": "text/x-python",
   "name": "python",
   "nbconvert_exporter": "python",
   "pygments_lexer": "ipython3",
   "version": "3.8.8"
  },
  "vscode": {
   "interpreter": {
    "hash": "d40343b2b8fe07cae983373af2e631c3feb542de4b1fdf9434c5290f2e9f60fc"
   }
  }
 },
 "nbformat": 4,
 "nbformat_minor": 2
}
