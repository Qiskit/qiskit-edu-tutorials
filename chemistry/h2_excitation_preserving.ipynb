{
 "cells": [
  {
   "cell_type": "markdown",
   "metadata": {},
   "source": [
    "## _*H2 energy plot computed using ExcitationPreserving*_\n",
    "\n",
    "This notebook demonstrates using Qiskit Nature to plot graphs of the ground state energy of the Hydrogen (H2) molecule over a range of inter-atomic distances using VQE and ExcitationPreserving. It is compared to the same energies as computed by the NumPyMinimumEigensolver. `ExcitationPreserving` is a particle preserving variational form and should be used in conjunction with operator `jordan_wigner mapping` and `HarteeFock` initial state."
   ]
  },
  {
   "cell_type": "code",
   "execution_count": 5,
   "metadata": {},
   "outputs": [],
   "source": [
    "import numpy as np\n",
    "import pylab\n",
    "\n",
    "from qiskit_nature.second_q.drivers import PySCFDriver\n",
    "from qiskit_nature.second_q.formats import MoleculeInfo\n",
    "from qiskit_nature.second_q.mappers import JordanWignerMapper\n",
    "from qiskit_nature.second_q.algorithms import GroundStateEigensolver\n",
    "\n",
    "from qiskit_algorithms import NumPyMinimumEigensolver\n",
    "\n",
    "from qiskit_algorithms.optimizers import SLSQP\n",
    "\n",
    "from qiskit_nature.second_q.circuit.library import HartreeFock, UCCSD\n",
    "from qiskit_algorithms import VQE\n",
    "\n",
    "from qiskit.circuit.library import ExcitationPreserving\n",
    "from qiskit.primitives import Estimator"
   ]
  },
  {
   "cell_type": "code",
   "execution_count": 29,
   "metadata": {
    "scrolled": true
   },
   "outputs": [],
   "source": [
    "distances  = [0.5 + 0.025*x  for x in range(0, 20)]\n",
    "\n",
    "def compute_energies(algorithm, distances):\n",
    "    print(f'{algorithm}, processing step __', end='')\n",
    "\n",
    "    energies = []\n",
    "    hf_energies = []\n",
    "    estimator = Estimator()\n",
    "\n",
    "    for i, d in enumerate(distances):\n",
    "        print('\\b\\b{:2d}'.format(i), end='', flush=True)\n",
    "\n",
    "        info = MoleculeInfo([\"H\", \"H\"], [(0.0, 0.0, 0.0), (0.0, 0.0, d)])\n",
    "        driver = PySCFDriver.from_molecule(info, basis=\"sto3g\")\n",
    "        molecule = driver.run()\n",
    "        hamiltonian = molecule.hamiltonian.second_q_op()\n",
    "        mapper = JordanWignerMapper()\n",
    "        tapered_mapper = molecule.get_tapered_mapper(mapper)\n",
    "        qubit_op = tapered_mapper.map(hamiltonian)\n",
    "\n",
    "        if algorithm == 'NumPyMinimumEigensolver':\n",
    "            algo = NumPyMinimumEigensolver()\n",
    "            algo.filter_criterion = molecule.get_default_filter_criterion()\n",
    "            solver = GroundStateEigensolver(mapper, algo)\n",
    "            result = solver.solve(molecule)\n",
    "            hf_energies.append(result.hartree_fock_energy)\n",
    "            energies.append(result.total_energies[0])\n",
    "\n",
    "        elif algorithm == 'VQE':\n",
    "            optimizer = SLSQP(maxiter=10000, ftol=1e-9)\n",
    "            ansatz = ExcitationPreserving(4, reps=5) # https://docs.quantum.ibm.com/api/qiskit/qiskit.circuit.library.ExcitationPreserving for all parameters\n",
    "            vqe = VQE(estimator, ansatz, optimizer)\n",
    "            algo = GroundStateEigensolver(tapered_mapper, vqe)\n",
    "            result = algo.solve(molecule)\n",
    "            energies.append(result.total_energies[0])\n",
    "            ansatz.decompose().draw()\n",
    "\n",
    "    print(' --- complete')\n",
    "    return hf_energies, energies"
   ]
  },
  {
   "cell_type": "code",
   "execution_count": 30,
   "metadata": {},
   "outputs": [
    {
     "name": "stdout",
     "output_type": "stream",
     "text": [
      "NumPyMinimumEigensolver, processing step 19 --- complete\n",
      "VQE, processing step 19 --- complete\n"
     ]
    }
   ],
   "source": [
    "hf_energies, npme_energies = compute_energies('NumPyMinimumEigensolver', distances)\n",
    "_, vqe_energies = compute_energies('VQE', distances)"
   ]
  },
  {
   "cell_type": "code",
   "execution_count": 32,
   "metadata": {},
   "outputs": [
    {
     "name": "stdout",
     "output_type": "stream",
     "text": [
      "qiskit==1.1.0\n",
      "qiskit-aer==0.14.2\n",
      "qiskit-algorithms==0.3.0\n",
      "qiskit-ibm-runtime==0.25.0\n",
      "qiskit-machine-learning==0.7.2\n",
      "qiskit-nature==0.7.2\n",
      "qiskit-nature-pyscf==0.4.0\n",
      "qiskit-qasm3-import==0.5.0\n",
      "qiskit-transpiler-service==0.4.5\n"
     ]
    }
   ],
   "source": [
    "! pip freeze | grep qiskit"
   ]
  }
 ],
 "metadata": {
  "kernelspec": {
   "display_name": "Python 3",
   "language": "python",
   "name": "python3"
  },
  "language_info": {
   "codemirror_mode": {
    "name": "ipython",
    "version": 3
   },
   "file_extension": ".py",
   "mimetype": "text/x-python",
   "name": "python",
   "nbconvert_exporter": "python",
   "pygments_lexer": "ipython3",
   "version": "3.10.15"
  }
 },
 "nbformat": 4,
 "nbformat_minor": 1
}
