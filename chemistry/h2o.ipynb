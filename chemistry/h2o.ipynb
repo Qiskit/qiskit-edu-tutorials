{
 "cells": [
  {
   "cell_type": "markdown",
   "metadata": {},
   "source": [
    "## _*Qiskit Chemistry, H2O ground state computation*_\n",
    "\n",
    "This notebook demonstrates how to use Qiskit Chemistry to compute the ground state energy of a water (H2O) molecule using VQE and UCCSD.\n",
    "\n",
    "While the molecule has been input below to the driver in xyz format, the Z-matrix format is also support. H2O in Z-matrix format would look like this \n",
    "```\n",
    "H; O 1 1.08; H 2 1.08 1 104.5\n",
    "```\n",
    "and is convenient when the goal is to change bond angle, or plot the energy changing distance(s) while preserving the angle.\n",
    "\n",
    "This notebook has been written to use the PYSCF chemistry driver. "
   ]
  },
  {
   "cell_type": "code",
   "execution_count": 1,
   "metadata": {},
   "outputs": [],
   "source": [
    "import numpy as np\n",
    "import pylab\n",
    "\n",
    "from qiskit_nature.second_q.drivers import PySCFDriver\n",
    "from qiskit_nature.second_q.transformers import FreezeCoreTransformer\n",
    "from qiskit_nature.second_q.mappers import ParityMapper\n",
    "from qiskit_nature.second_q.algorithms import GroundStateEigensolver\n",
    "\n",
    "from qiskit_algorithms import NumPyMinimumEigensolver\n",
    "\n",
    "from qiskit_algorithms.optimizers import SLSQP\n",
    "\n",
    "from qiskit_nature.second_q.circuit.library import HartreeFock, UCCSD\n",
    "from qiskit_algorithms import VQE\n",
    "from qiskit.primitives import Estimator"
   ]
  },
  {
   "cell_type": "markdown",
   "metadata": {},
   "source": [
    "First we create and run a driver to produce our molecule object. The molecule object holds data from the drivers in a common way so it can then be used independently of which specific driver created it.\n",
    "\n",
    "And let's print some of fields it has."
   ]
  },
  {
   "cell_type": "code",
   "execution_count": 24,
   "metadata": {},
   "outputs": [
    {
     "name": "stdout",
     "output_type": "stream",
     "text": [
      "Nuclear repulsion energy: 9.193913160623385 Ha\n",
      "Reference energy: -74.96294665653873 Ha\n",
      "Number of spin orbitals: 14\n",
      "Number of alpha electrons: 5\n",
      "Number of beta electrons: 5\n"
     ]
    }
   ],
   "source": [
    "driver = PySCFDriver(atom='O 0.0 0.0 0.0; H 0.757 0.586 0.0; H -0.757 0.586 0.0', charge=0, spin=0, basis='sto3g')\n",
    "molecule = driver.run()\n",
    "\n",
    "print(f'Nuclear repulsion energy: {molecule.nuclear_repulsion_energy} Ha')\n",
    "print(f'Reference energy: {molecule.reference_energy} Ha')\n",
    "print(f'Number of spin orbitals: {molecule.num_spin_orbitals}')\n",
    "print(f'Number of alpha electrons: {molecule.num_alpha}')\n",
    "print(f'Number of beta electrons: {molecule.num_beta}')"
   ]
  },
  {
   "cell_type": "code",
   "execution_count": 27,
   "metadata": {},
   "outputs": [
    {
     "name": "stdout",
     "output_type": "stream",
     "text": [
      "Number of qubits: 10, number of paulis: 551\n",
      "=== GROUND STATE ENERGY ===\n",
      " \n",
      "* Electronic ground state energy (Hartree): -84.206272446429\n",
      "  - computed part:      -23.544497240444\n",
      "  - FreezeCoreTransformer extracted energy part: -60.661775205985\n",
      "~ Nuclear repulsion energy (Hartree): 9.193913160623\n",
      "> Total ground state energy (Hartree): -75.012359285806\n",
      " \n",
      "=== MEASURED OBSERVABLES ===\n",
      " \n",
      "  0:  # Particles: 8.000 S: 0.000 S^2: 0.000 M: 0.000\n",
      " \n",
      "=== DIPOLE MOMENTS ===\n",
      " \n",
      "~ Nuclear dipole moment (a.u.): [0.0  2.21475902  0.0]\n",
      " \n",
      "  0: \n",
      "  * Electronic dipole moment (a.u.): [0.0  1.578672632401  0.0]\n",
      "    - computed part:      [0.0  1.577787979435  0.0]\n",
      "    - FreezeCoreTransformer extracted energy part: [0.0  0.000884652966  0.0]\n",
      "  > Dipole moment (a.u.): [0.0  0.636086387599  0.0]  Total: 0.636086387599\n",
      "                 (debye): [0.0  1.616770178304  0.0]  Total: 1.616770178304\n",
      " \n"
     ]
    }
   ],
   "source": [
    "transformer = FreezeCoreTransformer()\n",
    "transformed_molecule = transformer.transform(molecule)\n",
    "mapper = ParityMapper(num_particles=transformed_molecule.num_particles)\n",
    "\n",
    "algo = NumPyMinimumEigensolver()\n",
    "algo.filter_criterion = transformed_molecule.get_default_filter_criterion()\n",
    "solver = GroundStateEigensolver(mapper, algo)\n",
    "op, _ = solver.get_qubit_operators(transformed_molecule)\n",
    "print(f'Number of qubits: {op.num_qubits}, number of paulis: {len(op.paulis)}')\n",
    "result = solver.solve(transformed_molecule)\n",
    "print(result)\n"
   ]
  },
  {
   "cell_type": "markdown",
   "metadata": {},
   "source": [
    "#### Using VQE\n",
    "\n",
    "Here we will start with the qubit operator that we computed above. We need to setup an optimizer, variational form and initial state for use with VQE.\n",
    "\n",
    "The variational form and UCCSD are a little more complex since they need information about numbers of orbitals and numbers of electrons, as well as what qubit mapping etc was used for the qubit operator."
   ]
  },
  {
   "cell_type": "code",
   "execution_count": 32,
   "metadata": {},
   "outputs": [
    {
     "name": "stdout",
     "output_type": "stream",
     "text": [
      "Number of qubits: 8, number of paulis: 514\n",
      "=== GROUND STATE ENERGY ===\n",
      " \n",
      "* Electronic ground state energy (Hartree): -84.20617191118\n",
      "  - computed part:      -23.544396705194\n",
      "  - FreezeCoreTransformer extracted energy part: -60.661775205985\n",
      "~ Nuclear repulsion energy (Hartree): 9.193913160623\n",
      "> Total ground state energy (Hartree): -75.012258750556\n",
      " \n",
      "=== MEASURED OBSERVABLES ===\n",
      " \n",
      "  0:  # Particles: 8.000 S: 0.000 S^2: 0.000 M: 0.000\n",
      " \n",
      "=== DIPOLE MOMENTS ===\n",
      " \n",
      "~ Nuclear dipole moment (a.u.): [0.0  2.21475902  0.0]\n",
      " \n",
      "  0: \n",
      "  * Electronic dipole moment (a.u.): [None  1.578671818463  None]\n",
      "    - computed part:      [None  1.577787165497  None]\n",
      "    - FreezeCoreTransformer extracted energy part: [0.0  0.000884652966  0.0]\n",
      "  > Dipole moment (a.u.): [None  0.636087201537  None]  Total: None\n",
      "                 (debye): [None  1.616772247128  None]  Total: None\n",
      " \n"
     ]
    }
   ],
   "source": [
    "tapered_mapper = transformed_molecule.get_tapered_mapper(mapper)\n",
    "estimator = Estimator()\n",
    "\n",
    "optimizer = SLSQP(maxiter=10000, ftol=1e-9)\n",
    "ansatz = UCCSD(\n",
    "    transformed_molecule.num_spatial_orbitals,\n",
    "    transformed_molecule.num_particles,\n",
    "    tapered_mapper,\n",
    "    initial_state=HartreeFock(\n",
    "    transformed_molecule.num_spatial_orbitals,\n",
    "    transformed_molecule.num_particles,\n",
    "    tapered_mapper,\n",
    "    )\n",
    ")\n",
    "vqe = VQE(estimator, ansatz, optimizer)\n",
    "vqe.initial_point = [0] * ansatz.num_parameters\n",
    "solver = GroundStateEigensolver(tapered_mapper, vqe)\n",
    "op, _ = solver.get_qubit_operators(transformed_molecule)\n",
    "print(f'Number of qubits: {op.num_qubits}, number of paulis: {len(op.paulis)}')\n",
    "\n",
    "result = solver.solve(transformed_molecule)\n",
    "print(result)"
   ]
  },
  {
   "cell_type": "markdown",
   "metadata": {},
   "source": [
    "#### Z-matrix format\n",
    "\n",
    "Z-matrix was mentioned in the introduction. Lets show it in use in a quick final example here. We'll use NumPyMinimumEigensolver as the goal here is just to show the technique. We will keep the bond angle between the Hydrogen atoms and Oxygen constant while varying the interatomic distance of one the Hydrogen atoms. This is simple to do in Z-matrix format, though can of course be done using xyz format but that needs more work to compute the coordinates each time."
   ]
  },
  {
   "cell_type": "code",
   "execution_count": 46,
   "metadata": {},
   "outputs": [],
   "source": [
    "distances = [x * 0.01 + 1.0 for x in range(15)]\n",
    "energies = np.empty(len(distances))\n",
    "\n",
    "for i, distance in enumerate(distances):\n",
    "    driver = PySCFDriver(f'H; O 1 1.08; H 2 {distance} 1 104.5', basis='sto3g')\n",
    "    molecule = driver.run()\n",
    "    transformer = FreezeCoreTransformer()\n",
    "    transformed_molecule = transformer.transform(molecule)\n",
    "    mapper = ParityMapper(num_particles=transformed_molecule.num_particles)\n",
    "    algo = NumPyMinimumEigensolver()\n",
    "    algo.filter_criterion = transformed_molecule.get_default_filter_criterion()\n",
    "    solver = GroundStateEigensolver(mapper, algo)\n",
    "    result = solver.solve(transformed_molecule)\n",
    "    energies[i] = result.total_energies[0]\n",
    "    "
   ]
  },
  {
   "cell_type": "code",
   "execution_count": 47,
   "metadata": {},
   "outputs": [
    {
     "data": {
      "text/plain": [
       "Text(0.5, 1.0, 'H2O molecule, one H atom distance varied')"
      ]
     },
     "execution_count": 47,
     "metadata": {},
     "output_type": "execute_result"
    },
    {
     "data": {
      "image/png": "[encoded data removed]",
      "text/plain": [
       "<Figure size 640x480 with 1 Axes>"
      ]
     },
     "metadata": {},
     "output_type": "display_data"
    }
   ],
   "source": [
    "pylab.plot(distances, energies)\n",
    "pylab.xlabel('Distance of Hydrogen atom (A)')\n",
    "pylab.ylabel('Energy (Ha)')\n",
    "pylab.title('H2O molecule, one H atom distance varied')"
   ]
  },
  {
   "cell_type": "code",
   "execution_count": 35,
   "metadata": {},
   "outputs": [
    {
     "name": "stdout",
     "output_type": "stream",
     "text": [
      "qiskit==1.1.0\n",
      "qiskit-aer==0.14.2\n",
      "qiskit-algorithms==0.3.0\n",
      "qiskit-ibm-runtime==0.25.0\n",
      "qiskit-machine-learning==0.7.2\n",
      "qiskit-nature==0.7.2\n",
      "qiskit-nature-pyscf==0.4.0\n",
      "qiskit-qasm3-import==0.5.0\n",
      "qiskit-transpiler-service==0.4.5\n"
     ]
    }
   ],
   "source": [
    "! pip freeze | grep qiskit"
   ]
  }
 ],
 "metadata": {
  "kernelspec": {
   "display_name": "Python 3",
   "language": "python",
   "name": "python3"
  },
  "language_info": {
   "codemirror_mode": {
    "name": "ipython",
    "version": 3
   },
   "file_extension": ".py",
   "mimetype": "text/x-python",
   "name": "python",
   "nbconvert_exporter": "python",
   "pygments_lexer": "ipython3",
   "version": "3.10.15"
  }
 },
 "nbformat": 4,
 "nbformat_minor": 1
}
