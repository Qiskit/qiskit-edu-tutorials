{
 "cells": [
  {
   "cell_type": "markdown",
   "id": "2eae1417",
   "metadata": {},
   "source": [
    "# Variational Quantum Deflation for excited states of molecules"
   ]
  },
  {
   "cell_type": "markdown",
   "id": "e08f9155",
   "metadata": {},
   "source": [
    "### Contents\n",
    "- Introduction\n",
    "- Outline of VQD\n",
    "- Using qiskit_algorithms VQD class\n",
    "- Additional constraints"
   ]
  },
  {
   "cell_type": "markdown",
   "id": "b5b5683a",
   "metadata": {},
   "source": [
    "## Introduction"
   ]
  },
  {
   "cell_type": "markdown",
   "id": "a7d8bd52",
   "metadata": {},
   "source": [
    "The simulation of excited states of molecular systems is an important task in quantum chemistry with relevance to technologies such as solar energy harvesting, catalysis, optoelectronics, and many others. Quantum computing protocols for accessing molecular excited state properties are therefore currently under active investigation [1–11]. In the NISQ era, approaches based on the Variational Quantum Eigensolver (VQE)[12] algorithm are of particular interest for their ability to represent useful quantum states on near term quantum devices using parameterized quantum circuits while offloading the optimization of the parameters specifying the quantum circuit to classical hardware. The hybrid quantum-classical paradigm implied by VQE and generalizations thereof has therefore undergone rapid development since 2014 [13]. Today most quantum computing platform APIs provide VQE solvers which can be deployed for computing ground state total energies of molecular systems using only a few lines of python code. Excited state solvers such as qEOM [6] are also available as user-friendly implementations [14] and certainly more will be implemented by platform providers in the near future. \n",
    "\n",
    "In this notebook, we will look at a simple extension of VQE to excited states known as Variational Quantum Deflation (VQD)  [11] which allows for the sequential computation of excited states with circuit depths that are comparable to ground state simulations. The method also allows for easy incorporation of additional constraints to target specific symmetry sectors. The demonstration follow the general approach outlined in the original paper by Higgott et al [11]. The focus of this tutorial is on the algorithm itself  and not on a specific NISQ hardware implementation which may require additional work. Hence, we will confine ourselves to abstraction layers such as the Operator Flow (opflow) [15] layer of IBM Qiskit [16] which offers a convenient language quantum mechanics practitioners can work with. For general background on Qiskit and VQE in the context of quantum chemistry, readers are referred to source materials on Qiskit-Nature [17]."
   ]
  },
  {
   "cell_type": "markdown",
   "id": "febe19f0",
   "metadata": {},
   "source": [
    "## Outline of VQD"
   ]
  },
  {
   "cell_type": "markdown",
   "id": "494bfab0",
   "metadata": {},
   "source": [
    "The Variational Quantum Deflation (VQD) algorithm [11] exploits the mutual orthogonality of the eigenstates of a Hermitian operator, in our case the Hamiltonian, to systematically find excited states using a constrained optimization approach. The necessary orthogonality constraint is introduced in the form of an $\\textit{overlap}$ penalty term in the cost function which is to be variationally optimized using a parameterized circuit ansatz. Concretely, while in VQE for ground states we vary the circuit parameters $\\theta$ to minimize the expectation \n",
    "\n",
    "$E(\\theta) \\equiv \\langle \\psi(\\theta) | H | \\psi(\\theta) \\rangle$ \n",
    "\n",
    "of the Hamiltonian $H$, in VQD, the more general cost function \n",
    "\n",
    "$F(\\theta_k) \\equiv \\langle \\psi(\\theta_k) | H | \\psi(\\theta_k) \\rangle + \\sum_{i=0}^{k-1} \\beta_i |\\langle \\psi(\\theta_k) | \\psi(\\theta_i) \\rangle |^2 $\n",
    "\n",
    "is minimized for each excited state $|\\psi(\\theta_k)\\rangle$ of interest. The second term on the right hand side is the overlap penalty term that enforces approximate orthogonality of the target state $|\\psi(\\theta_k)\\rangle$ with respect to every other previously identified eigenstate $|\\psi(\\theta_i)\\rangle$. For appropriately chosen  multipliers $\\beta_i$, the minimum of the cost function $F(\\theta_k)$ yields the energy of the state $|\\psi(\\theta_i)\\rangle$ as shown by Higgott et al [11]. \n",
    "\n",
    "Given the above, there are a few implementation details we need to consider: \n",
    "#### (i) Overlap estimation \n",
    "Since our variational ansatz states are of the form \n",
    "\n",
    "$|\\psi(\\theta_k) \\rangle \\equiv U(\\theta_k) |0\\rangle$\n",
    "\n",
    "specified by parameterized unitaries $U(\\theta_k)$, for the overlap penalty term, we can directly estimate \n",
    "\n",
    "$|\\langle \\psi(\\theta_i) | \\psi(\\theta_k) \\rangle |^2 = |\\langle 0 | U(\\theta_i)^{\\dagger} U(\\theta_k) |0 \\rangle |^2  = \\langle 0 | U(\\theta_k)^{\\dagger} U(\\theta_i) |0 \\rangle \\langle 0 |U(\\theta_i)^{\\dagger} U(\\theta_k) |0 \\rangle $\n",
    "\n",
    "which amounts to measuring the expectation value of the $n$-qubit projection operator $|0\\rangle\\langle0|$ in the state $U(\\theta_i)^{\\dagger} U(\\theta_k) |0 \\rangle $. We implement this below using Qiskit's opflow. As noted by Higgott et al [11] inverting the circuit describing $U(\\theta_i)$ only leads to an approximation of $U(\\theta_i)^{\\dagger}$ which maybe variationally optimized separately where high precision is needed. \n",
    "#### (ii) Storage of optimal parameters $\\lbrace \\theta_i \\rbrace$\n",
    "Since finding the state $|\\psi(\\theta_k)\\rangle$ requires knowledge of all preceding eigenstates specified by $\\theta_0, \\theta_1, ..., \\theta_{k-1}$, the parameter set $\\lbrace \\theta_i \\rbrace$ needs to be stored for on-the-fly retrieval within an iterative scheme. This is not a problem however since our working assumption is that the parameterization is compact enough to be stored in classical RAM while yielding circuits expressive enough to approximate useful quantum states. In the implementation below we store the optimal parameters simply as numpy arrays and use them not only within an excited state search at a given molecular geometry but also to provide starting guess parameters in a potential energy surface calculation.\n",
    "#### (iii) Choice of circuit ansatz\n",
    "Since the primary goal of this exercise is to reproduce the main result of Figure 2 from the original VQD paper [11], we employ the generic UCCGSD [18] variant of the unitary coupled cluster (UCC) ansatz which is the same circuit ansatz used in [11]. Conveniently, UCCGSD is already implemented in Qiskit. One can of course explore other variations of circuit ansatze on top this basic implementation. Note that we use two Trotter iterations with the UCC ansatz as it is found empirically that a single Totter step may not lead to expressive enough circuits for excited states."
   ]
  },
  {
   "cell_type": "markdown",
   "id": "ae4d9ba9",
   "metadata": {},
   "source": [
    "### Implementation for State Vector Simulators"
   ]
  },
  {
   "cell_type": "markdown",
   "id": "82da892e",
   "metadata": {},
   "source": [
    "We start with some necessary imports."
   ]
  },
  {
   "cell_type": "code",
   "execution_count": null,
   "id": "75089d0a",
   "metadata": {},
   "outputs": [],
   "source": []
  },
  {
   "cell_type": "markdown",
   "id": "18c6e654",
   "metadata": {},
   "source": [
    "The **VQD** class as defined below handles the tasks necessary to carry out the iterative VQD excited state search given a qubit Hamiltonian, a circuit wavefunction ansatz and a specified number of excited states. This class therefore requires a set of qubit operators and a circuit wavefunction ansatz to be provided at instantiation time where we set up necessary storage and specify the backend associated with simulating the circuits. \n",
    "\n",
    "The **get_overlap** function calculates the overlap between ansatz states using the n-qubit $|0\\rangle\\langle0|$ projector as outlined above.  \n",
    "\n",
    "The **get_expectation** function simply measures the expectation of a diagonal measurement given a set of parameters specifying an ansatz state. \n",
    "\n",
    "Both functions use the Qiskit opflow syntax.\n",
    "\n",
    "The **cost_fun_gen** function puts together the VQD cost function expression and includes a loop for calculating  overlaps between the target state and all previous eigenstates. \n",
    "\n",
    "The **calculate function** loops over each of the requested target states and calls the classical optimizer (P_BFGS in this case) to refine the parameters for each eigenstate."
   ]
  },
  {
   "cell_type": "code",
   "execution_count": null,
   "id": "e82588d3",
   "metadata": {},
   "outputs": [],
   "source": [
    "#from qiskit.opflow import StateFn, ExpectationFactory, CircuitStateFn\n",
    "from qiskit.circuit.library import IGate, ZGate \n",
    "import numpy.random as npr\n",
    "import scipy.linalg as sl\n",
    "from scipy.optimize import minimize\n",
    "\n",
    "class VQD:\n",
    "    \n",
    "    def __init__(self, qOps, wfnA, nEx, states=np.array([])):\n",
    "        self.qOps = qOps\n",
    "        self.wfnA = wfnA\n",
    "        self.nEx = nEx\n",
    "        self.states = states\n",
    "        \n",
    "        hq_op = self.qOps[0]  #Hamiltonian\n",
    "        \n",
    "        #Construct the n-qubit |0><0| projection operator needed for overlap estimation using opflow .\n",
    "        Qp = (1/2) * (IGate() + ZGate())\n",
    "        self.zProj = Qp\n",
    "        for iq in range(1, hq_op.num_qubits):\n",
    "            self.zProj ^= Qp\n",
    "\n",
    "        #Recast the wavefunction ansatz to a CircuitStateFn for opflow\n",
    "        self.wf_circ_op = CircuitStateFn(wfnA)\n",
    "                   \n",
    "        self.backend = AerSimulator(device='CPU', blocking_enable=True, method='statevector', batched_shots_gpu=True)\n",
    "        \n",
    "        expectation = ExpectationFactory.build(operator=hq_op,backend=self.backend,include_custom=True)\n",
    "        observable_meas = expectation.convert(StateFn(hq_op, is_measurement=True))\n",
    "        self.expect_op = observable_meas.compose(self.wf_circ_op).reduce()\n",
    "        \n",
    "        exp_proj = ExpectationFactory.build(operator=self.zProj,backend=self.backend,include_custom=True)\n",
    "        self.proj_meas = exp_proj.convert(StateFn(self.zProj, is_measurement=True))\n",
    "        \n",
    "        if not self.states.any():\n",
    "            self.wfn_params = np.eye(len(wfnA.parameters), nEx+1)\n",
    "        else:\n",
    "            self.wfn_params = self.states\n",
    "        self.nFound = 0\n",
    "        self.LagM = 3.0*np.ones(nEx)\n",
    "        self.optimizer = P_BFGS(maxfun=2000, ftol=0.000001, iprint=-1, max_processes=12)\n",
    "        self.fcount = 0\n",
    "        self.curr_state = 0\n",
    "        self.eigenvals = []\n",
    "\n",
    "    def get_overlap(self, wfn_anz, p_dict1, p_dict2):\n",
    "        \"\"\"\n",
    "        Function to calculate state overlap <state2 | state1> using OpFlow\n",
    "        ----Parameters----\n",
    "        wfn_anz: A parameterized circuit StateFn ansatz with unbound parameters\n",
    "        p_dict1: A dictionary of paramers to bind to obtain state1\n",
    "        p_dict2: A dictionary of paramers to bind to obtain state2\n",
    "        \"\"\"\n",
    "        state1 = wfn_anz.bind_parameters(p_dict1)\n",
    "        state2 = wfn_anz.bind_parameters(p_dict2)\n",
    "        state = CircuitStateFn(state1.compose(state2.inverse()))\n",
    "        exp_ovlp = self.proj_meas.compose(state).reduce()\n",
    "        return exp_ovlp.eval()\n",
    "    \n",
    "    def get_expectation(self, Mobj, p_dict):\n",
    "        \"\"\"\n",
    "        Function to calculate expectation values using OpFlow\n",
    "        ----Parameters----\n",
    "        Mobj: An OpFlow diagonal measurement object with unbound parameters\n",
    "        p_dict: A dictionary of paramers to bind\n",
    "        \"\"\"\n",
    "        #Bind all relevant parameters\n",
    "        expects = Mobj.bind_parameters(p_dict)\n",
    "        \n",
    "        #Call the eval function on the bound expectation object to get the results\n",
    "        res = expects.eval()\n",
    "        return res    \n",
    "    \n",
    "    def cost_fun_gen(self, params):\n",
    "        \"\"\"\n",
    "        Function that evalues the cost function for deflation\n",
    "        ----Parameters-----\n",
    "        params: parameters of the wf circuit ansatz as a list\n",
    "        \"\"\"\n",
    "        # Create a params dict from the provided list\n",
    "        p_vec = list(self.wf_circ_op.parameters)[0].vector\n",
    "        p_dict = {p_vec: params}\n",
    "\n",
    "        # Evaluate the Hamiltonian expectation value for the current parameter set using the saved diag measrement obj\n",
    "        ev = self.get_expectation(self.expect_op, p_dict)\n",
    "        pen = 0\n",
    "        for i in range(self.nFound):\n",
    "            params_i = (self.wfn_params[:,i])\n",
    "            p_dict_i = {p_vec: params_i}\n",
    "            ovlp = self.get_overlap(self.wfnA, p_dict, p_dict_i)\n",
    "            pen += self.LagM[0] * np.abs(ovlp)\n",
    "            \n",
    "        cost = np.real(ev) +  pen\n",
    "        \n",
    "        self.fcount += 1\n",
    "        #Uncomment for detailed optimization logging\n",
    "        #if self.fcount%50 == 0:\n",
    "        #    print(f'cost, ev, pen is: {cost, ev, pen}')\n",
    "        return cost\n",
    "    \n",
    "    def calculate(self):\n",
    "        #start with the 0th exciated state i.e. ground state\n",
    "        for iex in range(self.nEx+1):\n",
    "            self.curr_state = iex\n",
    "            if self.states.any():\n",
    "                p0 = self.states[:,iex]\n",
    "            else:\n",
    "                if iex == 0:\n",
    "                    p0 = self.wfnA.preferred_init_points\n",
    "                else:\n",
    "                    p0 = (np.pi/2) * np.random.rand(len(self.wfnA.preferred_init_points))\n",
    "                \n",
    "            bounds = [(-2 * np.pi, 2 * np.pi)] * len(self.wfnA.parameters)\n",
    "            res = self.optimizer.minimize(fun=self.cost_fun_gen, x0=p0, jac=None, bounds=bounds)\n",
    "            eigenval = res.fun\n",
    "            eig_params = res.x\n",
    "            self.nFound += 1\n",
    "            if self.nEx >= iex:\n",
    "                self.wfn_params[:,iex] = eig_params\n",
    "            print(f'index, eigenValue, eigenVector:{iex, eigenval, eig_params}')\n",
    "            self.eigenvals.append(eigenval)\n",
    "        return (self.eigenvals, self.wfn_params)\n",
    "        "
   ]
  },
  {
   "cell_type": "markdown",
   "id": "71aaacee",
   "metadata": {},
   "source": [
    "The **ExcitedStateCalculator** class defined below handles the tasks associated with setting up the qubit operators and circuit state ansatz for a specified molecular geometry at instantiation time. \n",
    "\n",
    "It provides a **quantum_solve** function which makes use of the VQD class defined above to perform a VQD excited state search for with the chosen qubit operators and circuit state ansatz.\n",
    "\n",
    "A convenience function **classical_solve** is also provided which diagonalizes a matrix representation of the specified qubit Hamiltonian using SciPy to yield exact results we can compare against VQD."
   ]
  },
  {
   "cell_type": "code",
   "execution_count": 3,
   "id": "d743cb7f",
   "metadata": {},
   "outputs": [],
   "source": [
    "class ExcitedStateCalculator:\n",
    "    def __init__(self, geometry):\n",
    "        self.geometry = geometry\n",
    "        # define molecule\n",
    "        self.mol = Molecule(geometry=geometry, charge=0, multiplicity=1)\n",
    "\n",
    "        # specify PYSCF classical driver\n",
    "        self.driver = ElectronicStructureMoleculeDriver(self.mol, basis=\"sto3g\", driver_type=ElectronicStructureDriverType.PYSCF)\n",
    "\n",
    "        # run the classical SCF driver\n",
    "        self.mf_result = self.driver.run()  \n",
    "        \n",
    "        # get particle number\n",
    "        self.mf_energy = self.mf_result.get_property(ElectronicEnergy)\n",
    "        self.particle_number = self.mf_result.get_property(ParticleNumber)\n",
    "        self.num_electrons = self.particle_number.num_particles\n",
    "        self.num_spin_orbitals = self.particle_number.num_spin_orbitals\n",
    "        self.num_molecular_orbitals = int(self.num_spin_orbitals//2)\n",
    "        \n",
    "        #specify active space transformation (not needed for this example)\n",
    "        active_space_trafo = ActiveSpaceTransformer(num_electrons=self.num_electrons, \n",
    "                                                    num_molecular_orbitals=self.num_molecular_orbitals)\n",
    "\n",
    "        # define electronic structure problem\n",
    "        self.es_problem = ElectronicStructureProblem(self.driver, transformers=[active_space_trafo])   \n",
    "        \n",
    "        #specify a quibit mapping (Jordan Wigner) of second quantized operators\n",
    "        qubit_converter = QubitConverter(JordanWignerMapper(), two_qubit_reduction=False)\n",
    "        \n",
    "        #specify a HartreeFock initial state \n",
    "        hf_init = HartreeFock(self.num_spin_orbitals, self.num_electrons, qubit_converter)\n",
    "        \n",
    "        #instantiate a generalized UCCGSD ansatz circuit with 2 Trotter steps.\n",
    "        self.wf_ansatz = UCCSD(qubit_converter=qubit_converter, num_particles=self.num_electrons, \n",
    "                               num_spin_orbitals=self.num_spin_orbitals, reps=2, initial_state=hf_init, \n",
    "                               preserve_spin=False, generalized=False)\n",
    "\n",
    "        #perform the Fermion to qubit mapping of second quantized operators \n",
    "        self.q_ops = qubit_converter.map(self.es_problem.second_q_ops())\n",
    "        \n",
    "        \n",
    "    def quantum_solve(self, num_excited_states, guess_state_parameters=np.array([])):\n",
    "        print(self.wf_ansatz)\n",
    "        vqdi = VQD(self.q_ops, self.wf_ansatz, num_excited_states, states=guess_state_parameters )\n",
    "        (eigenvalues, result_states) = vqdi.calculate()\n",
    "        #add nuclear repulsion to electronic energy\n",
    "        eigenvalues = [ x + self.mf_energy.nuclear_repulsion_energy for x in eigenvalues ]\n",
    "        return (eigenvalues, result_states)\n",
    "    \n",
    "    def classical_solve(self, num_excited_states):\n",
    "        #Extract relevant qubit operators\n",
    "        hq_op = self.q_ops[0]  #Hamiltonian\n",
    "        nq_op = self.q_ops[1]  #Number operator\n",
    "        \n",
    "        #extract matrix representations of qubit operators\n",
    "        H_Mat = hq_op.to_matrix()\n",
    "        N_Mat = nq_op.to_matrix()\n",
    "        \n",
    "        #diagonalize to extrant eigen energies and eigenfunctions\n",
    "        omega, psi = sl.eigh(H_Mat)\n",
    "        \n",
    "        #evaluate matrix elements of operators in eigenbasis\n",
    "        N_expect = np.dot(psi.conj().T,np.dot(N_Mat, psi))\n",
    "        E_expect = np.dot(psi.conj().T,np.dot(H_Mat, psi))\n",
    "        \n",
    "        #collect energies corresponding to states with the correct number of electrons\n",
    "        c_eigs = []\n",
    "        for i in range(N_Mat.shape[0]):\n",
    "            if abs(N_expect[i,i] - np.sum(self.num_electrons)) < 1e-8:\n",
    "                c_eigs.append(E_expect[i,i] + self.mf_energy.nuclear_repulsion_energy)\n",
    "        c_eigs = np.real(np.array(c_eigs))\n",
    "        return np.sort(c_eigs)[0:num_excited_states+1]\n",
    "        "
   ]
  },
  {
   "cell_type": "markdown",
   "id": "20475e55",
   "metadata": {},
   "source": [
    "Having defined the VQD and ExcitedStateCalculator classes above we are now ready to execute a simple loop over molecular geometries to generate ground and excited state potential energy surfaces (PES) for reproducing Figure 2 of the VQD paper [11]. \n",
    "\n",
    "Accordingly, we choose the **H$_2$** molecule in the **sto-3g** minimal basis set to set up a **4 qubit VQD** problem and loop over bond distances to generate the PES. There are a total of ${4 \\choose 2} = 6$ eigenstates with particle number 2 or 5 $\\textit{excited}$ states to calculate. "
   ]
  },
  {
   "cell_type": "markdown",
   "id": "966f59f8",
   "metadata": {},
   "source": [
    "After the VQD is done we call the **classical_solve** function to get the exact results for comparison at the same geometries. This of course can also be done in the same loop above used for VQD."
   ]
  },
  {
   "cell_type": "code",
   "execution_count": 5,
   "id": "5fd1bea3",
   "metadata": {},
   "outputs": [
    {
     "name": "stdout",
     "output_type": "stream",
     "text": [
      "[(0.3, array([-0.60180371,  0.83607559,  0.83607559,  0.83607559,  1.15771263,\n",
      "        2.64874383])), (0.4, array([-0.9141497 ,  0.2829341 ,  0.2829341 ,  0.2829341 ,  0.61196495,\n",
      "        1.86070463])), (0.5, array([-1.05515979, -0.07074011, -0.07074011, -0.07074011,  0.26700034,\n",
      "        1.30148575])), (0.6000000000000001, array([-1.11628601, -0.31096009, -0.31096009, -0.31096009,  0.0365012 ,\n",
      "        0.89008467])), (0.7, array([-1.13618945, -0.47845306, -0.47845306, -0.47845306, -0.1204519 ,\n",
      "        0.5833141 ])), (0.8, array([-1.13414767, -0.5971778 , -0.5971778 , -0.5971778 , -0.22792423,\n",
      "        0.35228457])), (0.9000000000000001, array([-1.12056028, -0.68284939, -0.68284939, -0.68284939, -0.301706  ,\n",
      "        0.17588132])), (1.0, array([-1.10115033, -0.74587179, -0.74587179, -0.74587179, -0.35229063,\n",
      "        0.03904763])), (1.1, array([-1.07919294, -0.7929597 , -0.7929597 , -0.7929597 , -0.38651524,\n",
      "       -0.0683013 ])), (1.2, array([-1.05674075, -0.82844335, -0.82844335, -0.82844335, -0.40886041,\n",
      "       -0.15271436])), (1.3, array([-1.03518627, -0.85523694, -0.85523694, -0.85523694, -0.42240202,\n",
      "       -0.21860355])), (1.4000000000000001, array([-1.01546825, -0.87542794, -0.87542794, -0.87542794, -0.42938376,\n",
      "       -0.26922131])), (1.5, array([-0.99814935, -0.89058478, -0.89058478, -0.89058478, -0.43151291,\n",
      "       -0.3071925 ])), (1.7, array([-0.97142669, -0.91033743, -0.91033743, -0.91033743, -0.42619176,\n",
      "       -0.35387022])), (1.9, array([-0.95433885, -0.92116973, -0.92116973, -0.92116973, -0.41374888,\n",
      "       -0.37334368])), (2.1, array([-0.94437468, -0.92699269, -0.92699269, -0.92699269, -0.39840556,\n",
      "       -0.37654036])), (2.3, array([-0.93892239, -0.93005864, -0.93005864, -0.93005864, -0.38249453,\n",
      "       -0.37096823])), (2.5, array([-0.93605492, -0.93163909, -0.93163909, -0.93163909, -0.36721899,\n",
      "       -0.36129348]))]\n"
     ]
    }
   ],
   "source": [
    "n_excited_states = 5\n",
    "counter = 0\n",
    "geom_vs_efci = []\n",
    "    \n",
    "for bond_distance in [ 0.3 + i*0.1 for i in range(12) ] + [ 1.5 + i*0.2 for i in range(6) ]:\n",
    "    #define molecular geometry \n",
    "    geometry = [[\"H\", [0.0, 0.0, 0.0]], [\"H\", [0.0, 0.0, bond_distance]]]\n",
    "    \n",
    "    #instantiate the solver\n",
    "    \n",
    "    pes = ExcitedStateCalculator(geometry)\n",
    "    fci_eigs = pes.classical_solve(n_excited_states)\n",
    "\n",
    "    geom_vs_efci.append((bond_distance, fci_eigs))\n",
    "    \n",
    "    counter += 1\n",
    "\n",
    "print(geom_vs_efci)\n"
   ]
  },
  {
   "cell_type": "markdown",
   "id": "205f093f",
   "metadata": {},
   "source": [
    "Finally, we are ready to plot up the results. As noted in reference [11] without additional symmetry constraints the VQD algorithm using the UCC ansatz finds all six eigenstates states of the sto-3g H$_2$ molecule with 2 electrons. We see only 4 curves below because of a triplet spin state which is 3-fold degenerate."
   ]
  },
  {
   "cell_type": "code",
   "execution_count": 6,
   "id": "8913d395",
   "metadata": {},
   "outputs": [
    {
     "data": {
      "image/png": "[encoded data removed]",
      "text/plain": [
       "<Figure size 432x288 with 1 Axes>"
      ]
     },
     "metadata": {
      "needs_background": "light"
     },
     "output_type": "display_data"
    }
   ],
   "source": [
    "import matplotlib.pyplot as plt\n",
    "n_excited_states = 5\n",
    "x = [ t[0] for t in geom_vs_energies ]\n",
    "for iex in range(n_excited_states + 1):\n",
    "    e_ex = [ t[1][iex] for t in geom_vs_energies ]\n",
    "    fci_ex = [ t[1][iex] for t in geom_vs_efci ]\n",
    "    if iex == 0:\n",
    "        plt.plot(x, fci_ex, color='red', label='Exact')\n",
    "        plt.plot(x, e_ex, '.', color='blue', label='VQD')\n",
    "    else:\n",
    "        plt.plot(x, fci_ex, color='red')\n",
    "        plt.plot(x, e_ex, '.', color='blue')\n",
    "        \n",
    "\n",
    "plt.ylabel('Energy (a.u)')\n",
    "plt.xlabel('Bond distance ($\\AA$)')\n",
    "\n",
    "plt.xlim([0.25, 2.5])\n",
    "plt.ylim([-1.25, 1.05])    \n",
    "plt.legend()\n",
    "plt.show()"
   ]
  },
  {
   "cell_type": "markdown",
   "id": "7f632186",
   "metadata": {},
   "source": [
    "As expected, the potential energy surfaces show good agreement between the exact SciPy results and the VQD algorithm since after all we ran the latter on a noiseless state vector simulator as backend and the UCC ansatz is sufficiently expressive for H$_2$. \n",
    "\n",
    "We can plot the difference between the VQD and exact energies as shown below and find that for all except the highest energy state, the difference is in the sub micro-Hartree range."
   ]
  },
  {
   "cell_type": "code",
   "execution_count": 7,
   "id": "436cacbe",
   "metadata": {},
   "outputs": [
    {
     "data": {
      "image/png": "[encoded data removed]",
      "text/plain": [
       "<Figure size 432x288 with 1 Axes>"
      ]
     },
     "metadata": {
      "needs_background": "light"
     },
     "output_type": "display_data"
    }
   ],
   "source": [
    "x = [ t[0] for t in geom_vs_energies ]\n",
    "for iex in range(n_excited_states + 1):\n",
    "    e_ex = [ t[1][iex] for t in geom_vs_energies ]\n",
    "    fci_ex = [ t[1][iex] for t in geom_vs_efci ]\n",
    "    d_ene = [ abs(e_ex[i] - fci_ex[i]) for i in range(len(geom_vs_efci))  ]\n",
    "    lbl = 'error state'+str(iex)\n",
    "    plt.plot(x, d_ene, marker='.',label=lbl)\n",
    "plt.ylabel('Energy error (a.u)')\n",
    "plt.xlabel('Bond distance ($\\AA$)')\n",
    "plt.xlim([0.25, 2.5])\n",
    "plt.yscale('log')\n",
    "plt.legend()\n",
    "plt.show()\n"
   ]
  },
  {
   "cell_type": "markdown",
   "id": "7ab57564",
   "metadata": {},
   "source": [
    "## Using qiskit_algorithms VQD class"
   ]
  },
  {
   "cell_type": "code",
   "execution_count": 2,
   "id": "2bc8ff3d",
   "metadata": {},
   "outputs": [],
   "source": [
    "import numpy as np\n",
    "import pylab\n",
    "\n",
    "from qiskit_nature.second_q.drivers import PySCFDriver\n",
    "from qiskit_nature.second_q.mappers import ParityMapper\n",
    "from qiskit_nature.second_q.algorithms import GroundStateEigensolver, QEOM, EvaluationRule, ExcitedStatesEigensolver\n",
    "from qiskit_nature.second_q.circuit.library import HartreeFock, UCCSD\n",
    "\n",
    "from qiskit_algorithms import NumPyEigensolver\n",
    "from qiskit_algorithms.optimizers import SLSQP\n",
    "from qiskit_algorithms import VQD\n",
    "from qiskit_algorithms.state_fidelities import ComputeUncompute\n",
    "\n",
    "from qiskit.primitives import Estimator, Sampler"
   ]
  },
  {
   "cell_type": "code",
   "execution_count": 30,
   "id": "92f9da12",
   "metadata": {},
   "outputs": [
    {
     "name": "stdout",
     "output_type": "stream",
     "text": [
      "processing step  0"
     ]
    },
    {
     "name": "stderr",
     "output_type": "stream",
     "text": [
      "/tmp/ipykernel_7021/1714848524.py:5: DeprecationWarning: The class ``qiskit.primitives.estimator.Estimator`` is deprecated as of qiskit 1.2. It will be removed no earlier than 3 months after the release date. All implementations of the `BaseEstimatorV1` interface have been deprecated in favor of their V2 counterparts. The V2 alternative for the `Estimator` class is `StatevectorEstimator`.\n",
      "  estimator = Estimator()\n",
      "/tmp/ipykernel_7021/1714848524.py:6: DeprecationWarning: The class ``qiskit.primitives.sampler.Sampler`` is deprecated as of qiskit 1.2. It will be removed no earlier than 3 months after the release date. All implementations of the `BaseSamplerV1` interface have been deprecated in favor of their V2 counterparts. The V2 alternative for the `Sampler` class is `StatevectorSampler`.\n",
      "  sampler = Sampler()\n"
     ]
    },
    {
     "name": "stdout",
     "output_type": "stream",
     "text": [
      "19 --- complete\n"
     ]
    }
   ],
   "source": [
    "distances  = [0.5 + 0.025*x  for x in range(0, 20)]\n",
    "\n",
    "energies = []\n",
    "\n",
    "estimator = Estimator()\n",
    "sampler = Sampler()\n",
    "\n",
    "k = 4\n",
    "\n",
    "print(f'processing step __', end='')\n",
    "\n",
    "for i, d in enumerate(distances):\n",
    "    print('\\b\\b{:2d}'.format(i), end='', flush=True)\n",
    "\n",
    "    driver = PySCFDriver(atom=f\"H 0 0 0; H 0 0 {d}\", basis=\"sto3g\")\n",
    "    molecule = driver.run()\n",
    "    mapper = ParityMapper(num_particles=molecule.num_particles)\n",
    "\n",
    "    optimizer = SLSQP(maxiter=10000, ftol=1e-9)\n",
    "    ansatz = UCCSD(\n",
    "        molecule.num_spatial_orbitals,\n",
    "        molecule.num_particles,\n",
    "        mapper,\n",
    "        initial_state=HartreeFock(\n",
    "            molecule.num_spatial_orbitals,\n",
    "            molecule.num_particles,\n",
    "            mapper,\n",
    "        ),\n",
    "    )\n",
    "\n",
    "    vqd = VQD(estimator, ComputeUncompute(sampler), ansatz, optimizer, k=k)\n",
    "    result = vqd.compute_eigenvalues(operator=mapper.map(molecule.hamiltonian.second_q_op()))\n",
    "    vqd_values = result.eigenvalues\n",
    "    energies.append(vqd_values) # these are just the eigenvalues, not the total energy you see in other tutorials\n",
    "    \n",
    "print(' --- complete')\n"
   ]
  },
  {
   "cell_type": "code",
   "execution_count": 51,
   "id": "e77a494e",
   "metadata": {},
   "outputs": [
    {
     "data": {
      "text/plain": [
       "<matplotlib.legend.Legend at 0x7fe5a9040ca0>"
      ]
     },
     "execution_count": 51,
     "metadata": {},
     "output_type": "execute_result"
    },
    {
     "data": {
      "image/png": "[encoded data removed]",
      "text/plain": [
       "<Figure size 640x480 with 1 Axes>"
      ]
     },
     "metadata": {},
     "output_type": "display_data"
    }
   ],
   "source": [
    "energies = np.array(energies)\n",
    "\n",
    "for j in range(k):\n",
    "    if j == 1:\n",
    "        pylab.plot(distances, energies[:, j], label=f'{j} level', marker='^')\n",
    "    else:\n",
    "        pylab.plot(distances, energies[:, j], label=f'{j} level', marker='.')\n",
    "\n",
    "pylab.grid()\n",
    "pylab.xlabel('Interatomic distance (A)')\n",
    "pylab.ylabel('Electronic energy (Ha)')\n",
    "pylab.title('H2 Ground State and Excited Electronic Energy')\n",
    "pylab.legend(loc='upper right')"
   ]
  },
  {
   "cell_type": "markdown",
   "id": "9c58e56c",
   "metadata": {},
   "source": [
    "## Additional Constraints"
   ]
  },
  {
   "cell_type": "markdown",
   "id": "6eec9f84",
   "metadata": {},
   "source": [
    "In many applications not all of the possible eigenstates are relevant and only a subset of useful states need to be calculated. Such states can often be selected by specifying symmetry constraints. Ideally, it would be possible to incorporate the constraints into the wavefuction ansatz iself which would lead to maximal resource savings but where that is impractical an explicit constrained optimization can be used instead. A nice feature of VQD is that it straightforwardly permits the incorporation of additional constraints during the optimization process to target only specific excited states. "
   ]
  },
  {
   "cell_type": "markdown",
   "id": "78adc250",
   "metadata": {},
   "source": [
    "#### Spin-constrained VQD"
   ]
  },
  {
   "cell_type": "markdown",
   "id": "067bd8f1",
   "metadata": {},
   "source": [
    "In the code below we implement a total spin constraint to return states only in the spin singlet $(S = 0)$ sector of the 2 electron system and skip over the 3-fold degenerate triplet states of sto-3g H$_2$. To do so the VQD class defined above is simply extended to a **SpinConstrainedVQD** class which defines an expectation measurement for the $S^2$ operator when instantiated and the cost function **cost_fun_gen** is extended to include an additional penalty term that ensures the expectation of $S^2$ is 0. Note that since $S^2 \\ge 0$ and we are targeting its lowest possible value we do not need to use a quadratic form to specify the constraint which would be the case in general [19]"
   ]
  },
  {
   "cell_type": "code",
   "execution_count": null,
   "id": "09319a8c",
   "metadata": {},
   "outputs": [],
   "source": [
    "class SpinConstrainedVQD(VQD):\n",
    "    \n",
    "    def __init__(self, qOps, wfnA, nEx, states=np.array([])):\n",
    "        super().__init__(qOps, wfnA, nEx, states)\n",
    "        \n",
    "        # To implement explicit total Spin constraint use the S^2 operator \n",
    "        #from the set of available qubit operators.\n",
    "        S2_op = self.qOps[2]\n",
    "        exp_S2 = ExpectationFactory.build(operator=S2_op,backend=self.backend,include_custom=True)\n",
    "        S2_meas = exp_S2.convert(StateFn(S2_op, is_measurement=True))\n",
    "        self.expect_S2 = S2_meas.compose(self.wf_circ_op).reduce()\n",
    "            \n",
    "    def cost_fun_gen(self, params):\n",
    "        \"\"\"\n",
    "        Function that evalues the cost function for deflation\n",
    "        ----Parameters-----\n",
    "        params: parameters of the wf circuit ansatz as a list\n",
    "        \"\"\"\n",
    "        # Create a params dict from the provided list\n",
    "        p_vec = list(self.wf_circ_op.parameters)[0].vector\n",
    "        p_dict = {p_vec: params}\n",
    "\n",
    "        # Evaluate the Hamiltonian expectation value for the current parameter set using the saved diag measrement obj\n",
    "        ev = self.get_expectation(self.expect_op, p_dict)\n",
    "        \n",
    "        # Evaluate the S^2 expectation value for total spin constraint\n",
    "        S2_ev = self.get_expectation(self.expect_S2, p_dict)\n",
    "\n",
    "        pen = 0\n",
    "        for i in range(self.nFound):\n",
    "            params_i = (self.wfn_params[:,i])\n",
    "            p_dict_i = {p_vec: params_i}\n",
    "            ovlp = self.get_overlap(self.wfnA, p_dict, p_dict_i)\n",
    "            pen += self.LagM[0] * np.abs(ovlp)\n",
    "            \n",
    "        cost = np.real(ev) +  pen + 3 * np.real(S2_ev) #cost now includes additional penalty to force total spin towards 0.\n",
    "        \n",
    "        self.fcount += 1\n",
    "        #Uncomment for detailed optimization logging        \n",
    "        #if self.fcount%50 == 0:\n",
    "        #    print(f'cost, ev, pen, S2_ev is: {cost, ev, pen, S2_ev}')\n",
    "        return cost        "
   ]
  },
  {
   "cell_type": "markdown",
   "id": "2ad96f46",
   "metadata": {},
   "source": [
    "We also define a **ConstrainedExcitedStateCalculator** which extends the **ExcitedStateCalculator** class above and over-rides the **quantum_solve** and **classical_solve** methods to handle the additional spin constraint. "
   ]
  },
  {
   "cell_type": "code",
   "execution_count": null,
   "id": "68c82697",
   "metadata": {},
   "outputs": [],
   "source": [
    "class ConstrainedExcitedStateCalculator(ExcitedStateCalculator):\n",
    "    def __init__(self, geometry):\n",
    "        super().__init__(geometry)        \n",
    "        \n",
    "    def quantum_solve(self, num_excited_states, guess_state_parameters=None):\n",
    "        print(self.wf_ansatz)\n",
    "        vqdi = SpinConstrainedVQD(self.q_ops, self.wf_ansatz, num_excited_states, states=guess_state_parameters )\n",
    "        (eigenvalues, result_states) = vqdi.calculate()\n",
    "        #add nuclear repulsion to electronic energy\n",
    "        eigenvalues = [ x + self.mf_energy.nuclear_repulsion_energy for x in eigenvalues ]\n",
    "        return (eigenvalues, result_states)\n",
    "    \n",
    "    def classical_solve(self, num_excited_states):\n",
    "        #Extract relevant qubit operators\n",
    "        hq_op = self.q_ops[0]  #Hamiltonian\n",
    "        nq_op = self.q_ops[1]  #Number operator\n",
    "        s2_op = self.q_ops[2]  #S^2 operator\n",
    "        \n",
    "        #extract matrix representations of qubit operators\n",
    "        H_Mat = hq_op.to_matrix()\n",
    "        N_Mat = nq_op.to_matrix()\n",
    "        S2_Mat = s2_op.to_matrix()\n",
    "        \n",
    "        #diagonalize to extrant eigen energies and eigenfunctions\n",
    "        omega, psi = sl.eigh(H_Mat)\n",
    "        \n",
    "        #evaluate matrix elements of operators in eigenbasis\n",
    "        N_expect = np.dot(psi.conj().T,np.dot(N_Mat, psi))\n",
    "        E_expect = np.dot(psi.conj().T,np.dot(H_Mat, psi))\n",
    "        S2_expect = np.dot(psi.conj().T,np.dot(S2_Mat, psi))\n",
    "        \n",
    "        #collect energies corresponding to states with the correct number of electrons and total Spin\n",
    "        c_eigs = []\n",
    "        for i in range(N_Mat.shape[0]):\n",
    "            if abs(N_expect[i,i] - np.sum(self.num_electrons)) < 1e-8 and abs(S2_expect[i,i]) < 1e-2:\n",
    "                c_eigs.append(E_expect[i,i] + self.mf_energy.nuclear_repulsion_energy)\n",
    "        c_eigs = np.real(np.array(c_eigs))\n",
    "        return np.sort(c_eigs)[0:num_excited_states+1]\n",
    "        "
   ]
  },
  {
   "cell_type": "markdown",
   "id": "203666e3",
   "metadata": {},
   "source": [
    "We can now run the spin-constrained version of the calculation. For this we set the total number of excited states to 2 which is what we are left with if we remove the 3-fold degenerate triplet in sto-3g H$_2$. In real applications the total number of available excited states far exceeds the number we are typically interested in and we do not need to worry about asking for too many states. "
   ]
  },
  {
   "cell_type": "code",
   "execution_count": null,
   "id": "84e832b5",
   "metadata": {},
   "outputs": [
    {
     "name": "stdout",
     "output_type": "stream",
     "text": [
      "[(0.3, array([-0.60180371,  1.15771263,  2.64874383])), (0.4, array([-0.9141497 ,  0.61196495,  1.86070463])), (0.5, array([-1.05515979,  0.26700034,  1.30148575])), (0.6000000000000001, array([-1.11628601,  0.0365012 ,  0.89008467])), (0.7, array([-1.13618945, -0.1204519 ,  0.5833141 ])), (0.8, array([-1.13414767, -0.22792423,  0.35228457])), (0.9000000000000001, array([-1.12056028, -0.301706  ,  0.17588132])), (1.0, array([-1.10115033, -0.35229063,  0.03904763])), (1.1, array([-1.07919294, -0.38651524, -0.0683013 ])), (1.2, array([-1.05674075, -0.40886041, -0.15271436])), (1.3, array([-1.03518627, -0.42240202, -0.21860355])), (1.4000000000000001, array([-1.01546825, -0.42938376, -0.26922131])), (1.5, array([-0.99814935, -0.43151291, -0.3071925 ])), (1.7, array([-0.97142669, -0.42619176, -0.35387022])), (1.9, array([-0.95433885, -0.41374888, -0.37334368])), (2.1, array([-0.94437468, -0.39840556, -0.37654036])), (2.3, array([-0.93892239, -0.38249453, -0.37096823])), (2.5, array([-0.93605492, -0.36721899, -0.36129348]))]\n"
     ]
    }
   ],
   "source": [
    "n_excited_states = 2\n",
    "counter = 0\n",
    "geom_vs_efci = []\n",
    "    \n",
    "for bond_distance in [ 0.3 + i*0.1 for i in range(12) ] + [ 1.5 + i*0.2 for i in range(6) ]:\n",
    "    #define molecular geometry \n",
    "    geometry = [[\"H\", [0.0, 0.0, 0.0]], [\"H\", [0.0, 0.0, bond_distance]]]\n",
    "    \n",
    "    #instantiate the solver\n",
    "    \n",
    "    pes = ConstrainedExcitedStateCalculator(geometry)\n",
    "    fci_eigs = pes.classical_solve(n_excited_states)\n",
    "\n",
    "    geom_vs_efci.append((bond_distance, fci_eigs))\n",
    "    \n",
    "    counter += 1\n",
    "\n",
    "print(geom_vs_efci)\n"
   ]
  },
  {
   "cell_type": "markdown",
   "id": "dd94f9d3",
   "metadata": {},
   "source": [
    "Plotting the calculated energies we see that we have skipped over the triplet excited states as intended and see only  the three spin siglet states."
   ]
  },
  {
   "cell_type": "code",
   "execution_count": null,
   "id": "5258f713",
   "metadata": {},
   "outputs": [
    {
     "data": {
      "image/png": "[encoded data removed]",
      "text/plain": [
       "<Figure size 432x288 with 1 Axes>"
      ]
     },
     "metadata": {},
     "output_type": "display_data"
    }
   ],
   "source": [
    "import matplotlib.pyplot as plt\n",
    "\n",
    "x = [ t[0] for t in geom_vs_energies ]\n",
    "for iex in range(n_excited_states + 1):\n",
    "    e_ex = [ t[1][iex] for t in geom_vs_energies ]\n",
    "    fci_ex = [ t[1][iex] for t in geom_vs_efci ]\n",
    "    if iex == 0:\n",
    "        plt.plot(x, fci_ex, color='red', label='Exact')\n",
    "        plt.plot(x, e_ex, '.', color='blue', label='VQD')\n",
    "    else:\n",
    "        plt.plot(x, fci_ex, color='red')\n",
    "        plt.plot(x, e_ex, '.', color='blue')\n",
    "\n",
    "plt.ylabel('Energy (a.u)')\n",
    "plt.xlabel('Bond distance ($\\AA$)')\n",
    "\n",
    "plt.xlim([0.25, 2.5])\n",
    "plt.ylim([-1.25, 1.05])  \n",
    "plt.legend()\n",
    "plt.show()"
   ]
  },
  {
   "cell_type": "markdown",
   "id": "4024aa97",
   "metadata": {},
   "source": [
    "Plot the energy differences between the exact and spin-constrained VQD solutions, we see that the additional constraint slightly increases the error as the optimization problem gets harder for the classical optimizer but agreement is still in the sub micro-Hartree range."
   ]
  },
  {
   "cell_type": "code",
   "execution_count": null,
   "id": "867344c9",
   "metadata": {},
   "outputs": [
    {
     "data": {
      "image/png": "[encoded data removed]",
      "text/plain": [
       "<Figure size 432x288 with 1 Axes>"
      ]
     },
     "metadata": {},
     "output_type": "display_data"
    }
   ],
   "source": [
    "x = [ t[0] for t in geom_vs_energies ]\n",
    "for iex in range(n_excited_states + 1):\n",
    "    e_ex = [ t[1][iex] for t in geom_vs_energies ]\n",
    "    fci_ex = [ t[1][iex] for t in geom_vs_efci ]\n",
    "    d_ene = [ abs(e_ex[i] - fci_ex[i]) for i in range(len(geom_vs_efci))  ]\n",
    "    lbl = 'error state'+str(iex)\n",
    "    plt.plot(x, d_ene, marker='.',label=lbl)\n",
    "\n",
    "plt.ylabel('Energy error (a.u)')\n",
    "plt.xlabel('Bond distance ($\\AA$)')\n",
    "\n",
    "plt.xlim([0.25, 2.5])\n",
    "plt.yscale('log')\n",
    "plt.legend()\n",
    "plt.show()"
   ]
  },
  {
   "cell_type": "code",
   "execution_count": null,
   "id": "a408ed6f",
   "metadata": {},
   "outputs": [
    {
     "data": {
      "text/html": [
       "<h3>Version Information</h3><table><tr><th>Qiskit Software</th><th>Version</th></tr><tr><td><code>qiskit-terra</code></td><td>0.20.1</td></tr><tr><td><code>qiskit-aer</code></td><td>0.10.4</td></tr><tr><td><code>qiskit-ignis</code></td><td>0.7.0</td></tr><tr><td><code>qiskit-ibmq-provider</code></td><td>0.19.1</td></tr><tr><td><code>qiskit</code></td><td>0.36.1</td></tr><tr><td><code>qiskit-nature</code></td><td>0.3.2</td></tr><tr><td><code>qiskit-machine-learning</code></td><td>0.4.0</td></tr><tr><th>System information</th></tr><tr><td>Python version</td><td>3.9.7</td></tr><tr><td>Python compiler</td><td>Clang 10.0.0 </td></tr><tr><td>Python build</td><td>default, Sep 16 2021 08:50:36</td></tr><tr><td>OS</td><td>Darwin</td></tr><tr><td>CPUs</td><td>8</td></tr><tr><td>Memory (Gb)</td><td>16.0</td></tr><tr><td colspan='2'>Mon May 23 12:41:37 2022 PDT</td></tr></table>"
      ],
      "text/plain": [
       "<IPython.core.display.HTML object>"
      ]
     },
     "metadata": {},
     "output_type": "display_data"
    }
   ],
   "source": [
    "import qiskit.tools.jupyter\n",
    "\n",
    "%qiskit_version_table"
   ]
  },
  {
   "cell_type": "markdown",
   "id": "d20edb7b",
   "metadata": {},
   "source": [
    "That concludes this VQD mini-tutorial. The code provided above should be easily adaptable for exploring other symmetry constraints as well as other molecular systems. Feedback on possible bugs/suggestions for improvement are most welcome!"
   ]
  },
  {
   "cell_type": "markdown",
   "id": "983b5f77",
   "metadata": {},
   "source": [
    "### Cited References"
   ]
  },
  {
   "cell_type": "markdown",
   "id": "6a9ae103",
   "metadata": {},
   "source": [
    "1. \tChen, H., Nusspickel, M., Tilly, J., Booth, G.H.: A variational quantum eigensolver for dynamic correlation functions. Phys. Rev. A. 104, 032405 (2021). https://doi.org/10.1103/PhysRevA.104.032405\n",
    "2. \tZhang, F., Gomes, N., Yao, Y., Orth, P.P., Iadecola, T.: Adaptive variational quantum eigensolvers for highly excited states. Phys. Rev. B. 104, 075159 (2021). https://doi.org/10.1103/PhysRevB.104.075159\n",
    "3. \tTilly, J., Jones, G., Chen, H., Wossnig, L., Grant, E.: Computation of molecular excited states on IBM quantum computers using a discriminative variational quantum eigensolver. Phys. Rev. A. 102, 062425 (2020). https://doi.org/10.1103/PhysRevA.102.062425\n",
    "4. \tYordanov, Y.S., Barnes, C.H.W., Arvidsson-Shukur, D.R.M.: Molecular excited state calculations with the QEB-ADAPT-VQE. ArXiv210606296 Quant-Ph. (2021)\n",
    "5. \tRizzo, J., Libbi, F., Tacchino, F., Ollitrault, P.J., Marzari, N., Tavernelli, I.: One-particle Green’s functions from the quantum equation of motion algorithm. ArXiv220101826 Quant-Ph. (2022)\n",
    "6. \tOllitrault, P.J., Kandala, A., Chen, C.-F., Barkoutsos, P.K., Mezzacapo, A., Pistoia, M., Sheldon, S., Woerner, S., Gambetta, J., Tavernelli, I.: Quantum equation of motion for computing molecular excitation energies on a noisy quantum processor. Phys. Rev. Res. 2, 043140 (2020). https://doi.org/10.1103/PhysRevResearch.2.043140\n",
    "7. \tBierman, J., Li, Y., Lu, J.: Quantum Orbital Minimization Method for Excited States Calculation on Quantum Computer. ArXiv220107963 Phys. Physicsquant-Ph. (2022)\n",
    "8. \tNakanishi, K.M., Mitarai, K., Fujii, K.: Subspace-search variational quantum eigensolver for excited states. Phys. Rev. Res. 1, 033062 (2019). https://doi.org/10.1103/PhysRevResearch.1.033062\n",
    "9. \tBauman, N.P., Liu, H., Bylaska, E.J., Krishnamoorthy, S., Low, G.H., Granade, C.E., Wiebe, N., Baker, N.A., Peng, B., Roetteler, M., Troyer, M., Kowalski, K.: Towards quantum computing for high-energy excited states in molecular systems: quantum phase estimations of core-level states. ArXiv200706185 Phys. Physicsquant-Ph. (2020)\n",
    "10. \tLaRose, R., Tikku, A., O’Neel-Judy, É., Cincio, L., Coles, P.J.: Variational Quantum State Diagonalization. Npj Quantum Inf. 5, 57 (2019). https://doi.org/10.1038/s41534-019-0167-6\n",
    "11. \tHiggott, O., Wang, D., Brierley, S.: Variational Quantum Computation of Excited States. Quantum. 3, 156 (2019). https://doi.org/10.22331/q-2019-07-01-156\n",
    "12. \tPeruzzo, A., McClean, J., Shadbolt, P., Yung, M.-H., Zhou, X.-Q., Love, P.J., Aspuru-Guzik, A., O’Brien, J.L.: A variational eigenvalue solver on a photonic quantum processor. Nat. Commun. 5, 4213 (2014). https://doi.org/10.1038/ncomms5213\n",
    "13. \tTilly, J., Chen, H., Cao, S., Picozzi, D., Setia, K., Li, Y., Grant, E., Wossnig, L., Rungger, I., Booth, G.H., Tennyson, J.: The Variational Quantum Eigensolver: a review of methods and best practices. ArXiv211105176 Quant-Ph. (2021)\n",
    "14. \tExcited states solvers — Qiskit Nature 0.3.1 documentation, https://qiskit.org/documentation/nature/tutorials/04_excited_states_solvers.html\n",
    "15. \tOperator Flow — Qiskit 0.34.2 documentation, https://qiskit.org/documentation/tutorials/operators/01_operator_flow.html\n",
    "16. \tQiskit, https://qiskit.org/\n",
    "17. \tQiskit Nature Documentation — Qiskit Nature 0.3.1 documentation, https://qiskit.org/documentation/nature/\n",
    "18. \tLee, J., Huggins, W.J., Head-Gordon, M., Whaley, K.B.: Generalized Unitary Coupled Cluster Wave functions for Quantum Computation. J. Chem. Theory Comput. 15, 311–324 (2019). https://doi.org/10.1021/acs.jctc.8b01004\n",
    "19. \tKuroiwa, K., Nakagawa, Y.O.: Penalty methods for a variational quantum eigensolver. Phys. Rev. Res. 3, 013197 (2021). https://doi.org/10.1103/PhysRevResearch.3.013197"
   ]
  },
  {
   "cell_type": "markdown",
   "id": "8f0f6fc6",
   "metadata": {},
   "source": [
    "In many applications not all of the possible eigenstates are relevant and only a subset of useful states need to be calculated. Such states can often be selected by specifying symmetry constraints. Ideally, it would be possible to incorporate the constraints into the wavefuction ansatz iself which would lead to maximal resource savings but where that is impractical an explicit constrained optimization can be used instead. A nice feature of VQD is that it straightforwardly permits the incorporation of additional constraints during the optimization process to target only specific excited states. "
   ]
  },
  {
   "cell_type": "markdown",
   "id": "82f78cd8",
   "metadata": {},
   "source": [
    "#### Spin-constrained VQD"
   ]
  },
  {
   "cell_type": "markdown",
   "id": "62f34e7d",
   "metadata": {},
   "source": [
    "In the code below we implement a total spin constraint to return states only in the spin singlet $(S = 0)$ sector of the 2 electron system and skip over the 3-fold degenerate triplet states of sto-3g H$_2$. To do so the VQD class defined above is simply extended to a **SpinConstrainedVQD** class which defines an expectation measurement for the $S^2$ operator when instantiated and the cost function **cost_fun_gen** is extended to include an additional penalty term that ensures the expectation of $S^2$ is 0. Note that since $S^2 \\ge 0$ and we are targeting its lowest possible value we do not need to use a quadratic form to specify the constraint which would be the case in general [19]"
   ]
  },
  {
   "cell_type": "code",
   "execution_count": null,
   "id": "e0760654",
   "metadata": {},
   "outputs": [],
   "source": [
    "class SpinConstrainedVQD(VQD):\n",
    "    \n",
    "    def __init__(self, qOps, wfnA, nEx, states=np.array([])):\n",
    "        super().__init__(qOps, wfnA, nEx, states)\n",
    "        \n",
    "        # To implement explicit total Spin constraint use the S^2 operator \n",
    "        #from the set of available qubit operators.\n",
    "        S2_op = self.qOps[2]\n",
    "        exp_S2 = ExpectationFactory.build(operator=S2_op,backend=self.backend,include_custom=True)\n",
    "        S2_meas = exp_S2.convert(StateFn(S2_op, is_measurement=True))\n",
    "        self.expect_S2 = S2_meas.compose(self.wf_circ_op).reduce()\n",
    "            \n",
    "    def cost_fun_gen(self, params):\n",
    "        \"\"\"\n",
    "        Function that evalues the cost function for deflation\n",
    "        ----Parameters-----\n",
    "        params: parameters of the wf circuit ansatz as a list\n",
    "        \"\"\"\n",
    "        # Create a params dict from the provided list\n",
    "        p_vec = list(self.wf_circ_op.parameters)[0].vector\n",
    "        p_dict = {p_vec: params}\n",
    "\n",
    "        # Evaluate the Hamiltonian expectation value for the current parameter set using the saved diag measrement obj\n",
    "        ev = self.get_expectation(self.expect_op, p_dict)\n",
    "        \n",
    "        # Evaluate the S^2 expectation value for total spin constraint\n",
    "        S2_ev = self.get_expectation(self.expect_S2, p_dict)\n",
    "\n",
    "        pen = 0\n",
    "        for i in range(self.nFound):\n",
    "            params_i = (self.wfn_params[:,i])\n",
    "            p_dict_i = {p_vec: params_i}\n",
    "            ovlp = self.get_overlap(self.wfnA, p_dict, p_dict_i)\n",
    "            pen += self.LagM[0] * np.abs(ovlp)\n",
    "            \n",
    "        cost = np.real(ev) +  pen + 3 * np.real(S2_ev) #cost now includes additional penalty to force total spin towards 0.\n",
    "        \n",
    "        self.fcount += 1\n",
    "        #Uncomment for detailed optimization logging        \n",
    "        #if self.fcount%50 == 0:\n",
    "        #    print(f'cost, ev, pen, S2_ev is: {cost, ev, pen, S2_ev}')\n",
    "        return cost        "
   ]
  },
  {
   "cell_type": "markdown",
   "id": "bb07fdaf",
   "metadata": {},
   "source": [
    "We also define a **ConstrainedExcitedStateCalculator** which extends the **ExcitedStateCalculator** class above and over-rides the **quantum_solve** and **classical_solve** methods to handle the additional spin constraint. "
   ]
  },
  {
   "cell_type": "code",
   "execution_count": null,
   "id": "9ea492f0",
   "metadata": {},
   "outputs": [],
   "source": [
    "class ConstrainedExcitedStateCalculator(ExcitedStateCalculator):\n",
    "    def __init__(self, geometry):\n",
    "        super().__init__(geometry)        \n",
    "        \n",
    "    def quantum_solve(self, num_excited_states, guess_state_parameters=None):\n",
    "        print(self.wf_ansatz)\n",
    "        vqdi = SpinConstrainedVQD(self.q_ops, self.wf_ansatz, num_excited_states, states=guess_state_parameters )\n",
    "        (eigenvalues, result_states) = vqdi.calculate()\n",
    "        #add nuclear repulsion to electronic energy\n",
    "        eigenvalues = [ x + self.mf_energy.nuclear_repulsion_energy for x in eigenvalues ]\n",
    "        return (eigenvalues, result_states)\n",
    "    \n",
    "    def classical_solve(self, num_excited_states):\n",
    "        #Extract relevant qubit operators\n",
    "        hq_op = self.q_ops[0]  #Hamiltonian\n",
    "        nq_op = self.q_ops[1]  #Number operator\n",
    "        s2_op = self.q_ops[2]  #S^2 operator\n",
    "        \n",
    "        #extract matrix representations of qubit operators\n",
    "        H_Mat = hq_op.to_matrix()\n",
    "        N_Mat = nq_op.to_matrix()\n",
    "        S2_Mat = s2_op.to_matrix()\n",
    "        \n",
    "        #diagonalize to extrant eigen energies and eigenfunctions\n",
    "        omega, psi = sl.eigh(H_Mat)\n",
    "        \n",
    "        #evaluate matrix elements of operators in eigenbasis\n",
    "        N_expect = np.dot(psi.conj().T,np.dot(N_Mat, psi))\n",
    "        E_expect = np.dot(psi.conj().T,np.dot(H_Mat, psi))\n",
    "        S2_expect = np.dot(psi.conj().T,np.dot(S2_Mat, psi))\n",
    "        \n",
    "        #collect energies corresponding to states with the correct number of electrons and total Spin\n",
    "        c_eigs = []\n",
    "        for i in range(N_Mat.shape[0]):\n",
    "            if abs(N_expect[i,i] - np.sum(self.num_electrons)) < 1e-8 and abs(S2_expect[i,i]) < 1e-2:\n",
    "                c_eigs.append(E_expect[i,i] + self.mf_energy.nuclear_repulsion_energy)\n",
    "        c_eigs = np.real(np.array(c_eigs))\n",
    "        return np.sort(c_eigs)[0:num_excited_states+1]\n",
    "        "
   ]
  },
  {
   "cell_type": "markdown",
   "id": "36ff942e",
   "metadata": {},
   "source": [
    "We can now run the spin-constrained version of the calculation. For this we set the total number of excited states to 2 which is what we are left with if we remove the 3-fold degenerate triplet in sto-3g H$_2$. In real applications the total number of available excited states far exceeds the number we are typically interested in and we do not need to worry about asking for too many states. "
   ]
  },
  {
   "cell_type": "code",
   "execution_count": null,
   "id": "66ff1123",
   "metadata": {},
   "outputs": [
    {
     "name": "stdout",
     "output_type": "stream",
     "text": [
      "[(0.3, array([-0.60180371,  1.15771263,  2.64874383])), (0.4, array([-0.9141497 ,  0.61196495,  1.86070463])), (0.5, array([-1.05515979,  0.26700034,  1.30148575])), (0.6000000000000001, array([-1.11628601,  0.0365012 ,  0.89008467])), (0.7, array([-1.13618945, -0.1204519 ,  0.5833141 ])), (0.8, array([-1.13414767, -0.22792423,  0.35228457])), (0.9000000000000001, array([-1.12056028, -0.301706  ,  0.17588132])), (1.0, array([-1.10115033, -0.35229063,  0.03904763])), (1.1, array([-1.07919294, -0.38651524, -0.0683013 ])), (1.2, array([-1.05674075, -0.40886041, -0.15271436])), (1.3, array([-1.03518627, -0.42240202, -0.21860355])), (1.4000000000000001, array([-1.01546825, -0.42938376, -0.26922131])), (1.5, array([-0.99814935, -0.43151291, -0.3071925 ])), (1.7, array([-0.97142669, -0.42619176, -0.35387022])), (1.9, array([-0.95433885, -0.41374888, -0.37334368])), (2.1, array([-0.94437468, -0.39840556, -0.37654036])), (2.3, array([-0.93892239, -0.38249453, -0.37096823])), (2.5, array([-0.93605492, -0.36721899, -0.36129348]))]\n"
     ]
    }
   ],
   "source": [
    "n_excited_states = 2\n",
    "counter = 0\n",
    "geom_vs_efci = []\n",
    "    \n",
    "for bond_distance in [ 0.3 + i*0.1 for i in range(12) ] + [ 1.5 + i*0.2 for i in range(6) ]:\n",
    "    #define molecular geometry \n",
    "    geometry = [[\"H\", [0.0, 0.0, 0.0]], [\"H\", [0.0, 0.0, bond_distance]]]\n",
    "    \n",
    "    #instantiate the solver\n",
    "    \n",
    "    pes = ConstrainedExcitedStateCalculator(geometry)\n",
    "    fci_eigs = pes.classical_solve(n_excited_states)\n",
    "\n",
    "    geom_vs_efci.append((bond_distance, fci_eigs))\n",
    "    \n",
    "    counter += 1\n",
    "\n",
    "print(geom_vs_efci)\n"
   ]
  },
  {
   "cell_type": "markdown",
   "id": "fc3bf320",
   "metadata": {},
   "source": [
    "Plotting the calculated energies we see that we have skipped over the triplet excited states as intended and see only  the three spin siglet states."
   ]
  },
  {
   "cell_type": "code",
   "execution_count": null,
   "id": "7cd5f1cf",
   "metadata": {},
   "outputs": [
    {
     "data": {
      "image/png": "[encoded data removed]",
      "text/plain": [
       "<Figure size 432x288 with 1 Axes>"
      ]
     },
     "metadata": {},
     "output_type": "display_data"
    }
   ],
   "source": [
    "import matplotlib.pyplot as plt\n",
    "\n",
    "x = [ t[0] for t in geom_vs_energies ]\n",
    "for iex in range(n_excited_states + 1):\n",
    "    e_ex = [ t[1][iex] for t in geom_vs_energies ]\n",
    "    fci_ex = [ t[1][iex] for t in geom_vs_efci ]\n",
    "    if iex == 0:\n",
    "        plt.plot(x, fci_ex, color='red', label='Exact')\n",
    "        plt.plot(x, e_ex, '.', color='blue', label='VQD')\n",
    "    else:\n",
    "        plt.plot(x, fci_ex, color='red')\n",
    "        plt.plot(x, e_ex, '.', color='blue')\n",
    "\n",
    "plt.ylabel('Energy (a.u)')\n",
    "plt.xlabel('Bond distance ($\\AA$)')\n",
    "\n",
    "plt.xlim([0.25, 2.5])\n",
    "plt.ylim([-1.25, 1.05])  \n",
    "plt.legend()\n",
    "plt.show()"
   ]
  },
  {
   "cell_type": "markdown",
   "id": "fdbf8134",
   "metadata": {},
   "source": [
    "Plot the energy differences between the exact and spin-constrained VQD solutions, we see that the additional constraint slightly increases the error as the optimization problem gets harder for the classical optimizer but agreement is still in the sub micro-Hartree range."
   ]
  },
  {
   "cell_type": "code",
   "execution_count": null,
   "id": "2a420f9d",
   "metadata": {},
   "outputs": [
    {
     "data": {
      "image/png": "[encoded data removed]",
      "text/plain": [
       "<Figure size 432x288 with 1 Axes>"
      ]
     },
     "metadata": {},
     "output_type": "display_data"
    }
   ],
   "source": [
    "x = [ t[0] for t in geom_vs_energies ]\n",
    "for iex in range(n_excited_states + 1):\n",
    "    e_ex = [ t[1][iex] for t in geom_vs_energies ]\n",
    "    fci_ex = [ t[1][iex] for t in geom_vs_efci ]\n",
    "    d_ene = [ abs(e_ex[i] - fci_ex[i]) for i in range(len(geom_vs_efci))  ]\n",
    "    lbl = 'error state'+str(iex)\n",
    "    plt.plot(x, d_ene, marker='.',label=lbl)\n",
    "\n",
    "plt.ylabel('Energy error (a.u)')\n",
    "plt.xlabel('Bond distance ($\\AA$)')\n",
    "\n",
    "plt.xlim([0.25, 2.5])\n",
    "plt.yscale('log')\n",
    "plt.legend()\n",
    "plt.show()"
   ]
  },
  {
   "cell_type": "code",
   "execution_count": null,
   "id": "6c273f03",
   "metadata": {},
   "outputs": [
    {
     "data": {
      "text/html": [
       "<h3>Version Information</h3><table><tr><th>Qiskit Software</th><th>Version</th></tr><tr><td><code>qiskit-terra</code></td><td>0.20.1</td></tr><tr><td><code>qiskit-aer</code></td><td>0.10.4</td></tr><tr><td><code>qiskit-ignis</code></td><td>0.7.0</td></tr><tr><td><code>qiskit-ibmq-provider</code></td><td>0.19.1</td></tr><tr><td><code>qiskit</code></td><td>0.36.1</td></tr><tr><td><code>qiskit-nature</code></td><td>0.3.2</td></tr><tr><td><code>qiskit-machine-learning</code></td><td>0.4.0</td></tr><tr><th>System information</th></tr><tr><td>Python version</td><td>3.9.7</td></tr><tr><td>Python compiler</td><td>Clang 10.0.0 </td></tr><tr><td>Python build</td><td>default, Sep 16 2021 08:50:36</td></tr><tr><td>OS</td><td>Darwin</td></tr><tr><td>CPUs</td><td>8</td></tr><tr><td>Memory (Gb)</td><td>16.0</td></tr><tr><td colspan='2'>Mon May 23 12:41:37 2022 PDT</td></tr></table>"
      ],
      "text/plain": [
       "<IPython.core.display.HTML object>"
      ]
     },
     "metadata": {},
     "output_type": "display_data"
    }
   ],
   "source": [
    "import qiskit.tools.jupyter\n",
    "\n",
    "%qiskit_version_table"
   ]
  },
  {
   "cell_type": "markdown",
   "id": "f2980574",
   "metadata": {},
   "source": [
    "That concludes this VQD mini-tutorial. The code provided above should be easily adaptable for exploring other symmetry constraints as well as other molecular systems. Feedback on possible bugs/suggestions for improvement are most welcome!"
   ]
  },
  {
   "cell_type": "markdown",
   "id": "74b011a9",
   "metadata": {},
   "source": [
    "### Cited References"
   ]
  },
  {
   "cell_type": "markdown",
   "id": "86bb0c5e",
   "metadata": {},
   "source": [
    "1. \tChen, H., Nusspickel, M., Tilly, J., Booth, G.H.: A variational quantum eigensolver for dynamic correlation functions. Phys. Rev. A. 104, 032405 (2021). https://doi.org/10.1103/PhysRevA.104.032405\n",
    "2. \tZhang, F., Gomes, N., Yao, Y., Orth, P.P., Iadecola, T.: Adaptive variational quantum eigensolvers for highly excited states. Phys. Rev. B. 104, 075159 (2021). https://doi.org/10.1103/PhysRevB.104.075159\n",
    "3. \tTilly, J., Jones, G., Chen, H., Wossnig, L., Grant, E.: Computation of molecular excited states on IBM quantum computers using a discriminative variational quantum eigensolver. Phys. Rev. A. 102, 062425 (2020). https://doi.org/10.1103/PhysRevA.102.062425\n",
    "4. \tYordanov, Y.S., Barnes, C.H.W., Arvidsson-Shukur, D.R.M.: Molecular excited state calculations with the QEB-ADAPT-VQE. ArXiv210606296 Quant-Ph. (2021)\n",
    "5. \tRizzo, J., Libbi, F., Tacchino, F., Ollitrault, P.J., Marzari, N., Tavernelli, I.: One-particle Green’s functions from the quantum equation of motion algorithm. ArXiv220101826 Quant-Ph. (2022)\n",
    "6. \tOllitrault, P.J., Kandala, A., Chen, C.-F., Barkoutsos, P.K., Mezzacapo, A., Pistoia, M., Sheldon, S., Woerner, S., Gambetta, J., Tavernelli, I.: Quantum equation of motion for computing molecular excitation energies on a noisy quantum processor. Phys. Rev. Res. 2, 043140 (2020). https://doi.org/10.1103/PhysRevResearch.2.043140\n",
    "7. \tBierman, J., Li, Y., Lu, J.: Quantum Orbital Minimization Method for Excited States Calculation on Quantum Computer. ArXiv220107963 Phys. Physicsquant-Ph. (2022)\n",
    "8. \tNakanishi, K.M., Mitarai, K., Fujii, K.: Subspace-search variational quantum eigensolver for excited states. Phys. Rev. Res. 1, 033062 (2019). https://doi.org/10.1103/PhysRevResearch.1.033062\n",
    "9. \tBauman, N.P., Liu, H., Bylaska, E.J., Krishnamoorthy, S., Low, G.H., Granade, C.E., Wiebe, N., Baker, N.A., Peng, B., Roetteler, M., Troyer, M., Kowalski, K.: Towards quantum computing for high-energy excited states in molecular systems: quantum phase estimations of core-level states. ArXiv200706185 Phys. Physicsquant-Ph. (2020)\n",
    "10. \tLaRose, R., Tikku, A., O’Neel-Judy, É., Cincio, L., Coles, P.J.: Variational Quantum State Diagonalization. Npj Quantum Inf. 5, 57 (2019). https://doi.org/10.1038/s41534-019-0167-6\n",
    "11. \tHiggott, O., Wang, D., Brierley, S.: Variational Quantum Computation of Excited States. Quantum. 3, 156 (2019). https://doi.org/10.22331/q-2019-07-01-156\n",
    "12. \tPeruzzo, A., McClean, J., Shadbolt, P., Yung, M.-H., Zhou, X.-Q., Love, P.J., Aspuru-Guzik, A., O’Brien, J.L.: A variational eigenvalue solver on a photonic quantum processor. Nat. Commun. 5, 4213 (2014). https://doi.org/10.1038/ncomms5213\n",
    "13. \tTilly, J., Chen, H., Cao, S., Picozzi, D., Setia, K., Li, Y., Grant, E., Wossnig, L., Rungger, I., Booth, G.H., Tennyson, J.: The Variational Quantum Eigensolver: a review of methods and best practices. ArXiv211105176 Quant-Ph. (2021)\n",
    "14. \tExcited states solvers — Qiskit Nature 0.3.1 documentation, https://qiskit.org/documentation/nature/tutorials/04_excited_states_solvers.html\n",
    "15. \tOperator Flow — Qiskit 0.34.2 documentation, https://qiskit.org/documentation/tutorials/operators/01_operator_flow.html\n",
    "16. \tQiskit, https://qiskit.org/\n",
    "17. \tQiskit Nature Documentation — Qiskit Nature 0.3.1 documentation, https://qiskit.org/documentation/nature/\n",
    "18. \tLee, J., Huggins, W.J., Head-Gordon, M., Whaley, K.B.: Generalized Unitary Coupled Cluster Wave functions for Quantum Computation. J. Chem. Theory Comput. 15, 311–324 (2019). https://doi.org/10.1021/acs.jctc.8b01004\n",
    "19. \tKuroiwa, K., Nakagawa, Y.O.: Penalty methods for a variational quantum eigensolver. Phys. Rev. Res. 3, 013197 (2021). https://doi.org/10.1103/PhysRevResearch.3.013197"
   ]
  },
  {
   "cell_type": "code",
   "execution_count": 4,
   "id": "ecaf9c82",
   "metadata": {},
   "outputs": [
    {
     "name": "stdout",
     "output_type": "stream",
     "text": [
      "qiskit==1.2.0\n",
      "qiskit-aer==0.15.0\n",
      "qiskit-algorithms==0.3.0\n",
      "qiskit-ibm-runtime==0.31.0\n",
      "qiskit-machine-learning==0.7.2\n",
      "qiskit-nature==0.7.2\n",
      "qiskit-nature-pyscf==0.4.0\n",
      "qiskit-qasm3-import==0.5.0\n",
      "qiskit-transpiler-service==0.4.5\n"
     ]
    }
   ],
   "source": [
    "! pip freeze | grep qiskit"
   ]
  }
 ],
 "metadata": {
  "kernelspec": {
   "display_name": "qss",
   "language": "python",
   "name": "python3"
  },
  "language_info": {
   "codemirror_mode": {
    "name": "ipython",
    "version": 3
   },
   "file_extension": ".py",
   "mimetype": "text/x-python",
   "name": "python",
   "nbconvert_exporter": "python",
   "pygments_lexer": "ipython3",
   "version": "3.10.15"
  }
 },
 "nbformat": 4,
 "nbformat_minor": 5
}
