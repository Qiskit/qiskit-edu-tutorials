{
 "cells": [
  {
   "cell_type": "markdown",
   "metadata": {},
   "source": [
    "## _*H2 ground state energy computation using Quantum Phase Estimation*_\n",
    "\n",
    "This notebook demonstrates using Qiskit Chemistry to compute ground state energy of the Hydrogen (H2) molecule using QPE (Quantum Phase Estimation) algorithm. Let's look at how to carry out such computation programmatically.\n",
    "\n",
    "This notebook has been written to use the PYSCF chemistry driver."
   ]
  },
  {
   "cell_type": "markdown",
   "metadata": {},
   "source": [
    "### Step 1: Map problem to quantum circuits and operators"
   ]
  },
  {
   "cell_type": "code",
   "execution_count": 44,
   "metadata": {},
   "outputs": [],
   "source": [
    "import numpy as np\n",
    "from scipy.linalg import expm\n",
    "\n",
    "from qiskit_nature.second_q.drivers import PySCFDriver\n",
    "from qiskit_nature.second_q.mappers import ParityMapper\n",
    "from qiskit_nature.second_q.algorithms import GroundStateEigensolver\n",
    "from qiskit_nature.second_q.circuit.library import HartreeFock\n",
    "\n",
    "from qiskit_algorithms import NumPyMinimumEigensolver\n",
    "from qiskit_algorithms import PhaseEstimation\n",
    "\n",
    "from qiskit.primitives import Sampler\n",
    "from qiskit import QuantumCircuit, QuantumRegister, ClassicalRegister\n",
    "from qiskit.circuit.library import UnitaryGate\n",
    "from qiskit.transpiler.preset_passmanagers import generate_preset_pass_manager\n",
    "\n",
    "from qiskit_ibm_runtime import SamplerV2 as Sampler\n",
    "from qiskit_ibm_runtime import QiskitRuntimeService"
   ]
  },
  {
   "cell_type": "markdown",
   "metadata": {},
   "source": [
    "We first set up the H2 molecule, create the fermionic and in turn the qubit operator using PySCF."
   ]
  },
  {
   "cell_type": "code",
   "execution_count": 2,
   "metadata": {},
   "outputs": [],
   "source": [
    "driver = PySCFDriver(atom='H .0 .0 .0; H .0 .0 0.735', basis='sto3g')\n",
    "molecule = driver.run()\n",
    "hamiltonian = molecule.hamiltonian.second_q_op()\n",
    "mapper = ParityMapper(num_particles=molecule.num_particles)\n",
    "tapered_mapper = molecule.get_tapered_mapper(mapper)\n",
    "qubit_op = tapered_mapper.map(hamiltonian)"
   ]
  },
  {
   "cell_type": "markdown",
   "metadata": {},
   "source": [
    "Using a classical exact eigenvalue solver, we can establish the reference groundtruth value of the ground state energy:"
   ]
  },
  {
   "cell_type": "code",
   "execution_count": 6,
   "metadata": {},
   "outputs": [
    {
     "name": "stdout",
     "output_type": "stream",
     "text": [
      "The exact ground state energy is: -1.8572750302023788 Ha\n"
     ]
    }
   ],
   "source": [
    "exact_eigensolver = NumPyMinimumEigensolver()\n",
    "exact_eigensolver.filter_criterion = molecule.get_default_filter_criterion()\n",
    "gse = GroundStateEigensolver(mapper, exact_eigensolver)\n",
    "result = gse.solve(molecule)\n",
    "print(f'The exact ground state energy is: {result.eigenvalues[0]} Ha')"
   ]
  },
  {
   "cell_type": "markdown",
   "metadata": {},
   "source": [
    "Next we set up the QPE algorithm instance using the HartreeFock initial state:"
   ]
  },
  {
   "cell_type": "code",
   "execution_count": 28,
   "metadata": {},
   "outputs": [
    {
     "name": "stdout",
     "output_type": "stream",
     "text": [
      "Ground state energy from QPE: -1.8530487917658545 Ha\n"
     ]
    }
   ],
   "source": [
    "qpe = PhaseEstimation(9, Sampler())\n",
    "\n",
    "state_in = HartreeFock(molecule.num_spatial_orbitals, molecule.num_particles, tapered_mapper)\n",
    "U = UnitaryGate(expm(1j*qubit_op.to_matrix()))\n",
    "\n",
    "result = qpe.estimate(U, state_in)\n",
    "\n",
    "print(f'Ground state energy from QPE: {(result.phase - 1) * 2*np.pi} Ha')"
   ]
  },
  {
   "cell_type": "markdown",
   "metadata": {},
   "source": [
    "As can be easily seen, the QPE computed energy is quite close to the groundtruth value we computed earlier."
   ]
  },
  {
   "cell_type": "markdown",
   "metadata": {},
   "source": [
    "### Step 2: Optimize for target hardware"
   ]
  },
  {
   "cell_type": "code",
   "execution_count": 42,
   "metadata": {},
   "outputs": [
    {
     "data": {
      "image/png": "[encoded data removed]",
      "text/plain": [
       "<Figure size 1206.14x451.5 with 1 Axes>"
      ]
     },
     "execution_count": 42,
     "metadata": {},
     "output_type": "execute_result"
    }
   ],
   "source": [
    "num_result_bits = 3\n",
    "qpe = PhaseEstimation(num_result_bits, Sampler())\n",
    "\n",
    "qr1 = QuantumRegister(num_result_bits, 'control')\n",
    "qr2 = QuantumRegister(1, 'target')\n",
    "cr = ClassicalRegister(num_result_bits, 'res')\n",
    "circuit = QuantumCircuit(qr1, qr2, cr)\n",
    "circuit.compose(qpe.construct_circuit(U, state_in), inplace=True)\n",
    "circuit.measure(qr1, cr)\n",
    "circuit.decompose().draw('mpl')"
   ]
  },
  {
   "cell_type": "code",
   "execution_count": 46,
   "metadata": {},
   "outputs": [
    {
     "name": "stdout",
     "output_type": "stream",
     "text": [
      "ibm_sherbrooke\n"
     ]
    },
    {
     "data": {
      "text/plain": [
       "OrderedDict([('rz', 76), ('sx', 50), ('ecr', 16), ('measure', 3)])"
      ]
     },
     "execution_count": 46,
     "metadata": {},
     "output_type": "execute_result"
    }
   ],
   "source": [
    "service = QiskitRuntimeService(channel=\"ibm_quantum\")\n",
    "backend = service.least_busy(operational=True, simulator=False)\n",
    "print(backend.name)\n",
    "target = backend.target\n",
    "pm = generate_preset_pass_manager(target=target, optimization_level=3)\n",
    "\n",
    "isa_circuit = pm.run(circuit)\n",
    "isa_circuit.count_ops()"
   ]
  },
  {
   "cell_type": "markdown",
   "metadata": {},
   "source": [
    "### Step 3: Execute on target hardware"
   ]
  },
  {
   "cell_type": "code",
   "execution_count": 47,
   "metadata": {},
   "outputs": [],
   "source": [
    "sampler = Sampler(mode=backend)\n",
    "\n",
    "job = sampler.run([isa_circuit]).result()\n",
    "\n",
    "id = job.job_id()\n",
    "print(id)"
   ]
  },
  {
   "cell_type": "code",
   "execution_count": null,
   "metadata": {},
   "outputs": [],
   "source": [
    "from qiskit_ibm_runtime import QiskitRuntimeService\n",
    "\n",
    "service = QiskitRuntimeService(\n",
    "    channel='ibm_quantum',\n",
    "    instance='ibm-q/open/main',\n",
    "    token='***'\n",
    ")\n",
    "job = service.job('cvsxcwvy6y80008bknsg')\n",
    "job_result = job.result()"
   ]
  }
 ],
 "metadata": {
  "kernelspec": {
   "display_name": "Python 3",
   "language": "python",
   "name": "python3"
  },
  "language_info": {
   "codemirror_mode": {
    "name": "ipython",
    "version": 3
   },
   "file_extension": ".py",
   "mimetype": "text/x-python",
   "name": "python",
   "nbconvert_exporter": "python",
   "pygments_lexer": "ipython3",
   "version": "3.10.15"
  }
 },
 "nbformat": 4,
 "nbformat_minor": 1
}
