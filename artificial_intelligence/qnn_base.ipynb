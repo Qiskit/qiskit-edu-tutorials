{
 "cells": [
  {
   "cell_type": "markdown",
   "metadata": {},
   "source": [
    "# Quantum Nearest Neighbour: distance based classifier\n",
    "## References: \n",
    "* Classifier: Implementing a distance-based classifier with a quantum interference circuit, M. Schuld et al 2017 EPL 119 60002"
   ]
  },
  {
   "cell_type": "markdown",
   "metadata": {},
   "source": [
    "# Preparing the data"
   ]
  },
  {
   "cell_type": "code",
   "execution_count": 1,
   "metadata": {},
   "outputs": [],
   "source": [
    "import numpy as np\n",
    "import pandas as pd"
   ]
  },
  {
   "cell_type": "code",
   "execution_count": 2,
   "metadata": {
    "scrolled": true
   },
   "outputs": [],
   "source": [
    "iris = pd.read_csv(\"input_files/iris.data\",header=None,names=[\"f0\",\"f1\",\"f2\",\"f3\",\"class\"])"
   ]
  },
  {
   "cell_type": "code",
   "execution_count": 3,
   "metadata": {},
   "outputs": [],
   "source": [
    "setosa = iris[iris[\"class\"] == \"Iris-setosa\"].loc[:,[\"f0\",\"f1\",\"class\"]]\n",
    "# setosa.loc[:,\"class\"] = -1\n",
    "setosa[\"color\"] = \"Red\"\n",
    "setosa[\"marker\"] = \"o\"\n",
    "\n",
    "versicolor = iris[iris[\"class\"] == \"Iris-versicolor\"].loc[:,[\"f0\",\"f1\",\"class\"]]\n",
    "# versicolor.loc[:,\"class\"] = 1\n",
    "versicolor[\"color\"] = \"Blue\"\n",
    "versicolor[\"marker\"] = \"x\"\n",
    "\n",
    "virginica = iris[iris[\"class\"] == \"Iris-virginica\"].loc[:,[\"f0\",\"f1\",\"class\"]]\n",
    "# virginica.loc[:,\"class\"] = 1\n",
    "virginica[\"color\"] = \"Green\"\n",
    "virginica[\"marker\"] = \".\""
   ]
  },
  {
   "cell_type": "code",
   "execution_count": 4,
   "metadata": {},
   "outputs": [],
   "source": [
    "data = pd.concat([setosa,versicolor])\n",
    "# data = pd.concat([versicolor,virginica])\n",
    "# data = pd.concat([setosa,versicolor,virginica])"
   ]
  },
  {
   "cell_type": "code",
   "execution_count": 5,
   "metadata": {},
   "outputs": [
    {
     "data": {
      "text/plain": [
       "<Figure size 640x480 with 1 Axes>"
      ]
     },
     "metadata": {},
     "output_type": "display_data"
    }
   ],
   "source": [
    "import matplotlib.pyplot as plt\n",
    "plt.scatter(data.to_numpy()[:50,0], data.to_numpy()[:50,1], color=\"red\", marker=\"o\", label=\"setosa\")\n",
    "plt.scatter(data.to_numpy()[50:100,0], data.to_numpy()[50:100,1], color=\"blue\", marker=\"x\", label=\"versicolor\")\n",
    "\n",
    "plt.xlabel('sepal length [cm]')\n",
    "plt.ylabel('sepal width [cm]')\n",
    "plt.legend(loc='upper left')\n",
    "\n",
    "plt.show()"
   ]
  },
  {
   "cell_type": "code",
   "execution_count": 6,
   "metadata": {},
   "outputs": [],
   "source": [
    "from sklearn.preprocessing import StandardScaler\n",
    "scaler = StandardScaler()\n",
    "data.iloc[:,[0,1]] = scaler.fit_transform(data.iloc[:,[0,1]])"
   ]
  },
  {
   "cell_type": "code",
   "execution_count": 7,
   "metadata": {},
   "outputs": [
    {
     "data": {
      "image/png": "[encoded data removed]",
      "text/plain": [
       "<Figure size 432x288 with 1 Axes>"
      ]
     },
     "metadata": {
      "needs_background": "light"
     },
     "output_type": "display_data"
    }
   ],
   "source": [
    "plt.scatter(data.to_numpy()[:50,0], data.to_numpy()[:50,1], color=\"red\", marker=\"o\", label=\"setosa\")\n",
    "plt.scatter(data.to_numpy()[50:100,0], data.to_numpy()[50:100,1], color=\"blue\", marker=\"x\", label=\"versicolor\")\n",
    "\n",
    "plt.xlabel('sepal length [cm]')\n",
    "plt.ylabel('sepal width [cm]')\n",
    "plt.legend(loc='upper left')\n",
    "\n",
    "plt.show()"
   ]
  },
  {
   "cell_type": "code",
   "execution_count": 8,
   "metadata": {},
   "outputs": [],
   "source": [
    "def normalize(v):\n",
    "    norm = np.linalg.norm(v)\n",
    "    if norm == 0: \n",
    "       return v\n",
    "    return v / norm"
   ]
  },
  {
   "cell_type": "code",
   "execution_count": 9,
   "metadata": {},
   "outputs": [],
   "source": [
    "for i in data.index:\n",
    "    v = [data.loc[i,\"f0\"],data.loc[i,\"f1\"]]\n",
    "    v = normalize(v)\n",
    "    data.loc[i,\"f0\"], data.loc[i,\"f1\"] = v[0], v[1]"
   ]
  },
  {
   "cell_type": "code",
   "execution_count": 10,
   "metadata": {},
   "outputs": [
    {
     "data": {
      "image/png": "[encoded data removed]",
      "text/plain": [
       "<Figure size 432x288 with 1 Axes>"
      ]
     },
     "metadata": {
      "needs_background": "light"
     },
     "output_type": "display_data"
    }
   ],
   "source": [
    "plt.scatter(data.to_numpy()[:50,0], data.to_numpy()[:50,1], color=\"red\", marker=\"o\", label=\"setosa\")\n",
    "plt.scatter(data.to_numpy()[50:100,0], data.to_numpy()[50:100,1], color=\"blue\", marker=\"x\", label=\"versicolor\")\n",
    "\n",
    "plt.xlabel('sepal length [cm]')\n",
    "plt.ylabel('sepal width [cm]')\n",
    "plt.legend(loc='upper left')\n",
    "\n",
    "plt.show()"
   ]
  },
  {
   "cell_type": "code",
   "execution_count": 11,
   "metadata": {},
   "outputs": [
    {
     "data": {
      "text/html": [
       "<div>\n",
       "<style scoped>\n",
       "    .dataframe tbody tr th:only-of-type {\n",
       "        vertical-align: middle;\n",
       "    }\n",
       "\n",
       "    .dataframe tbody tr th {\n",
       "        vertical-align: top;\n",
       "    }\n",
       "\n",
       "    .dataframe thead th {\n",
       "        text-align: right;\n",
       "    }\n",
       "</style>\n",
       "<table border=\"1\" class=\"dataframe\">\n",
       "  <thead>\n",
       "    <tr style=\"text-align: right;\">\n",
       "      <th></th>\n",
       "      <th>f0</th>\n",
       "      <th>f1</th>\n",
       "      <th>class</th>\n",
       "      <th>color</th>\n",
       "      <th>marker</th>\n",
       "    </tr>\n",
       "  </thead>\n",
       "  <tbody>\n",
       "    <tr>\n",
       "      <td>0</td>\n",
       "      <td>5.1</td>\n",
       "      <td>3.5</td>\n",
       "      <td>Iris-setosa</td>\n",
       "      <td>Red</td>\n",
       "      <td>o</td>\n",
       "    </tr>\n",
       "    <tr>\n",
       "      <td>1</td>\n",
       "      <td>4.9</td>\n",
       "      <td>3.0</td>\n",
       "      <td>Iris-setosa</td>\n",
       "      <td>Red</td>\n",
       "      <td>o</td>\n",
       "    </tr>\n",
       "    <tr>\n",
       "      <td>2</td>\n",
       "      <td>4.7</td>\n",
       "      <td>3.2</td>\n",
       "      <td>Iris-setosa</td>\n",
       "      <td>Red</td>\n",
       "      <td>o</td>\n",
       "    </tr>\n",
       "    <tr>\n",
       "      <td>3</td>\n",
       "      <td>4.6</td>\n",
       "      <td>3.1</td>\n",
       "      <td>Iris-setosa</td>\n",
       "      <td>Red</td>\n",
       "      <td>o</td>\n",
       "    </tr>\n",
       "    <tr>\n",
       "      <td>4</td>\n",
       "      <td>5.0</td>\n",
       "      <td>3.6</td>\n",
       "      <td>Iris-setosa</td>\n",
       "      <td>Red</td>\n",
       "      <td>o</td>\n",
       "    </tr>\n",
       "  </tbody>\n",
       "</table>\n",
       "</div>"
      ],
      "text/plain": [
       "    f0   f1        class color marker\n",
       "0  5.1  3.5  Iris-setosa   Red      o\n",
       "1  4.9  3.0  Iris-setosa   Red      o\n",
       "2  4.7  3.2  Iris-setosa   Red      o\n",
       "3  4.6  3.1  Iris-setosa   Red      o\n",
       "4  5.0  3.6  Iris-setosa   Red      o"
      ]
     },
     "execution_count": 11,
     "metadata": {},
     "output_type": "execute_result"
    }
   ],
   "source": [
    "setosa.head()"
   ]
  },
  {
   "cell_type": "code",
   "execution_count": 12,
   "metadata": {},
   "outputs": [
    {
     "data": {
      "text/html": [
       "<div>\n",
       "<style scoped>\n",
       "    .dataframe tbody tr th:only-of-type {\n",
       "        vertical-align: middle;\n",
       "    }\n",
       "\n",
       "    .dataframe tbody tr th {\n",
       "        vertical-align: top;\n",
       "    }\n",
       "\n",
       "    .dataframe thead th {\n",
       "        text-align: right;\n",
       "    }\n",
       "</style>\n",
       "<table border=\"1\" class=\"dataframe\">\n",
       "  <thead>\n",
       "    <tr style=\"text-align: right;\">\n",
       "      <th></th>\n",
       "      <th>f0</th>\n",
       "      <th>f1</th>\n",
       "      <th>class</th>\n",
       "      <th>label</th>\n",
       "      <th>angle</th>\n",
       "    </tr>\n",
       "  </thead>\n",
       "  <tbody>\n",
       "    <tr>\n",
       "      <td>33</td>\n",
       "      <td>0.019449</td>\n",
       "      <td>0.999811</td>\n",
       "      <td>Iris-setosa</td>\n",
       "      <td>x0 (t0)</td>\n",
       "      <td>3.142</td>\n",
       "    </tr>\n",
       "    <tr>\n",
       "      <td>85</td>\n",
       "      <td>0.788610</td>\n",
       "      <td>0.614894</td>\n",
       "      <td>Iris-versicolor</td>\n",
       "      <td>x1 (t1)</td>\n",
       "      <td>1.325</td>\n",
       "    </tr>\n",
       "    <tr>\n",
       "      <td>28</td>\n",
       "      <td>-0.549104</td>\n",
       "      <td>0.835754</td>\n",
       "      <td>Iris-setosa</td>\n",
       "      <td>x' (x0)</td>\n",
       "      <td>4.304</td>\n",
       "    </tr>\n",
       "    <tr>\n",
       "      <td>56</td>\n",
       "      <td>0.948221</td>\n",
       "      <td>0.317610</td>\n",
       "      <td>Iris-versicolor</td>\n",
       "      <td>x'' (x1)</td>\n",
       "      <td>3.036</td>\n",
       "    </tr>\n",
       "  </tbody>\n",
       "</table>\n",
       "</div>"
      ],
      "text/plain": [
       "          f0        f1            class     label  angle\n",
       "33  0.019449  0.999811      Iris-setosa   x0 (t0)  3.142\n",
       "85  0.788610  0.614894  Iris-versicolor   x1 (t1)  1.325\n",
       "28 -0.549104  0.835754      Iris-setosa   x' (x0)  4.304\n",
       "56  0.948221  0.317610  Iris-versicolor  x'' (x1)  3.036"
      ]
     },
     "execution_count": 12,
     "metadata": {},
     "output_type": "execute_result"
    }
   ],
   "source": [
    "# For setosa and versicolor\n",
    "vectors = data.loc[[33,85,28,56],[\"f0\",\"f1\",\"class\"]]\n",
    "vectors[\"label\"], vectors[\"angle\"] = [\"x0 (t0)\",\"x1 (t1)\",\"x' (x0)\",\"x'' (x1)\"], [round(np.pi,3),1.325,4.304,3.036]\n",
    "vectors\n",
    "\n",
    "# For versicolor and virginica\n",
    "# vectors = data.loc[[50,145,53,149],[\"f0\",\"f1\",\"class\"]]\n",
    "# vectors[\"label\"] = [\"t0\",\"t1\",\"x0\",\"x1\"]\n",
    "# vectors"
   ]
  },
  {
   "cell_type": "code",
   "execution_count": 13,
   "metadata": {},
   "outputs": [],
   "source": [
    "f0 = vectors.columns.get_loc(\"f0\")\n",
    "f1 = vectors.columns.get_loc(\"f1\")\n",
    "t0 = np.arctan(vectors.iloc[0,f1] / vectors.iloc[0,f0]) * 2 % (2 * np.pi)\n",
    "t1 = np.arctan(vectors.iloc[1,f1] / vectors.iloc[1,f0]) * 2 % (2 * np.pi)\n",
    "x0 = np.arctan(vectors.iloc[2,f1] / vectors.iloc[2,f0]) * 2 % (2 * np.pi)\n",
    "x1 = np.arctan(vectors.iloc[3,f1] / vectors.iloc[3,f0]) * 2 % (2 * np.pi)"
   ]
  },
  {
   "cell_type": "markdown",
   "metadata": {},
   "source": [
    "# Building the quantum circuit"
   ]
  },
  {
   "cell_type": "code",
   "execution_count": 14,
   "metadata": {},
   "outputs": [],
   "source": [
    "import qiskit\n",
    "from qiskit import IBMQ\n",
    "from qiskit import (\n",
    "    QuantumCircuit,\n",
    "    QuantumRegister,\n",
    "    ClassicalRegister,\n",
    "    execute,\n",
    "    Aer)\n",
    "from qiskit.visualization import plot_histogram\n",
    "# import qiskit.aqua.circuits.gates.controlled_ry_gates"
   ]
  },
  {
   "cell_type": "code",
   "execution_count": 15,
   "metadata": {},
   "outputs": [
    {
     "data": {
      "text/plain": [
       "'4 qubits'"
      ]
     },
     "execution_count": 15,
     "metadata": {},
     "output_type": "execute_result"
    }
   ],
   "source": [
    "str(1+1+1+1) + ' qubits'"
   ]
  },
  {
   "cell_type": "code",
   "execution_count": 16,
   "metadata": {},
   "outputs": [
    {
     "data": {
      "image/png": "[encoded data removed]",
      "text/plain": [
       "<Figure size 1661.52x686.28 with 1 Axes>"
      ]
     },
     "execution_count": 16,
     "metadata": {},
     "output_type": "execute_result"
    }
   ],
   "source": [
    "a = QuantumRegister(1,'a')\n",
    "m = QuantumRegister(1,'m')\n",
    "i = QuantumRegister(1,'i')\n",
    "c = QuantumRegister(1,'c')\n",
    "b = ClassicalRegister(2, 'bit')\n",
    "circuit = QuantumCircuit(a,m,i,c,b)\n",
    "\n",
    "circuit.h(a)\n",
    "circuit.h(m)\n",
    "\n",
    "circuit.barrier()\n",
    "\n",
    "circuit.cry(x0,a[0],i[0])\n",
    "circuit.x(a)\n",
    "\n",
    "circuit.barrier()\n",
    "\n",
    "# circuit.ccx(a,m,i)\n",
    "circuit.mcry(t0,a[:]+m[:],i[0],None)\n",
    "circuit.x(m)\n",
    "\n",
    "circuit.barrier()\n",
    "\n",
    "circuit.mcry(t1,a[:]+m[:],i[0],None)\n",
    "\n",
    "circuit.barrier()\n",
    "\n",
    "circuit.cx(m,c)\n",
    "\n",
    "circuit.barrier()\n",
    "\n",
    "circuit.h(a)\n",
    "circuit.measure(a,b[0])\n",
    "circuit.measure(c,b[1])\n",
    "\n",
    "circuit.draw(output='mpl')"
   ]
  },
  {
   "cell_type": "code",
   "execution_count": 17,
   "metadata": {},
   "outputs": [
    {
     "name": "stdout",
     "output_type": "stream",
     "text": [
      "\n",
      "Total counts are: {'00': 3698, '11': 1941, '01': 362, '10': 2191}\n"
     ]
    },
    {
     "data": {
      "image/png": "[encoded data removed]",
      "text/plain": [
       "<Figure size 504x360 with 1 Axes>"
      ]
     },
     "execution_count": 17,
     "metadata": {},
     "output_type": "execute_result"
    }
   ],
   "source": [
    "simulator = Aer.get_backend('qasm_simulator')\n",
    "job = execute(circuit, simulator, shots=8192)\n",
    "result = job.result()\n",
    "counts = result.get_counts(circuit)\n",
    "print(\"\\nTotal counts are:\",counts)\n",
    "plot_histogram(counts)"
   ]
  },
  {
   "cell_type": "code",
   "execution_count": 18,
   "metadata": {},
   "outputs": [
    {
     "data": {
      "image/png": "[encoded data removed]",
      "text/plain": [
       "<Figure size 504x360 with 1 Axes>"
      ]
     },
     "execution_count": 18,
     "metadata": {},
     "output_type": "execute_result"
    }
   ],
   "source": [
    "goodCounts = {k: counts[k] for k in counts.keys() & {'00', '10'}}\n",
    "plot_histogram(goodCounts)"
   ]
  }
 ],
 "metadata": {
  "kernelspec": {
   "display_name": "Python 3",
   "language": "python",
   "name": "python3"
  },
  "language_info": {
   "codemirror_mode": {
    "name": "ipython",
    "version": 3
   },
   "file_extension": ".py",
   "mimetype": "text/x-python",
   "name": "python",
   "nbconvert_exporter": "python",
   "pygments_lexer": "ipython3",
   "version": "3.7.4"
  }
 },
 "nbformat": 4,
 "nbformat_minor": 4
}
