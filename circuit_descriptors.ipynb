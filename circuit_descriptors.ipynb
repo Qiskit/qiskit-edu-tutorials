{
 "cells": [
  {
   "cell_type": "markdown",
   "source": [
    "## _*Circuit Descriptors*_\n",
    "\n",
    "#### Written by Hojun Lee\n",
    "\n",
    "\n",
    "### Introduction\n",
    "Parameterized quantum circuit(PQC) can be the framework of variational quantum algorithms.\n",
    "\n",
    "[1] presented two circuit descriptors of parameterized quantum circuit, expressibility and entangling capability.\n",
    "\n",
    "To learn how to implement parameterized quantum circuits, see [this file](https://qiskit.org/documentation/tutorials/circuits_advanced/01_advanced_circuits.html)."
   ],
   "metadata": {}
  },
  {
   "cell_type": "code",
   "execution_count": 1,
   "source": [
    "import numpy as np\n",
    "from scipy.stats import norm\n",
    "from matplotlib import pyplot as plt\n",
    "from scipy.stats import rv_continuous\n",
    "from qiskit.circuit import Parameter, ParameterVector\n",
    "from qiskit import *\n",
    "from sklearn.metrics.cluster import adjusted_mutual_info_score as mi"
   ],
   "outputs": [],
   "metadata": {}
  },
  {
   "cell_type": "markdown",
   "source": [
    "### Make a parameterized quantum circuit\n",
    "\n",
    "This PQC class has a method `get()` which returns statevector by using statevector simulator.\n",
    "\n",
    "It has two modes, \"pqc\" and \"random\".\n",
    "\n",
    "In \"pqc\" mode, it samples parameter values from unifrom distribution and bind it to the parameterized quantum circuit.\n",
    "\n",
    "\"random\" mode is for random quantum circuits. it uses `qiskit.quantum_info.random_unitary` which samples unitary operator from the unitary Haar measure."
   ],
   "metadata": {}
  },
  {
   "cell_type": "code",
   "execution_count": 2,
   "source": [
    "class PQC:\n",
    "    def __init__(self,name,size,num_params,backend=Aer.get_backend('statevector_simulator')):\n",
    "        self.backend = backend\n",
    "        self.circ = QuantumCircuit(size)\n",
    "        self.name = name\n",
    "        self.size = size\n",
    "        self.num_params = num_params\n",
    "        seed = 14256\n",
    "        np.random.seed(seed)\n",
    "        self.params = ParameterVector('θ', self.num_params)\n",
    "    def get(self,mode=\"pqc\"):\n",
    "        if mode == \"pqc\":\n",
    "            circ = self.circ.bind_parameters({self.params: np.random.uniform(0,2*np.pi,len(self.params.params))})\n",
    "        elif mode == \"random\":\n",
    "            rand = qiskit.quantum_info.random_unitary(dims=2**self.size)\n",
    "            circ = QuantumCircuit(self.size)\n",
    "            circ.data = self.circ.data\n",
    "            circ.append(rand,range(self.size))\n",
    "        result = execute(circ,self.backend).result()\n",
    "        out_state = result.get_statevector()\n",
    "        statevector = np.asmatrix(out_state).T\n",
    "        return statevector"
   ],
   "outputs": [],
   "metadata": {}
  },
  {
   "cell_type": "markdown",
   "source": [
    "Following quantum circuit is similar from with `Circuit 19` in [1]"
   ],
   "metadata": {}
  },
  {
   "cell_type": "code",
   "execution_count": 3,
   "source": [
    "pqc = PQC(name=\"MyCirc\",size=4,num_params=12)\n",
    "for i in range(pqc.size):\n",
    "    pqc.circ.rx(pqc.params[i],i)\n",
    "for i in range(pqc.size):\n",
    "    pqc.circ.rz(pqc.params[i+pqc.size],i)\n",
    "pqc.circ.crz(pqc.params[2*pqc.size],pqc.size-1,0)\n",
    "for i in range(pqc.size-1):\n",
    "    pqc.circ.crz(pqc.params[i+1+2*pqc.size],pqc.size-i-2,pqc.size-i-1)\n",
    "pqc.circ.draw('mpl')"
   ],
   "outputs": [
    {
     "output_type": "execute_result",
     "data": {
      "text/plain": [
       "<Figure size 447.797x264.88 with 1 Axes>"
      ],
      "image/png": "[encoded data removed]"
     },
     "metadata": {},
     "execution_count": 3
    }
   ],
   "metadata": {}
  },
  {
   "cell_type": "markdown",
   "source": [
    "`get()` method returns the statevector"
   ],
   "metadata": {}
  },
  {
   "cell_type": "code",
   "execution_count": 4,
   "source": [
    "pqc.get(mode=\"pqc\")"
   ],
   "outputs": [
    {
     "output_type": "execute_result",
     "data": {
      "text/plain": [
       "matrix([[ 0.12530701+1.27546047e-02j],\n",
       "        [-0.16961975+1.54238235e-01j],\n",
       "        [-0.0044316 +3.40098926e-03j],\n",
       "        [-0.0032801 -9.62435063e-03j],\n",
       "        [-0.27942712+3.34385164e-01j],\n",
       "        [-0.11325471-7.85049126e-01j],\n",
       "        [-0.0040606 +1.88953655e-02j],\n",
       "        [-0.03021272-1.80194588e-02j],\n",
       "        [ 0.04366029+8.41178169e-03j],\n",
       "        [ 0.0782669 -2.05952042e-02j],\n",
       "        [-0.00166481+1.05695980e-03j],\n",
       "        [-0.00054407+3.54791646e-03j],\n",
       "        [ 0.14319123+5.62141380e-02j],\n",
       "        [ 0.27924256-2.05741649e-02j],\n",
       "        [ 0.00678106-7.51180781e-04j],\n",
       "        [ 0.0070887 -1.01962833e-02j]])"
      ]
     },
     "metadata": {},
     "execution_count": 4
    }
   ],
   "metadata": {}
  },
  {
   "cell_type": "code",
   "execution_count": 5,
   "source": [
    "pqcr = PQC(name=\"rand\",size=4,num_params=0)\n",
    "rand = qiskit.quantum_info.random_unitary(dims=2**pqcr.size)\n",
    "circ = QuantumCircuit(pqcr.size)\n",
    "circ.data = pqcr.circ.data\n",
    "circ.append(rand,range(pqcr.size))\n",
    "circ.draw('mpl')\n"
   ],
   "outputs": [
    {
     "output_type": "execute_result",
     "data": {
      "text/plain": [
       "<Figure size 206.997x264.88 with 1 Axes>"
      ],
      "image/png": "[encoded data removed]"
     },
     "metadata": {},
     "execution_count": 5
    }
   ],
   "metadata": {}
  },
  {
   "cell_type": "code",
   "execution_count": 6,
   "source": [
    "pqcr.get(mode=\"random\")"
   ],
   "outputs": [
    {
     "output_type": "execute_result",
     "data": {
      "text/plain": [
       "matrix([[-3.98714123e-02+0.13250183j],\n",
       "        [ 1.25384717e-01+0.01745208j],\n",
       "        [ 4.11904779e-02-0.04681158j],\n",
       "        [-2.26546495e-01-0.184279j  ],\n",
       "        [ 8.92090819e-02-0.12638076j],\n",
       "        [-6.45155493e-05+0.14151557j],\n",
       "        [ 2.90019967e-02+0.28616342j],\n",
       "        [ 1.06946742e-01-0.25793945j],\n",
       "        [ 2.84696075e-01-0.1614268j ],\n",
       "        [-1.26314751e-02-0.02909431j],\n",
       "        [ 2.91752140e-01+0.17953406j],\n",
       "        [ 1.76719194e-01-0.33373948j],\n",
       "        [-3.14102597e-01-0.19002397j],\n",
       "        [ 1.13760790e-03+0.37750962j],\n",
       "        [-1.14572826e-02+0.05289444j],\n",
       "        [ 1.20602728e-01-0.09033893j]])"
      ]
     },
     "metadata": {},
     "execution_count": 6
    }
   ],
   "metadata": {}
  },
  {
   "cell_type": "markdown",
   "source": [
    "### Expressibility"
   ],
   "metadata": {}
  },
  {
   "cell_type": "markdown",
   "source": [
    "Expressibility is a measure of how the quantum states generated by parameterized quantum circuit represent Hilbert space well.\n",
    "\n",
    "To quantify this non-uniformity, [1] looked $\\epsilon$-approximate state $t$-design.\n",
    "$\\begin{equation*}\n",
    "A=\\int_{Haar}\\left(|\\psi\\rangle\\langle\\psi|\\right)^{\\otimes t} d\\psi - \\int_{\\mathbf{\\Theta}}\\left(|\\psi_\\mathbf{\\theta}\\rangle\\langle\\psi_\\mathbf{\\theta}|\\right)^{\\otimes t} d\\mathbf{\\theta}\n",
    "\\end{equation*}$\n",
    "\n",
    "And $||A||_{HS}^2$ can thought as one of the measure of non-uniformity. ($HS$ is Hilbert-Schmidt norm)\n",
    "\n",
    "$||A||_{HS}^2$ can be expressed as a term of `frame potential`[2] $\\mathcal{F}^{(t)}$\n",
    "\n",
    "$\\begin{equation*}\n",
    "||A||_{HS}^2 = \\mathcal{F}^{(t)} - \\mathcal{F}_{Haar}^{(t)}\n",
    "\\end{equation*}$\n",
    "\n",
    "$\\begin{equation*}\n",
    "\\mathcal{F}^{(t)} = \\int_{\\mathbf{\\Theta}}\\int_{\\mathbf{\\Phi}}{\\left|\\langle\\psi_{\\mathbf{\\theta}}|\\psi_{\\mathbf{\\phi}}\\rangle\\right|}^{2t} d\\mathbf{\\theta}d\\mathbf{\\phi},\\ \\ \\ \\mathcal{F}_{Haar}^{(t)} = {{1}\\over{d_{sym}^{(t)}}} = {{t! (N-1)!}\\over{(t+N-1)!}}\n",
    "\\end{equation*}$\n",
    "\n",
    "where $N=2^n$ for $n$ qubits.\n",
    "\n",
    "Since $||A||_{HS}^2\\ge 0$, $\\mathcal{F}^{(t)}$ has a lower bound $\\mathcal{F}_{Haar}^{(t)}$\n",
    "\n",
    "$\\mathcal{F}^{(t)}$ can be understood as $t$-th momentum of the distribution of fidelity.\n",
    "\n",
    "$\\begin{equation*}\n",
    "\\mathcal{F}^{(t)} = \\mathbb{E}\\left[F^t\\right], \\ \\ \\ F={\\left|\\langle\\psi_{\\mathbf{\\theta}}|\\phi_{\\mathbf{\\theta}}\\rangle\\right|}^2\n",
    "\\end{equation*}$\n",
    "\n",
    "And expressibility is defined as the Kullback-Leibler(KL) divergence of estimated fidelity distribution and fidelity distribution of the Haar distribution.\n",
    "\n",
    "$\\begin{equation*}\n",
    "Expr = D_{KL}\\left(\\hat{P}_{PQC}(F;\\mathbf{\\theta})||P_{Haar}(F)\\right)\n",
    "\\end{equation*}$\n",
    "\n",
    "And the probability of haar distribution is known as $P_{Haar}(F) = (N-1){(1-F)}^{N-2}$"
   ],
   "metadata": {}
  },
  {
   "cell_type": "markdown",
   "source": [
    "### Implement expressibility function\n",
    "\n",
    "We can estimate the probability distribution function with histogram of sampled fidelities.\n",
    "\n",
    "Natural logarithm is used in Kullback-Leibler divergence."
   ],
   "metadata": {}
  },
  {
   "cell_type": "code",
   "execution_count": 7,
   "source": [
    "def kl_divergence(p, q):\n",
    "    return np.sum(np.where(p*q!=0, p * np.log(p / q), 0))\n",
    "\n",
    "def Haar(F,N):\n",
    "    if F<0 or F>1:\n",
    "        return 0;\n",
    "    return (N-1)*((1-F)**(N-2))\n",
    "\n",
    "class Haar_dist(rv_continuous):\n",
    "    def _pdf(self,x,n):\n",
    "        return Haar(x,2**n)\n",
    "\n",
    "def getHaar(reps,bins=250,qubits=4):\n",
    "    haar = []\n",
    "    N = qubits ** 2\n",
    "    for i in range(bins):\n",
    "        haar.append(Haar((i+0.5)/bins,N)/bins)\n",
    "    return np.array(haar)\n",
    "def expressibility(pqc, bins=250, reps=10000, verbose = 2, get_mode=\"pqc\"):\n",
    "    arr = []\n",
    "    for i in range(reps):\n",
    "        v1 = pqc.get(mode=get_mode).getH()\n",
    "        v2 = pqc.get(mode=get_mode)\n",
    "        fid = np.abs(v1*v2)**2\n",
    "        arr.append(fid[0,0])\n",
    "        if verbose == 2:\n",
    "            if i%100==0 and i!=0:\n",
    "                print(\"\\r\",\"reps \",i,end=' ')\n",
    "            if i==reps-1:\n",
    "                print(\"\\rdone.\",end=' ')\n",
    "    haar = []\n",
    "    h = Haar_dist(a=0,b=1,name=\"haar\")\n",
    "    for i in range(reps):\n",
    "        haar.append(h.ppf((i+1)/reps,pqc.size))\n",
    "    haar_pdf = plt.hist(np.array(haar), bins=bins, alpha=0.5,range=(0,1),density=True,label=\"haar\")[0]\n",
    "    pqc_pdf = plt.hist(np.array(arr), bins=bins, alpha=0.5, range=(0,1),density=True,label=get_mode)[0]\n",
    "    kl = kl_divergence(pqc_pdf/bins,haar_pdf/bins)\n",
    "    if verbose >= 1:\n",
    "        plt.title(\"%s KL(P||Q) = %1.4f\" % (pqc.name, kl))\n",
    "        plt.legend()\n",
    "    return kl"
   ],
   "outputs": [],
   "metadata": {}
  },
  {
   "cell_type": "markdown",
   "source": [
    "Calculate the expressibility of `pqc`"
   ],
   "metadata": {}
  },
  {
   "cell_type": "code",
   "execution_count": 8,
   "source": [
    "expressibility(pqc,reps=1000,get_mode='pqc')"
   ],
   "outputs": [
    {
     "output_type": "stream",
     "name": "stdout",
     "text": [
      " reps  200 "
     ]
    }
   ],
   "metadata": {}
  },
  {
   "cell_type": "markdown",
   "source": [
    "You can see that the random quantum circuit has much lower value than parameterized quantum circuits. The expressibility of random quantum circuit is ideally 0."
   ],
   "metadata": {}
  },
  {
   "cell_type": "code",
   "execution_count": null,
   "source": [
    "expressibility(pqcr,reps=1000,get_mode='random')"
   ],
   "outputs": [],
   "metadata": {}
  },
  {
   "cell_type": "markdown",
   "source": [
    "### Entangling capability"
   ],
   "metadata": {}
  },
  {
   "cell_type": "markdown",
   "source": [
    "Entangling capability is the average of Meyer-Wallach entanglement[3] of states generated by the parameterized quantum circuit.\n",
    "\n",
    "$Ent. = {1\\over{|S|}}\\sum\\limits_{\\boldsymbol{\\theta_i}\\in S}Q(|\\psi_{{\\boldsymbol{\\theta_i}}}\\rangle)$\n",
    "\n",
    "For pure states, we can calculate the Meyer-Wallach entanglement as following.[4]\n",
    "\n",
    "$Q(|\\psi\\rangle) = {4\\over n}\\sum\\limits_{j=1}^n D(\\iota_j(0)|\\psi\\rangle,\\iota_j(1)|\\psi\\rangle)$\n",
    "\n",
    "$D(|u\\rangle, |v\\rangle) = {1\\over 2}\\sum\\limits_{i,j}{|u_iv_j-u_jv_i|}^2$\n",
    "\n",
    "$\\iota_j(b)|b_1 b_2 \\cdots b_n\\rangle = \\delta_{bb_j}|b_1 b_2 \\cdots\\hat{b_j}\\cdots b_n\\rangle$\n",
    "\n",
    "where the symbol ^ denotes absence of the $j$-th qubit."
   ],
   "metadata": {}
  },
  {
   "cell_type": "code",
   "execution_count": null,
   "source": [
    "def I(b,j,n,vec):\n",
    "    newvec = np.zeros((2**(n-1)), dtype=complex)\n",
    "    for new_index in range(2**(n-1)):\n",
    "        original_index = new_index%(2**(j-1)) + (new_index//(2**(j-1)))*(2**(j)) + b*(2**(j-1))\n",
    "        newvec[new_index]=vec[int(original_index),0]\n",
    "    return newvec\n",
    "\n",
    "\n",
    "def D(u,v,m):\n",
    "    dist = 0\n",
    "    for i in range(m):\n",
    "        for j in range(m):\n",
    "            a = u[i]*v[j]-u[j]*v[i]\n",
    "            dist += (1/2)*(np.abs(a)**2)\n",
    "    return dist\n",
    "\n",
    "\n",
    "def Q(n,vec):\n",
    "    sum = 0;\n",
    "    for j in range(n):\n",
    "        sum += D(I(0,j+1,n,vec),I(1,j+1,n,vec),2**(n-1))\n",
    "    return sum * 4 / n\n",
    "\n",
    "\n",
    "def entangling_capability(pqc, reps=10000,verbose=1,get_mode=\"pqc\"):\n",
    "    sum = 0;\n",
    "    for i in range(reps):\n",
    "        sum += Q(pqc.size,pqc.get(mode=get_mode))\n",
    "        if verbose == 1:\n",
    "            if i%100==0 and i!=0:\n",
    "                print(\"\\r\",\"reps \",i,end=' ')\n",
    "            if i==reps-1:\n",
    "                print(\"\\rdone.\",end=' ')\n",
    "    return sum/reps"
   ],
   "outputs": [],
   "metadata": {}
  },
  {
   "cell_type": "code",
   "execution_count": null,
   "source": [
    "entangling_capability(pqc,reps=1000)"
   ],
   "outputs": [],
   "metadata": {}
  },
  {
   "cell_type": "markdown",
   "source": [
    "The mean $Q$ value of Haar random states are known as $\\langle Q\\rangle_{Haar} = {{N-2}\\over{N+1}}$ where $N=2^n$ [5]"
   ],
   "metadata": {}
  },
  {
   "cell_type": "code",
   "execution_count": null,
   "source": [
    "N = 2**pqcr.size\n",
    "Q_haar = (N-2)/(N+1)\n",
    "print(Q_haar)"
   ],
   "outputs": [],
   "metadata": {}
  },
  {
   "cell_type": "code",
   "execution_count": null,
   "source": [
    "entangling_capability(pqcr,reps=1000,get_mode=\"random\")"
   ],
   "outputs": [],
   "metadata": {}
  },
  {
   "cell_type": "markdown",
   "source": [
    "### Get expressibility with qasm_simulator\n",
    "For pure quantum states, we can get fidelity with swap test [6]"
   ],
   "metadata": {}
  },
  {
   "cell_type": "code",
   "execution_count": null,
   "source": [
    "def get_fidelity(pqc):\n",
    "    backend = Aer.get_backend('qasm_simulator')\n",
    "    qc = QuantumCircuit(2*pqc.size + 1,1)\n",
    "    circ1 = pqc.circ.copy()\n",
    "    circ2 = pqc.circ.copy()\n",
    "    circ1 = circ1.bind_parameters({pqc.params: np.random.uniform(0,2*np.pi,len(pqc.params.params))})\n",
    "    circ2 = circ2.bind_parameters({pqc.params: np.random.uniform(0,2*np.pi,len(pqc.params.params))})\n",
    "    circ1.name=\"pqc\"\n",
    "    circ2.name=\"pqc\"\n",
    "    qc.h(0)\n",
    "    qc.append(circ1,range(1,1+pqc.size))\n",
    "    qc.append(circ2,range(1+pqc.size,1+2*pqc.size))\n",
    "    for i in range(pqc.size):\n",
    "        qc.cswap(0,i+1,i+1+pqc.size)\n",
    "    qc.h(0)\n",
    "    qc.measure(0,0)\n",
    "    shots = 10000\n",
    "    result = execute(qc,backend,shots=shots).result()\n",
    "    counts = result.get_counts()\n",
    "    fid = 2*(counts['0']/shots)-1\n",
    "    fid = fid if fid>0 else 0\n",
    "    return (qc, fid)"
   ],
   "outputs": [],
   "metadata": {}
  },
  {
   "cell_type": "code",
   "execution_count": null,
   "source": [
    "qc,fid=get_fidelity(pqc)\n",
    "print(fid)\n",
    "qc.draw('mpl')"
   ],
   "outputs": [],
   "metadata": {}
  },
  {
   "cell_type": "code",
   "execution_count": null,
   "source": [
    "def expressibility_swap(pqc, bins=250, reps=10000, verbose = 2):\n",
    "    arr = []\n",
    "    for i in range(reps):\n",
    "        _, fid = get_fidelity(pqc)\n",
    "        arr.append(fid)\n",
    "        if verbose == 2:\n",
    "            if i%100==0 and i!=0:\n",
    "                print(\"\\r\",\"reps \",i,end=' ')\n",
    "            if i==reps-1:\n",
    "                print(\"\\rdone.\",end=' ')\n",
    "    haar = []\n",
    "    h = Haar_dist(a=0,b=1,name=\"haar\")\n",
    "    for i in range(reps):\n",
    "        haar.append(h.ppf((i+1)/reps,pqc.size))\n",
    "    haar_pdf = plt.hist(np.array(haar), bins=bins, alpha=0.5,range=(0,1),density=True,label=\"haar\")[0]\n",
    "    pqc_pdf = plt.hist(np.array(arr), bins=bins, alpha=0.5, range=(0,1),density=True,label=\"pqc\")[0]\n",
    "    kl = kl_divergence(pqc_pdf/bins,haar_pdf/bins)\n",
    "    if verbose >= 1:\n",
    "        plt.title(\"%s KL(P||Q) = %1.4f\" % (pqc.name, kl))\n",
    "        plt.legend()\n",
    "    return kl"
   ],
   "outputs": [],
   "metadata": {}
  },
  {
   "cell_type": "code",
   "execution_count": null,
   "source": [
    "expressibility_swap(pqc,reps=1000)"
   ],
   "outputs": [],
   "metadata": {}
  },
  {
   "cell_type": "markdown",
   "source": [
    "### References\n",
    "1. Sim, Sukin, Peter D. Johnson, and Alán Aspuru‐Guzik. \"Expressibility and entangling capability of parameterized quantum circuits for hybrid quantum‐classical algorithms.\" Advanced Quantum Technologies 2.12 (2019): 1900070.\n",
    "2. Roberts, Daniel A., and Beni Yoshida. \"Chaos and complexity by design.\" Journal of High Energy Physics 2017.4 (2017): 1-64.\n",
    "3. Meyer, David A., and Nolan R. Wallach. \"Global entanglement in multiparticle systems.\" Journal of Mathematical Physics 43.9 (2002): 4273-4278.\n",
    "4. Brennen, Gavin K. \"An observable measure of entanglement for pure states of multi-qubit systems.\" arXiv preprint quant-ph/0305094 (2003).\n",
    "5. Scott, Andrew J., and Carlton M. Caves. \"Entangling power of the quantum baker's map.\" Journal of Physics A: Mathematical and General 36.36 (2003): 9553.\n",
    "6. Wikipedia, Swap_test, https://en.wikipedia.org/wiki/Swap_test"
   ],
   "metadata": {}
  },
  {
   "cell_type": "markdown",
   "source": [],
   "metadata": {}
  }
 ],
 "metadata": {
  "interpreter": {
   "hash": "752579dbebe7f4dfe7c1aa72eac13e23fc88be2cc1ea7ab14e1f8d69b2d97d12"
  },
  "kernelspec": {
   "display_name": "Python 3.8.5 64-bit ('3.8')",
   "name": "python3"
  },
  "language_info": {
   "codemirror_mode": {
    "name": "ipython",
    "version": 3
   },
   "file_extension": ".py",
   "mimetype": "text/x-python",
   "name": "python",
   "nbconvert_exporter": "python",
   "pygments_lexer": "ipython3",
   "version": "3.8.5"
  },
  "orig_nbformat": 4
 },
 "nbformat": 4,
 "nbformat_minor": 2
}