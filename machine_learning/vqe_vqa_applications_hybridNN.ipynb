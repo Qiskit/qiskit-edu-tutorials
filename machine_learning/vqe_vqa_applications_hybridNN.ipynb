{
 "cells": [
  {
   "cell_type": "markdown",
   "id": "030cdabf",
   "metadata": {},
   "source": [
    "# Quantum Machine Learning: Learning through examples\n"
   ]
  },
  {
   "cell_type": "code",
   "execution_count": 9,
   "id": "c8b160ad",
   "metadata": {},
   "outputs": [],
   "source": [
    "import numpy as np\n",
    "# Importing standard Qiskit libraries\n",
    "from qiskit import QuantumCircuit, transpile, Aer, IBMQ\n",
    "from qiskit.tools.jupyter import *\n",
    "from qiskit.visualization import *\n",
    "from ibm_quantum_widgets import *\n",
    "\n",
    "# Supress warnings\n",
    "import warnings\n",
    "warnings.filterwarnings('ignore')\n",
    "\n",
    "# Loading your IBM Quantum account(s)\n",
    "provider = IBMQ.load_account()"
   ]
  },
  {
   "cell_type": "markdown",
   "id": "1e37755c",
   "metadata": {},
   "source": [
    "# Overview\n",
    "1. Simple VQE example\n",
    "2. VQE for LiH\n",
    "3. VQA introduction\n",
    "4. VQA applications - QAOA\n",
    "5. VQA limitations - NISQ\n",
    "6. Hybrid algorithms"
   ]
  },
  {
   "cell_type": "markdown",
   "id": "be962a00",
   "metadata": {},
   "source": [
    "# VQE\n",
    "VQE are used for calculating the smallest eigenvalue of a given Hamiltonian. Hamiltonians are energy operators and represent energy evolution in a physical system. Thus, the least eigenvalue of a Hamiltonian corresponds to the energy of the least energy state, or the ground state."
   ]
  },
  {
   "cell_type": "markdown",
   "id": "2ccc44a3",
   "metadata": {},
   "source": [
    "# Simple VQE example\n",
    "Hamiltonians are Hermitian operators. So in the first example we discuss, we will hand-create a Hermitian matrix instead of simulating a physical system. \n",
    "## Step 1: Obtaining the operator"
   ]
  },
  {
   "cell_type": "code",
   "execution_count": 2,
   "id": "7eb134e9",
   "metadata": {},
   "outputs": [
    {
     "name": "stdout",
     "output_type": "stream",
     "text": [
      "     ┌───┐\n",
      "q_0: ┤ X ├\n",
      "     ├───┤\n",
      "q_1: ┤ X ├\n",
      "     └───┘\n"
     ]
    }
   ],
   "source": [
    "from qiskit.quantum_info.operators import Operator\n",
    "from qiskit.quantum_info import Pauli\n",
    "from qiskit.aqua.operators import OperatorBase\n",
    "from qiskit.aqua.operators.primitive_ops import PrimitiveOp\n",
    "from qiskit.opflow import CX,X\n",
    "import numpy as np\n",
    "\n",
    "op=QuantumCircuit(2)\n",
    "op.x(0)\n",
    "op.x(1)\n",
    "\n",
    "print(op)"
   ]
  },
  {
   "cell_type": "markdown",
   "id": "d9ff1737",
   "metadata": {},
   "source": [
    "We can manually verify that the lowest eigenvalue of this matrix is -1. It is obtained when the system is in the following state:\n",
    "\\begin{equation*}\n",
    "\\frac{\\left(\\left|0\\right\\rangle - \\left|1\\right\\rangle\\right)}{\\sqrt{2}}\\frac{\\left(\\left|0\\right\\rangle + \\left|1\\right\\rangle\\right)}{\\sqrt{2}}\n",
    "\\end{equation*}"
   ]
  },
  {
   "cell_type": "markdown",
   "id": "8b196ed2",
   "metadata": {},
   "source": [
    "## Step 2: Defining the ansatz"
   ]
  },
  {
   "cell_type": "code",
   "execution_count": 5,
   "id": "af5b7e0f",
   "metadata": {},
   "outputs": [
    {
     "data": {
      "image/png": "[encoded data removed]",
      "text/plain": [
       "<Figure size 507.852x144.48 with 1 Axes>"
      ]
     },
     "execution_count": 5,
     "metadata": {},
     "output_type": "execute_result"
    }
   ],
   "source": [
    "from qiskit.circuit import Parameter, QuantumCircuit, ParameterVector\n",
    "ansatz=QuantumCircuit(2)\n",
    "parameters=ParameterVector('x',length=2*6)\n",
    "\n",
    "param_no=0\n",
    "for i in range(2):\n",
    "    ansatz.rz(parameters[param_no],i)\n",
    "    param_no+=1\n",
    "    ansatz.ry(parameters[param_no],i)\n",
    "    param_no+=1\n",
    "    ansatz.rz(parameters[param_no],i)\n",
    "    param_no+=1\n",
    "ansatz.cx(0,1)\n",
    "for i in range(2):\n",
    "    ansatz.rz(parameters[param_no],i)\n",
    "    param_no+=1\n",
    "    ansatz.ry(parameters[param_no],i)\n",
    "    param_no+=1\n",
    "    ansatz.rz(parameters[param_no],i)\n",
    "    param_no+=1\n",
    "    \n",
    "ansatz.draw()"
   ]
  },
  {
   "cell_type": "markdown",
   "id": "a924638e",
   "metadata": {},
   "source": [
    "## Step 3: Optimisation of parameters"
   ]
  },
  {
   "cell_type": "code",
   "execution_count": 9,
   "id": "eccf5e91",
   "metadata": {},
   "outputs": [
    {
     "name": "stdout",
     "output_type": "stream",
     "text": [
      "Measured eigenvalue after optimisiation is: -0.9999994805699511\n"
     ]
    }
   ],
   "source": [
    "from qiskit.algorithms import VQE\n",
    "from qiskit.algorithms.optimizers import COBYLA\n",
    "from qiskit.aqua.operators import PauliExpectation\n",
    "\n",
    "from qiskit import Aer\n",
    "backend = Aer.get_backend('statevector_simulator')\n",
    "\n",
    "algorithm = VQE(ansatz,\n",
    "                optimizer=COBYLA(),\n",
    "                quantum_instance=backend,\n",
    "               expectation=PauliExpectation())\n",
    "result = algorithm.compute_minimum_eigenvalue(op)\n",
    "print(\"Measured eigenvalue after optimisiation is:\", result.eigenvalue)"
   ]
  },
  {
   "cell_type": "markdown",
   "id": "b1d10834",
   "metadata": {},
   "source": [
    "# LiH example\n",
    "Now that we have a better understanding of how VQE works, let's look at a slightly more complicated example with the LiH molecule. The code for this example has been derived from the qiskit textbook"
   ]
  },
  {
   "cell_type": "code",
   "execution_count": 11,
   "id": "7fe65db0",
   "metadata": {},
   "outputs": [],
   "source": [
    "from qiskit.aqua.algorithms import VQE, NumPyEigensolver\n",
    "import matplotlib.pyplot as plt\n",
    "import numpy as np\n",
    "from qiskit.chemistry.components.variational_forms import UCCSD\n",
    "from qiskit.chemistry.components.initial_states import HartreeFock\n",
    "from qiskit.circuit.library import EfficientSU2\n",
    "from qiskit.algorithms.optimizers import COBYLA, SPSA, SLSQP\n",
    "from qiskit.aqua.operators import Z2Symmetries\n",
    "from qiskit import IBMQ, BasicAer, Aer\n",
    "from qiskit.chemistry.drivers import PySCFDriver, UnitsType\n",
    "from qiskit.chemistry import FermionicOperator\n",
    "from qiskit.aqua import QuantumInstance\n",
    "from qiskit.ignis.mitigation.measurement import CompleteMeasFitter\n",
    "from qiskit.providers.aer.noise import NoiseModel"
   ]
  },
  {
   "cell_type": "markdown",
   "id": "feeada11",
   "metadata": {},
   "source": [
    "## Step 1: Obtaining the operator\n",
    "We will create a function that returns the Hamiltonian of the LiH system at a specified interatomic distance. Remember that the smallest eigenvalue of the obtained energy operator corresponds to the energy of the ground state of the molecule at the interatomic distance"
   ]
  },
  {
   "cell_type": "code",
   "execution_count": 14,
   "id": "abd8b117",
   "metadata": {},
   "outputs": [],
   "source": [
    "def get_qubit_op(dist):\n",
    "    driver = PySCFDriver(atom=\"Li .0 .0 .0; H .0 .0 \" + str(dist), unit=UnitsType.ANGSTROM, \n",
    "                         charge=0, spin=0, basis='sto3g')\n",
    "    molecule = driver.run()\n",
    "    freeze_list = [0]\n",
    "    remove_list = [-3, -2]\n",
    "    repulsion_energy = molecule.nuclear_repulsion_energy\n",
    "    num_particles = molecule.num_alpha + molecule.num_beta\n",
    "    num_spin_orbitals = molecule.num_orbitals * 2\n",
    "    remove_list = [x % molecule.num_orbitals for x in remove_list]\n",
    "    freeze_list = [x % molecule.num_orbitals for x in freeze_list]\n",
    "    remove_list = [x - len(freeze_list) for x in remove_list]\n",
    "    remove_list += [x + molecule.num_orbitals - len(freeze_list)  for x in remove_list]\n",
    "    freeze_list += [x + molecule.num_orbitals for x in freeze_list]\n",
    "    ferOp = FermionicOperator(h1=molecule.one_body_integrals, h2=molecule.two_body_integrals)\n",
    "    ferOp, energy_shift = ferOp.fermion_mode_freezing(freeze_list)\n",
    "    num_spin_orbitals -= len(freeze_list)\n",
    "    num_particles -= len(freeze_list)\n",
    "    ferOp = ferOp.fermion_mode_elimination(remove_list)\n",
    "    num_spin_orbitals -= len(remove_list)\n",
    "    qubitOp = ferOp.mapping(map_type='parity', threshold=0.00000001)\n",
    "    qubitOp = Z2Symmetries.two_qubit_reduction(qubitOp, num_particles)\n",
    "    shift = energy_shift + repulsion_energy\n",
    "    return qubitOp, num_particles, num_spin_orbitals, shift"
   ]
  },
  {
   "cell_type": "markdown",
   "id": "9ddbe62d",
   "metadata": {},
   "source": [
    "## Step 2: Defining the ansatz\n",
    "We will be using the UCCSD ansatz in this example which was developed specifically for the task and provides good convergence, though with a higher circuit cost."
   ]
  },
  {
   "cell_type": "code",
   "execution_count": 17,
   "id": "17c352f4",
   "metadata": {},
   "outputs": [],
   "source": [
    "def get_ansatz(num_spin_orbitals, num_particles, initial_state):\n",
    "    return UCCSD(\n",
    "        num_orbitals=num_spin_orbitals,\n",
    "        num_particles=num_particles,\n",
    "        initial_state=initial_state,\n",
    "        qubit_mapping='parity')"
   ]
  },
  {
   "cell_type": "markdown",
   "id": "54ad7df7",
   "metadata": {},
   "source": [
    "## Step 3: Optimisation of parameters\n",
    "We appeal to the VQE algorithm for distances in the range of $[0.5,4]$ to get estimates for the ground state energies at those distances."
   ]
  },
  {
   "cell_type": "code",
   "execution_count": 15,
   "id": "32eb1537",
   "metadata": {
    "scrolled": true
   },
   "outputs": [
    {
     "name": "stdout",
     "output_type": "stream",
     "text": [
      "Interatomic Distance: 0.5 VQE Result: -7.039673441154231 Exact Energy: [-7.03973252]\n",
      "Interatomic Distance: 0.6 VQE Result: -7.313308879471847 Exact Energy: [-7.31334583]\n",
      "Interatomic Distance: 0.7 VQE Result: -7.500887035140407 Exact Energy: [-7.50092209]\n",
      "Interatomic Distance: 0.8 VQE Result: -7.6309454092259745 Exact Energy: [-7.63097825]\n",
      "Interatomic Distance: 0.9 VQE Result: -7.720781099267077 Exact Energy: [-7.72081241]\n",
      "Interatomic Distance: 1.0 VQE Result: -7.782211598710951 Exact Energy: [-7.7822424]\n",
      "Interatomic Distance: 1.1 VQE Result: -7.823568081535827 Exact Energy: [-7.82359928]\n",
      "Interatomic Distance: 1.2 VQE Result: -7.850666132758831 Exact Energy: [-7.85069838]\n",
      "Interatomic Distance: 1.3 VQE Result: -7.867529585505405 Exact Energy: [-7.86756329]\n",
      "Interatomic Distance: 1.4 VQE Result: -7.8769662539147 Exact Energy: [-7.87700149]\n",
      "Interatomic Distance: 1.5 VQE Result: -7.880979506618974 Exact Energy: [-7.88101572]\n",
      "Interatomic Distance: 1.6 VQE Result: -7.8810366152224 Exact Energy: [-7.88107204]\n",
      "Interatomic Distance: 1.7 VQE Result: -7.878236971026453 Exact Energy: [-7.87826817]\n",
      "Interatomic Distance: 1.8 VQE Result: -7.87334521780764 Exact Energy: [-7.87344029]\n",
      "Interatomic Distance: 1.9 VQE Result: -7.8671375073664205 Exact Energy: [-7.86723396]\n",
      "Interatomic Distance: 2.0 VQE Result: -7.860068380674124 Exact Energy: [-7.86015321]\n",
      "Interatomic Distance: 2.1 VQE Result: -7.852535223876043 Exact Energy: [-7.85259583]\n",
      "Interatomic Distance: 2.2 VQE Result: -7.844839386841703 Exact Energy: [-7.84487909]\n",
      "Interatomic Distance: 2.3 VQE Result: -7.837212706530124 Exact Energy: [-7.83725797]\n",
      "Interatomic Distance: 2.4 VQE Result: -7.829853246675605 Exact Energy: [-7.829937]\n",
      "Interatomic Distance: 2.5 VQE Result: -7.822930295457727 Exact Energy: [-7.82307664]\n",
      "Interatomic Distance: 2.6 VQE Result: -7.816588433692077 Exact Energy: [-7.81679515]\n",
      "Interatomic Distance: 2.7 VQE Result: -7.8109343679657055 Exact Energy: [-7.81116828]\n",
      "Interatomic Distance: 2.8 VQE Result: -7.806014817613859 Exact Energy: [-7.80622956]\n",
      "Interatomic Distance: 2.9 VQE Result: -7.801736627861576 Exact Energy: [-7.8019736]\n",
      "Interatomic Distance: 3.0 VQE Result: -7.7980835315372 Exact Energy: [-7.79836343]\n",
      "Interatomic Distance: 3.1 VQE Result: -7.795060173703503 Exact Energy: [-7.79534045]\n",
      "Interatomic Distance: 3.2 VQE Result: -7.792367398755882 Exact Energy: [-7.79283481]\n",
      "Interatomic Distance: 3.3 VQE Result: -7.789686205531288 Exact Energy: [-7.79077401]\n",
      "Interatomic Distance: 3.4 VQE Result: -7.787375439134955 Exact Energy: [-7.7890889]\n",
      "Interatomic Distance: 3.5 VQE Result: -7.785627456314653 Exact Energy: [-7.78771697]\n",
      "Interatomic Distance: 3.6 VQE Result: -7.784375121676893 Exact Energy: [-7.78660376]\n",
      "Interatomic Distance: 3.7 VQE Result: -7.783495991918261 Exact Energy: [-7.78570291]\n",
      "Interatomic Distance: 3.8 VQE Result: -7.782885672131588 Exact Energy: [-7.78497559]\n",
      "Interatomic Distance: 3.9 VQE Result: -7.782466678845639 Exact Energy: [-7.78438961]\n",
      "All energies have been calculated\n"
     ]
    }
   ],
   "source": [
    "backend = BasicAer.get_backend(\"statevector_simulator\")\n",
    "distances = np.arange(0.5, 4.0, 0.1)\n",
    "exact_energies = []\n",
    "vqe_energies = []\n",
    "optimizer = SLSQP(maxiter=5)\n",
    "for dist in distances:\n",
    "    qubitOp, num_particles, num_spin_orbitals, shift = get_qubit_op(dist)\n",
    "    result = NumPyEigensolver(qubitOp).run()\n",
    "    exact_energies.append(np.real(result.eigenvalues) + shift)\n",
    "    initial_state = HartreeFock(\n",
    "        num_spin_orbitals,\n",
    "        num_particles,\n",
    "        qubit_mapping='parity'\n",
    "    ) \n",
    "    var_form = get_ansatz(num_spin_orbitals, num_particles, initial_state)\n",
    "#     var_form = UCCSD(\n",
    "#         num_orbitals=num_spin_orbitals,\n",
    "#         num_particles=num_particles,\n",
    "#         initial_state=initial_state,\n",
    "#         qubit_mapping='parity'\n",
    "#     )\n",
    "    vqe = VQE(qubitOp, var_form, optimizer)\n",
    "    vqe_result = np.real(vqe.run(backend)['eigenvalue'] + shift)\n",
    "    vqe_energies.append(vqe_result)\n",
    "    print(\"Interatomic Distance:\", np.round(dist, 2), \"VQE Result:\", vqe_result, \"Exact Energy:\", exact_energies[-1])\n",
    "    \n",
    "print(\"All energies have been calculated\")"
   ]
  },
  {
   "cell_type": "markdown",
   "id": "0df9c7fc",
   "metadata": {},
   "source": [
    "We can verify the correctness of VQE here: the graph for energy vs distance matches the graph we get experimentally"
   ]
  },
  {
   "cell_type": "code",
   "execution_count": 16,
   "id": "e69e0369",
   "metadata": {},
   "outputs": [
    {
     "data": {
      "image/png": "[encoded data removed]",
      "text/plain": [
       "<Figure size 432x288 with 1 Axes>"
      ]
     },
     "metadata": {
      "needs_background": "light"
     },
     "output_type": "display_data"
    }
   ],
   "source": [
    "plt.plot(distances, exact_energies, label=\"Exact Energy\")\n",
    "plt.plot(distances, vqe_energies, label=\"VQE Energy\")\n",
    "plt.xlabel('Atomic distance (Angstrom)')\n",
    "plt.ylabel('Energy')\n",
    "plt.legend()\n",
    "plt.show()"
   ]
  },
  {
   "cell_type": "markdown",
   "id": "635a0495",
   "metadata": {},
   "source": [
    "Note that the VQE results are very close to the exact results, and so the exact energy curve is hidden by the VQE curve."
   ]
  },
  {
   "cell_type": "markdown",
   "id": "3c6b86d6",
   "metadata": {},
   "source": [
    "## Observations about VQE\n",
    "1. VQEs introduce us to an interesting paradigm: we create circuits with variable gates, which can potentially capture a target state given good values of the variables, and then delegate the solving process to a classical optimizer. This paradigm captures the essence of **Variational Quantum Algorithms**. \n",
    "2. VQAs are a natural extension to classical neural network models (see also [this review on VQAs](https://arxiv.org/abs/2012.09265) ), as is evident from the very similar approach employed for both. Just like classical neural network models, clever choices for the network and cost functions can generate excellent algorithms for solving many problems. In fact, as we will see later, they are so similar that we can easily embed quantum circuit layers into classical neural networks."
   ]
  },
  {
   "cell_type": "markdown",
   "id": "92148bb8",
   "metadata": {},
   "source": [
    "# Variational Quantum Algorithms"
   ]
  },
  {
   "cell_type": "markdown",
   "id": "76f187db",
   "metadata": {},
   "source": [
    "## Why VQA?\n",
    "If they are so similar, why go for quantum, and why VQAs in general?\n",
    "Provable gaurantees of efficiency of quantum over classical"
   ]
  },
  {
   "cell_type": "markdown",
   "id": "0ede7af0",
   "metadata": {},
   "source": [
    "In the following section we will go over one of the many applications for VQAs"
   ]
  },
  {
   "cell_type": "markdown",
   "id": "857461f2",
   "metadata": {},
   "source": [
    "## QAOA\n",
    "The Quantum Approximate Optimisation Algorithm is one of most famous applications of VQAs. The algorithm is designed for combinatorial optimisation problems, in which we have to choose one of many possibilities. The max-cut problem, is one such combinatorial optimisation problem. Given an undirected flow graph, the objective is to partition the set of verticies in two, such that the sum of flows between the two partitions is maximised."
   ]
  },
  {
   "cell_type": "code",
   "execution_count": 3,
   "id": "0afcba29",
   "metadata": {},
   "outputs": [],
   "source": [
    "import numpy as np\n",
    "import networkx as nx\n",
    "\n",
    "from qiskit import BasicAer\n",
    "from qiskit.aqua.algorithms import NumPyMinimumEigensolver\n",
    "from qiskit.optimization.applications.ising import graph_partition\n",
    "from qiskit.optimization.applications.ising import max_cut\n",
    "from qiskit.optimization.applications.ising.common import random_graph, sample_most_likely"
   ]
  },
  {
   "cell_type": "markdown",
   "id": "ac1422dd",
   "metadata": {},
   "source": [
    "We will be working with the very simple flow graph as shown below. ( This graph has been taken from the great QAOA tutorial at this [blog](https://www.mustythoughts.com/quantum-approximate-optimization-algorithm-explained) )"
   ]
  },
  {
   "cell_type": "code",
   "execution_count": 4,
   "id": "f390a7d3",
   "metadata": {},
   "outputs": [
    {
     "name": "stdout",
     "output_type": "stream",
     "text": [
      "[[ 0 10 10]\n",
      " [10  0  1]\n",
      " [10  1  0]]\n"
     ]
    }
   ],
   "source": [
    "num_nodes = 3\n",
    "w = np.array([[0, 10, 10], [10, 0, 1], [10, 1, 0]])\n",
    "print(w)"
   ]
  },
  {
   "cell_type": "code",
   "execution_count": 5,
   "id": "a06667aa",
   "metadata": {},
   "outputs": [
    {
     "data": {
      "image/png": "[encoded data removed]",
      "text/plain": [
       "<Figure size 432x288 with 1 Axes>"
      ]
     },
     "metadata": {},
     "output_type": "display_data"
    }
   ],
   "source": [
    "G = nx.from_numpy_matrix(w)\n",
    "layout = nx.random_layout(G, seed=10)\n",
    "colors = ['r', 'g', 'b']\n",
    "nx.draw(G, layout, node_color=colors)\n",
    "labels = nx.get_edge_attributes(G, 'weight')\n",
    "nx.draw_networkx_edge_labels(G, pos=layout, edge_labels=labels);"
   ]
  },
  {
   "cell_type": "markdown",
   "id": "0fd0a11f",
   "metadata": {},
   "source": [
    "You will find that the process followed for VQAs is very similar to the VQE procedure"
   ]
  },
  {
   "cell_type": "markdown",
   "id": "af064c55",
   "metadata": {},
   "source": [
    "## Step 1: Obtaining the Operator\n",
    "We model the max-cut problem as a cost maximisation problem. To do so, we model each vertex in the graph as a single qubit. The qubit being in state $\\left|0\\right\\rangle$ or $\\left|1\\right\\rangle$ represents whether the corresponding vertex is in the first or the second partition.\n",
    "\n",
    "We devise the following cost hamiltonian. \n",
    "\n",
    "\\begin{equation*}\n",
    "H_C = \\sum_{i,j} \\frac{w_{i,j}}{2} (1 - \\sigma_z^i\\sigma_z^j)\n",
    "\\end{equation*}\n",
    "\n",
    "Every state in which each qubit is either in either $\\left|0\\right\\rangle$ or $\\left|1\\right\\rangle$ is an eigenstate of this hamiltonian. The product $\\sigma_z^i\\sigma_z^j$ is 1 or -1 depending on whether vertices $i$ and $j$ are in the same or in different partitions. Thus the eigenvalue corresponding to any such state is equal to the sum of weights of edges going between the partitions. This is the exact value that we want to maximise in max-cut and hence we are satisfied with this construction of ours."
   ]
  },
  {
   "cell_type": "code",
   "execution_count": 5,
   "id": "2eae1d11",
   "metadata": {},
   "outputs": [
    {
     "name": "stdout",
     "output_type": "stream",
     "text": [
      "[0, 0, 0]\n",
      "0.0\n",
      "[0, 0, 1]\n",
      "11.0\n",
      "[0, 1, 0]\n",
      "11.0\n",
      "[0, 1, 1]\n",
      "20.0\n",
      "[1, 0, 0]\n",
      "20.0\n",
      "[1, 0, 1]\n",
      "11.0\n",
      "[1, 1, 0]\n",
      "11.0\n",
      "[1, 1, 1]\n",
      "0.0\n",
      "Objective value computed by the brute-force method is 20.0\n"
     ]
    }
   ],
   "source": [
    "def brute_force():\n",
    "    # use the brute-force way to generate the oracle\n",
    "    def bitfield(n, L):\n",
    "        result = np.binary_repr(n, L)\n",
    "        return [int(digit) for digit in result]  # [2:] to chop off the \"0b\" part\n",
    "\n",
    "    L = num_nodes\n",
    "    max = 2**L\n",
    "    maximal_v = -np.inf\n",
    "    for i in range(max):\n",
    "        cur = bitfield(i, L)\n",
    "        cur_v = 0\n",
    "        \n",
    "        for j in range(num_nodes):\n",
    "            for k in range(num_nodes):\n",
    "                if cur[j]!=cur[k]:\n",
    "                    cur_v += w[j][k]\n",
    "        \n",
    "        cur_v/=2\n",
    "        print(cur)\n",
    "        print(cur_v)\n",
    "        if cur_v > maximal_v:\n",
    "            maximal_v = cur_v\n",
    "    return maximal_v\n",
    "\n",
    "sol = brute_force()\n",
    "print(f'Objective value computed by the brute-force method is {sol}')"
   ]
  },
  {
   "cell_type": "markdown",
   "id": "161dd095",
   "metadata": {},
   "source": [
    "## Step 2: Defining the ansatz\n",
    "We use the following ansatz. It is developed by taking inspiration from adiabatic computation and trotterization, but is beyond the scope of this talk. Note that we take p as a parameter, which dictates the number of layers in our circuit. The higher the p the better results we get."
   ]
  },
  {
   "cell_type": "code",
   "execution_count": 7,
   "id": "a693f42e",
   "metadata": {},
   "outputs": [
    {
     "data": {
      "image/png": "[encoded data removed]",
      "text/plain": [
       "<Figure size 688.597x204.68 with 1 Axes>"
      ]
     },
     "execution_count": 7,
     "metadata": {},
     "output_type": "execute_result"
    }
   ],
   "source": [
    "from qiskit.circuit import Parameter, QuantumCircuit, QuantumRegister, ParameterVector\n",
    "\n",
    "def get_qaoa_ansatz(p=1, show=False):\n",
    "\n",
    "    ansatz = QuantumCircuit(num_nodes)\n",
    "    gamma = ParameterVector('g',p)\n",
    "    beta = ParameterVector('b',p)\n",
    "    \n",
    "    for i in range(num_nodes):\n",
    "        ansatz.h(i)\n",
    "\n",
    "    for layer in range(p):\n",
    "        if show:\n",
    "            ansatz.barrier()\n",
    "\n",
    "        for i in range(num_nodes):\n",
    "            for j in range(i+1, num_nodes):\n",
    "                ansatz.crz(-w[i][j]*2*gamma[layer], i, j)\n",
    "                ansatz.rz(gamma[layer]*w[i][j], i)\n",
    "                ansatz.rz(gamma[layer]*w[i][j], j)\n",
    "\n",
    "        if show:\n",
    "            ansatz.barrier()\n",
    "\n",
    "        for i in range(num_nodes):\n",
    "            ansatz.rx(beta[layer]*2,i)\n",
    "\n",
    "#         ansatz.barrier()\n",
    "\n",
    "        # ansatz.measure(range(num_nodes), range(num_nodes))\n",
    "\n",
    "#     ansatz.draw()\n",
    "    \n",
    "    return ansatz\n",
    "\n",
    "get_qaoa_ansatz(1, True).draw()"
   ]
  },
  {
   "cell_type": "markdown",
   "id": "0b21a466",
   "metadata": {},
   "source": [
    "## Step 3: Optimising the parameters\n",
    "Note the use of VQE routine of qiskit, to illustrate the similarity"
   ]
  },
  {
   "cell_type": "code",
   "execution_count": 9,
   "id": "9a92e139",
   "metadata": {
    "scrolled": true
   },
   "outputs": [
    {
     "name": "stdout",
     "output_type": "stream",
     "text": [
      "optimal function value: 20.0\n",
      "optimal value: [1. 0. 0.]\n",
      "status: SUCCESS\n"
     ]
    }
   ],
   "source": [
    "from qiskit import Aer\n",
    "from qiskit.algorithms import VQE, QAOA\n",
    "from IPython.display import display, clear_output\n",
    "from qiskit.algorithms.optimizers import COBYLA\n",
    "# provider = IBMQ.load_account()\n",
    "\n",
    "def callback(eval_count, parameters, mean, std):  \n",
    "    # Overwrites the same line when printing\n",
    "    display(\"Evaluation: {}, Energy: {}, Std: {}\".format(eval_count, mean, std))\n",
    "    clear_output(wait=True)\n",
    "    counts.append(eval_count)\n",
    "    values.append(mean)\n",
    "    \n",
    "    \n",
    "def run_qaoa(layers, backend_name):\n",
    "    if backend_name != \"statevector_simulator\":\n",
    "        backend = provider.get_backend(backend_name)\n",
    "    else:\n",
    "        backend = Aer.get_backend(backend_name)\n",
    "\n",
    "    ansatz = get_qaoa_ansatz(layers)\n",
    "\n",
    "    # Set initial parameters of the ansatz\n",
    "    # We choose a fixed small displacement\n",
    "    try:\n",
    "        initial_point = [0.01] * len(ansatz.ordered_parameters)\n",
    "    except:\n",
    "        initial_point = [0.01] * ansatz.num_parameters\n",
    "\n",
    "    from qiskit_optimization import QuadraticProgram\n",
    "    from qiskit_optimization.algorithms import MinimumEigenOptimizer\n",
    "    problem = QuadraticProgram()\n",
    "    _ = [problem.binary_var('x{}'.format(i)) for i in range(num_nodes)]  # create n binary variables\n",
    "    linear = w.dot(np.ones(num_nodes))\n",
    "    quadratic = -w\n",
    "    problem.maximize(linear=linear, quadratic=quadratic)\n",
    "\n",
    "    from qiskit.aqua.operators import PauliExpectation\n",
    "    # qaoa = QAOA(optimizer = COBYLA(maxiter=5000), \n",
    "    #             reps=layers, \n",
    "    #             quantum_instance=backend, \n",
    "    #             callback = callback, \n",
    "    #             initial_point = initial_point)\n",
    "    qaoa = VQE(ansatz, optimizer=COBYLA(maxiter=10), quantum_instance=backend, callback = callback, initial_point= initial_point)\n",
    "    algorithm = MinimumEigenOptimizer(qaoa)\n",
    "    result = algorithm.solve(problem)\n",
    "    return result, counts, values\n",
    "\n",
    "\n",
    "counts = []\n",
    "values = []  \n",
    "result, counts, values = run_qaoa(1,\"statevector_simulator\")\n",
    "print(result)"
   ]
  },
  {
   "cell_type": "code",
   "execution_count": 10,
   "id": "bdfb0a22",
   "metadata": {},
   "outputs": [
    {
     "data": {
      "text/plain": [
       "<matplotlib.lines.Line2D at 0x7efeacb9b1c0>"
      ]
     },
     "execution_count": 10,
     "metadata": {},
     "output_type": "execute_result"
    },
    {
     "data": {
      "image/png": "[encoded data removed]",
      "text/plain": [
       "<Figure size 432x288 with 1 Axes>"
      ]
     },
     "metadata": {
      "needs_background": "light"
     },
     "output_type": "display_data"
    }
   ],
   "source": [
    "import matplotlib.pyplot as plt\n",
    "\n",
    "fig, ax = plt.subplots(1, 1)\n",
    "ax.set_xlabel('Iterations')\n",
    "ax.set_ylabel('Cost')\n",
    "ax.grid()\n",
    "ax.plot(counts, values)\n",
    "ax.axhline(20, linestyle='--')"
   ]
  },
  {
   "cell_type": "code",
   "execution_count": 11,
   "id": "c2539bbb",
   "metadata": {},
   "outputs": [
    {
     "data": {
      "image/png": "[encoded data removed]",
      "text/plain": [
       "<Figure size 504x360 with 1 Axes>"
      ]
     },
     "execution_count": 11,
     "metadata": {},
     "output_type": "execute_result"
    }
   ],
   "source": [
    "from qiskit.visualization import plot_histogram\n",
    "\n",
    "hist={}\n",
    "labels=[]\n",
    "\n",
    "for entry in result.raw_samples:\n",
    "#     hist.append({\"\".join([str(dig) for dig in entry.x]): entry.probability*1024})\n",
    "    hist[\"\".join([str(dig) for dig in entry.x])]= entry.probability*1024\n",
    "    \n",
    "plot_histogram(hist)"
   ]
  },
  {
   "cell_type": "markdown",
   "id": "a6e46bf6",
   "metadata": {},
   "source": [
    "We get 70% probability of the best states, in just 10 steps!"
   ]
  },
  {
   "cell_type": "markdown",
   "id": "db8ae3ee",
   "metadata": {},
   "source": [
    "# NISQ\n",
    "Let's run the previous algorithm on real IBM hardware. We optimise for 10 steps to restrict the number of calls made to the hardware."
   ]
  },
  {
   "cell_type": "code",
   "execution_count": null,
   "id": "03f960d4",
   "metadata": {
    "scrolled": true
   },
   "outputs": [
    {
     "name": "stderr",
     "output_type": "stream",
     "text": [
      "/opt/conda/lib/python3.8/site-packages/qiskit/utils/run_circuits.py:382: DeprecationWarning: Passing a Qobj to Backend.run is deprecated and will be removed in a future release. Please pass in circuits or pulse schedules instead.\n",
      "  job = backend.run(qobj, **backend_options, **noise_config)\n"
     ]
    }
   ],
   "source": [
    "counts = []\n",
    "values = []  \n",
    "result, counts, values = run_qaoa(1,\"ibmq_belem\")\n",
    "print(result)"
   ]
  },
  {
   "cell_type": "code",
   "execution_count": null,
   "id": "ed5704ea",
   "metadata": {},
   "outputs": [],
   "source": [
    "fig, ax = plt.subplots(1, 1)\n",
    "ax.set_xlabel('Iterations')\n",
    "ax.set_ylabel('Cost')\n",
    "ax.grid()\n",
    "ax.plot(counts, values)\n",
    "ax.axhline(20, linestyle='--')"
   ]
  },
  {
   "cell_type": "code",
   "execution_count": null,
   "id": "5c347ba2",
   "metadata": {},
   "outputs": [],
   "source": [
    "hist={}\n",
    "labels=[]\n",
    "\n",
    "for entry in result.raw_samples:\n",
    "#     hist.append({\"\".join([str(dig) for dig in entry.x]): entry.probability*1024})\n",
    "    hist[\"\".join([str(dig) for dig in entry.x])]= entry.probability*1024\n",
    "    \n",
    "plot_histogram(hist)"
   ]
  },
  {
   "cell_type": "markdown",
   "id": "ef1a0aa3",
   "metadata": {},
   "source": [
    "The hardware reports the following frequency of occurence of states out of 1024, after 10 optimisation steps."
   ]
  },
  {
   "cell_type": "markdown",
   "id": "c36ec367",
   "metadata": {},
   "source": [
    "<img src=\"bar-chart.png\" />"
   ]
  },
  {
   "cell_type": "markdown",
   "id": "64376ca7",
   "metadata": {},
   "source": [
    "Note that the probability of the best states are only slightly more than 25%, compared to 70% from the simulator. Besides, we could have got 25% from the uniform distribution itself. But, we only optimised for 10 steps and results are not totally dissapointing. The worst states have a significantly smaller probability than the uniform distribution."
   ]
  },
  {
   "cell_type": "markdown",
   "id": "318ad114",
   "metadata": {},
   "source": [
    "# Hybrid NN for MNIST\n",
    "Hybrid NN strive to overcome difficulties of using QNNs by running shallow circuits, and on very few qubits. They still potentially provide assurances similar to VQAs by interleaving quantum layers with classical layers.\n",
    "In this example, derived from the qiskit textbook, we will append a quantum layer to a classical NN and attempt classification of 0 and 1 on the MNIST dataset. The purpose of this example is to illustrate the compatibility between quantum and classical neural networks and not to illustrate the advantages/disadvantages of any approach"
   ]
  },
  {
   "cell_type": "markdown",
   "id": "5cd3ed33",
   "metadata": {},
   "source": [
    "<img src=\"neuralnetworkQC.png\" />"
   ]
  },
  {
   "cell_type": "markdown",
   "id": "bd0b25c6",
   "metadata": {},
   "source": [
    "### Code!"
   ]
  },
  {
   "cell_type": "code",
   "execution_count": 11,
   "id": "95e25a0e",
   "metadata": {},
   "outputs": [],
   "source": [
    "import numpy as np\n",
    "import matplotlib.pyplot as plt\n",
    "\n",
    "import torch\n",
    "from torch.autograd import Function\n",
    "from torchvision import datasets, transforms\n",
    "import torch.optim as optim\n",
    "import torch.nn as nn\n",
    "import torch.nn.functional as F\n",
    "\n",
    "import qiskit\n",
    "from qiskit import transpile, assemble\n",
    "from qiskit.visualization import *"
   ]
  },
  {
   "cell_type": "markdown",
   "id": "ea0b7c1c",
   "metadata": {},
   "source": [
    "## 1. The quantum layer"
   ]
  },
  {
   "cell_type": "code",
   "execution_count": 12,
   "id": "a047d635",
   "metadata": {},
   "outputs": [],
   "source": [
    "class QuantumCircuit:\n",
    "    \"\"\" \n",
    "    This class provides a simple interface for interaction \n",
    "    with the quantum circuit \n",
    "    \"\"\"\n",
    "    \n",
    "    def __init__(self, n_qubits, backend, shots):\n",
    "        # --- Circuit definition ---\n",
    "        self._circuit = qiskit.QuantumCircuit(n_qubits)\n",
    "        \n",
    "        all_qubits = [i for i in range(n_qubits)]\n",
    "        self.theta = qiskit.circuit.Parameter('theta')\n",
    "        \n",
    "        self._circuit.h(all_qubits)\n",
    "        self._circuit.barrier()\n",
    "        self._circuit.ry(self.theta, all_qubits)\n",
    "        \n",
    "        self._circuit.measure_all()\n",
    "        # ---------------------------\n",
    "\n",
    "        self.backend = backend\n",
    "        self.shots = shots\n",
    "    \n",
    "    def run(self, thetas):\n",
    "        t_qc = transpile(self._circuit,\n",
    "                         self.backend)\n",
    "        qobj = assemble(t_qc,\n",
    "                        shots=self.shots,\n",
    "                        parameter_binds = [{self.theta: theta} for theta in thetas])\n",
    "        job = self.backend.run(qobj)\n",
    "        result = job.result().get_counts()\n",
    "        \n",
    "        counts = np.array(list(result.values()))\n",
    "        states = np.array(list(result.keys())).astype(float)\n",
    "        \n",
    "        # Compute probabilities for each state\n",
    "        probabilities = counts / self.shots\n",
    "        # Get state expectation\n",
    "        expectation = np.sum(states * probabilities)\n",
    "        \n",
    "        return np.array([expectation])"
   ]
  },
  {
   "cell_type": "markdown",
   "id": "c0077ff2",
   "metadata": {},
   "source": [
    "## 2. Define forward and backward passes\n",
    "Treat the quantum layer as a black box and compute gradients on the quantum layer using stochastic approximation"
   ]
  },
  {
   "cell_type": "code",
   "execution_count": 13,
   "id": "c6e4b4ba",
   "metadata": {},
   "outputs": [],
   "source": [
    "class HybridFunction(Function):\n",
    "    \"\"\" Hybrid quantum - classical function definition \"\"\"\n",
    "    \n",
    "    @staticmethod\n",
    "    def forward(ctx, input, quantum_circuit, shift):\n",
    "        \"\"\" Forward pass computation \"\"\"\n",
    "        ctx.shift = shift\n",
    "        ctx.quantum_circuit = quantum_circuit\n",
    "\n",
    "        expectation_z = ctx.quantum_circuit.run(input[0].tolist())\n",
    "        result = torch.tensor([expectation_z])\n",
    "        ctx.save_for_backward(input, result)\n",
    "\n",
    "        return result\n",
    "        \n",
    "    @staticmethod\n",
    "    def backward(ctx, grad_output):\n",
    "        \"\"\" Backward pass computation \"\"\"\n",
    "        input, expectation_z = ctx.saved_tensors\n",
    "        input_list = np.array(input.tolist())\n",
    "        \n",
    "        shift_right = input_list + np.ones(input_list.shape) * ctx.shift\n",
    "        shift_left = input_list - np.ones(input_list.shape) * ctx.shift\n",
    "        \n",
    "        gradients = []\n",
    "        for i in range(len(input_list)):\n",
    "            expectation_right = ctx.quantum_circuit.run(shift_right[i])\n",
    "            expectation_left  = ctx.quantum_circuit.run(shift_left[i])\n",
    "            \n",
    "            gradient = torch.tensor([expectation_right]) - torch.tensor([expectation_left])\n",
    "            gradients.append(gradient)\n",
    "        gradients = np.array([gradients]).T\n",
    "        return torch.tensor([gradients]).float() * grad_output.float(), None, None\n",
    "\n",
    "class Hybrid(nn.Module):\n",
    "    \"\"\" Hybrid quantum - classical layer definition \"\"\"\n",
    "    \n",
    "    def __init__(self, backend, shots, shift):\n",
    "        super(Hybrid, self).__init__()\n",
    "        self.quantum_circuit = QuantumCircuit(1, backend, shots)\n",
    "        self.shift = shift\n",
    "        \n",
    "    def forward(self, input):\n",
    "        return HybridFunction.apply(input, self.quantum_circuit, self.shift)"
   ]
  },
  {
   "cell_type": "markdown",
   "id": "7bfd0905",
   "metadata": {},
   "source": [
    "## 3. Creating the final NN"
   ]
  },
  {
   "cell_type": "code",
   "execution_count": 14,
   "id": "67ea52b5",
   "metadata": {},
   "outputs": [],
   "source": [
    "class Net(nn.Module):\n",
    "    def __init__(self):\n",
    "        super(Net, self).__init__()\n",
    "        self.conv1 = nn.Conv2d(1, 6, kernel_size=5)\n",
    "        self.conv2 = nn.Conv2d(6, 16, kernel_size=5)\n",
    "        self.dropout = nn.Dropout2d()\n",
    "        self.fc1 = nn.Linear(256, 64)\n",
    "        self.fc2 = nn.Linear(64, 1)\n",
    "        self.hybrid = Hybrid(qiskit.Aer.get_backend('qasm_simulator'), 100, np.pi / 2)\n",
    "\n",
    "    def forward(self, x):\n",
    "        x = F.relu(self.conv1(x))\n",
    "        x = F.max_pool2d(x, 2)\n",
    "        x = F.relu(self.conv2(x))\n",
    "        x = F.max_pool2d(x, 2)\n",
    "        x = self.dropout(x)\n",
    "        x = x.view(1, -1)\n",
    "        x = F.relu(self.fc1(x))\n",
    "        x = self.fc2(x)\n",
    "        x = self.hybrid(x)\n",
    "        return torch.cat((x, 1 - x), -1)"
   ]
  },
  {
   "cell_type": "markdown",
   "id": "424418b7",
   "metadata": {},
   "source": [
    "### Data Loading"
   ]
  },
  {
   "cell_type": "code",
   "execution_count": 15,
   "id": "ee949c4d",
   "metadata": {},
   "outputs": [],
   "source": [
    "# Concentrating on the first 100 samples\n",
    "n_samples = 100\n",
    "\n",
    "X_train = datasets.MNIST(root='./data', train=True, download=True,\n",
    "                         transform=transforms.Compose([transforms.ToTensor()]))\n",
    "\n",
    "# Leaving only labels 0 and 1 \n",
    "idx = np.append(np.where(X_train.targets == 0)[0][:n_samples], \n",
    "                np.where(X_train.targets == 1)[0][:n_samples])\n",
    "\n",
    "X_train.data = X_train.data[idx]\n",
    "X_train.targets = X_train.targets[idx]\n",
    "\n",
    "train_loader = torch.utils.data.DataLoader(X_train, batch_size=1, shuffle=True)"
   ]
  },
  {
   "cell_type": "code",
   "execution_count": 16,
   "id": "d59eeba4",
   "metadata": {},
   "outputs": [
    {
     "data": {
      "image/png": "[encoded data removed]",
      "text/plain": [
       "<Figure size 720x216 with 6 Axes>"
      ]
     },
     "metadata": {},
     "output_type": "display_data"
    }
   ],
   "source": [
    "n_samples_show = 6\n",
    "\n",
    "data_iter = iter(train_loader)\n",
    "fig, axes = plt.subplots(nrows=1, ncols=n_samples_show, figsize=(10, 3))\n",
    "\n",
    "while n_samples_show > 0:\n",
    "    images, targets = data_iter.__next__()\n",
    "\n",
    "    axes[n_samples_show - 1].imshow(images[0].numpy().squeeze(), cmap='gray')\n",
    "    axes[n_samples_show - 1].set_xticks([])\n",
    "    axes[n_samples_show - 1].set_yticks([])\n",
    "    axes[n_samples_show - 1].set_title(\"Labeled: {}\".format(targets.item()))\n",
    "    \n",
    "    n_samples_show -= 1"
   ]
  },
  {
   "cell_type": "code",
   "execution_count": 17,
   "id": "3f871357",
   "metadata": {},
   "outputs": [],
   "source": [
    "n_samples = 50\n",
    "\n",
    "X_test = datasets.MNIST(root='./data', train=False, download=True,\n",
    "                        transform=transforms.Compose([transforms.ToTensor()]))\n",
    "\n",
    "idx = np.append(np.where(X_test.targets == 0)[0][:n_samples], \n",
    "                np.where(X_test.targets == 1)[0][:n_samples])\n",
    "\n",
    "X_test.data = X_test.data[idx]\n",
    "X_test.targets = X_test.targets[idx]\n",
    "\n",
    "test_loader = torch.utils.data.DataLoader(X_test, batch_size=1, shuffle=True)"
   ]
  },
  {
   "cell_type": "markdown",
   "id": "05bc8590",
   "metadata": {},
   "source": [
    "## 4. Training"
   ]
  },
  {
   "cell_type": "code",
   "execution_count": 18,
   "id": "1019c10c",
   "metadata": {},
   "outputs": [
    {
     "name": "stdout",
     "output_type": "stream",
     "text": [
      "Training [5%]\tLoss: -0.7814\n",
      "Training [10%]\tLoss: -0.9142\n",
      "Training [15%]\tLoss: -0.9305\n",
      "Training [20%]\tLoss: -0.9376\n",
      "Training [25%]\tLoss: -0.9483\n",
      "Training [30%]\tLoss: -0.9558\n",
      "Training [35%]\tLoss: -0.9576\n",
      "Training [40%]\tLoss: -0.9570\n",
      "Training [45%]\tLoss: -0.9698\n",
      "Training [50%]\tLoss: -0.9646\n",
      "Training [55%]\tLoss: -0.9806\n",
      "Training [60%]\tLoss: -0.9727\n",
      "Training [65%]\tLoss: -0.9788\n",
      "Training [70%]\tLoss: -0.9855\n",
      "Training [75%]\tLoss: -0.9863\n",
      "Training [80%]\tLoss: -0.9840\n",
      "Training [85%]\tLoss: -0.9869\n",
      "Training [90%]\tLoss: -0.9862\n",
      "Training [95%]\tLoss: -0.9843\n",
      "Training [100%]\tLoss: -0.9885\n"
     ]
    }
   ],
   "source": [
    "model = Net()\n",
    "optimizer = optim.Adam(model.parameters(), lr=0.001)\n",
    "loss_func = nn.NLLLoss()\n",
    "\n",
    "epochs = 20\n",
    "loss_list = []\n",
    "\n",
    "model.train()\n",
    "for epoch in range(epochs):\n",
    "    total_loss = []\n",
    "    for batch_idx, (data, target) in enumerate(train_loader):\n",
    "        optimizer.zero_grad()\n",
    "        # Forward pass\n",
    "        output = model(data)\n",
    "        # Calculating loss\n",
    "        loss = loss_func(output, target)\n",
    "        # Backward pass\n",
    "        loss.backward()\n",
    "        # Optimize the weights\n",
    "        optimizer.step()\n",
    "        \n",
    "        total_loss.append(loss.item())\n",
    "    loss_list.append(sum(total_loss)/len(total_loss))\n",
    "    print('Training [{:.0f}%]\\tLoss: {:.4f}'.format(\n",
    "        100. * (epoch + 1) / epochs, loss_list[-1]))"
   ]
  },
  {
   "cell_type": "code",
   "execution_count": 19,
   "id": "5a49ec19",
   "metadata": {},
   "outputs": [
    {
     "data": {
      "text/plain": [
       "Text(0, 0.5, 'Neg Log Likelihood Loss')"
      ]
     },
     "execution_count": 19,
     "metadata": {},
     "output_type": "execute_result"
    },
    {
     "data": {
      "image/png": "[encoded data removed]",
      "text/plain": [
       "<Figure size 432x288 with 1 Axes>"
      ]
     },
     "metadata": {
      "needs_background": "light"
     },
     "output_type": "display_data"
    }
   ],
   "source": [
    "plt.plot(loss_list)\n",
    "plt.title('Hybrid NN Training Convergence')\n",
    "plt.xlabel('Training Iterations')\n",
    "plt.ylabel('Neg Log Likelihood Loss')"
   ]
  },
  {
   "cell_type": "markdown",
   "id": "53cdc592",
   "metadata": {},
   "source": [
    "### Testing"
   ]
  },
  {
   "cell_type": "code",
   "execution_count": 20,
   "id": "573de21e",
   "metadata": {},
   "outputs": [
    {
     "name": "stdout",
     "output_type": "stream",
     "text": [
      "Performance on test data:\n",
      "\tLoss: -0.9860\n",
      "\tAccuracy: 100.0%\n"
     ]
    }
   ],
   "source": [
    "model.eval()\n",
    "with torch.no_grad():\n",
    "    \n",
    "    correct = 0\n",
    "    for batch_idx, (data, target) in enumerate(test_loader):\n",
    "        output = model(data)\n",
    "        \n",
    "        pred = output.argmax(dim=1, keepdim=True) \n",
    "        correct += pred.eq(target.view_as(pred)).sum().item()\n",
    "        \n",
    "        loss = loss_func(output, target)\n",
    "        total_loss.append(loss.item())\n",
    "        \n",
    "    print('Performance on test data:\\n\\tLoss: {:.4f}\\n\\tAccuracy: {:.1f}%'.format(\n",
    "        sum(total_loss) / len(total_loss),\n",
    "        correct / len(test_loader) * 100)\n",
    "        )"
   ]
  },
  {
   "cell_type": "code",
   "execution_count": 21,
   "id": "374c43e3",
   "metadata": {},
   "outputs": [
    {
     "data": {
      "image/png": "[encoded data removed]",
      "text/plain": [
       "<Figure size 720x216 with 6 Axes>"
      ]
     },
     "metadata": {},
     "output_type": "display_data"
    }
   ],
   "source": [
    "n_samples_show = 6\n",
    "count = 0\n",
    "fig, axes = plt.subplots(nrows=1, ncols=n_samples_show, figsize=(10, 3))\n",
    "\n",
    "model.eval()\n",
    "with torch.no_grad():\n",
    "    for batch_idx, (data, target) in enumerate(test_loader):\n",
    "        if count == n_samples_show:\n",
    "            break\n",
    "        output = model(data)\n",
    "        \n",
    "        pred = output.argmax(dim=1, keepdim=True) \n",
    "\n",
    "        axes[count].imshow(data[0].numpy().squeeze(), cmap='gray')\n",
    "\n",
    "        axes[count].set_xticks([])\n",
    "        axes[count].set_yticks([])\n",
    "        axes[count].set_title('Predicted {}'.format(pred.item()))\n",
    "        \n",
    "        count += 1"
   ]
  },
  {
   "cell_type": "markdown",
   "id": "dbf083ba",
   "metadata": {},
   "source": [
    "# Takeaways\n",
    "1. Learnt VQE implementation and how they work\n",
    "2. VQEs/VQAs have provable efficiencies gaurantees over classical techniques in many cases\n",
    "3. Learnt QAOA implementation\n",
    "4. VQAs are similar to classical NN and can be embedded into classical NNs\n",
    "5. SOTA hardware work. But do introduce a lot of noise to the system. Need workarounds"
   ]
  },
  {
   "cell_type": "markdown",
   "id": "8b81d96f",
   "metadata": {},
   "source": [
    "# Questions"
   ]
  },
  {
   "cell_type": "code",
   "execution_count": null,
   "id": "ea4de6c7",
   "metadata": {},
   "outputs": [],
   "source": []
  }
 ],
 "metadata": {
  "kernelspec": {
   "display_name": "Python 3",
   "language": "python",
   "name": "python3"
  },
  "language_info": {
   "codemirror_mode": {
    "name": "ipython",
    "version": 3
   },
   "file_extension": ".py",
   "mimetype": "text/x-python",
   "name": "python",
   "nbconvert_exporter": "python",
   "pygments_lexer": "ipython3",
   "version": "3.8.10"
  }
 },
 "nbformat": 4,
 "nbformat_minor": 5
}
